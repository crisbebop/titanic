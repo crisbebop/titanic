{
 "cells": [
  {
   "cell_type": "code",
   "execution_count": 1,
   "metadata": {},
   "outputs": [],
   "source": [
    "import pandas as pd\n",
    "import seaborn as sns\n",
    "import numpy as np\n",
    "\n",
    "#Gráficos\n",
    "import matplotlib.pyplot as plt"
   ]
  },
  {
   "cell_type": "code",
   "execution_count": 2,
   "metadata": {},
   "outputs": [],
   "source": [
    "train_data = pd.read_csv('./train.csv')\n",
    "test_data = pd.read_csv(('./test.csv'))\n",
    "\n",
    "traindex = train_data.index\n",
    "testdex = test_data.index"
   ]
  },
  {
   "cell_type": "code",
   "execution_count": 3,
   "metadata": {},
   "outputs": [
    {
     "data": {
      "text/html": [
       "<div>\n",
       "<style scoped>\n",
       "    .dataframe tbody tr th:only-of-type {\n",
       "        vertical-align: middle;\n",
       "    }\n",
       "\n",
       "    .dataframe tbody tr th {\n",
       "        vertical-align: top;\n",
       "    }\n",
       "\n",
       "    .dataframe thead th {\n",
       "        text-align: right;\n",
       "    }\n",
       "</style>\n",
       "<table border=\"1\" class=\"dataframe\">\n",
       "  <thead>\n",
       "    <tr style=\"text-align: right;\">\n",
       "      <th></th>\n",
       "      <th>PassengerId</th>\n",
       "      <th>Pclass</th>\n",
       "      <th>Age</th>\n",
       "      <th>SibSp</th>\n",
       "      <th>Parch</th>\n",
       "      <th>Fare</th>\n",
       "    </tr>\n",
       "  </thead>\n",
       "  <tbody>\n",
       "    <tr>\n",
       "      <th>count</th>\n",
       "      <td>418.000000</td>\n",
       "      <td>418.000000</td>\n",
       "      <td>332.000000</td>\n",
       "      <td>418.000000</td>\n",
       "      <td>418.000000</td>\n",
       "      <td>417.000000</td>\n",
       "    </tr>\n",
       "    <tr>\n",
       "      <th>mean</th>\n",
       "      <td>1100.500000</td>\n",
       "      <td>2.265550</td>\n",
       "      <td>30.272590</td>\n",
       "      <td>0.447368</td>\n",
       "      <td>0.392344</td>\n",
       "      <td>35.627188</td>\n",
       "    </tr>\n",
       "    <tr>\n",
       "      <th>std</th>\n",
       "      <td>120.810458</td>\n",
       "      <td>0.841838</td>\n",
       "      <td>14.181209</td>\n",
       "      <td>0.896760</td>\n",
       "      <td>0.981429</td>\n",
       "      <td>55.907576</td>\n",
       "    </tr>\n",
       "    <tr>\n",
       "      <th>min</th>\n",
       "      <td>892.000000</td>\n",
       "      <td>1.000000</td>\n",
       "      <td>0.170000</td>\n",
       "      <td>0.000000</td>\n",
       "      <td>0.000000</td>\n",
       "      <td>0.000000</td>\n",
       "    </tr>\n",
       "    <tr>\n",
       "      <th>25%</th>\n",
       "      <td>996.250000</td>\n",
       "      <td>1.000000</td>\n",
       "      <td>21.000000</td>\n",
       "      <td>0.000000</td>\n",
       "      <td>0.000000</td>\n",
       "      <td>7.895800</td>\n",
       "    </tr>\n",
       "    <tr>\n",
       "      <th>50%</th>\n",
       "      <td>1100.500000</td>\n",
       "      <td>3.000000</td>\n",
       "      <td>27.000000</td>\n",
       "      <td>0.000000</td>\n",
       "      <td>0.000000</td>\n",
       "      <td>14.454200</td>\n",
       "    </tr>\n",
       "    <tr>\n",
       "      <th>75%</th>\n",
       "      <td>1204.750000</td>\n",
       "      <td>3.000000</td>\n",
       "      <td>39.000000</td>\n",
       "      <td>1.000000</td>\n",
       "      <td>0.000000</td>\n",
       "      <td>31.500000</td>\n",
       "    </tr>\n",
       "    <tr>\n",
       "      <th>max</th>\n",
       "      <td>1309.000000</td>\n",
       "      <td>3.000000</td>\n",
       "      <td>76.000000</td>\n",
       "      <td>8.000000</td>\n",
       "      <td>9.000000</td>\n",
       "      <td>512.329200</td>\n",
       "    </tr>\n",
       "  </tbody>\n",
       "</table>\n",
       "</div>"
      ],
      "text/plain": [
       "       PassengerId      Pclass         Age       SibSp       Parch        Fare\n",
       "count   418.000000  418.000000  332.000000  418.000000  418.000000  417.000000\n",
       "mean   1100.500000    2.265550   30.272590    0.447368    0.392344   35.627188\n",
       "std     120.810458    0.841838   14.181209    0.896760    0.981429   55.907576\n",
       "min     892.000000    1.000000    0.170000    0.000000    0.000000    0.000000\n",
       "25%     996.250000    1.000000   21.000000    0.000000    0.000000    7.895800\n",
       "50%    1100.500000    3.000000   27.000000    0.000000    0.000000   14.454200\n",
       "75%    1204.750000    3.000000   39.000000    1.000000    0.000000   31.500000\n",
       "max    1309.000000    3.000000   76.000000    8.000000    9.000000  512.329200"
      ]
     },
     "execution_count": 3,
     "metadata": {},
     "output_type": "execute_result"
    }
   ],
   "source": [
    "test_data.describe()"
   ]
  },
  {
   "attachments": {},
   "cell_type": "markdown",
   "metadata": {},
   "source": [
    "Uno los datos por medio de concat, los test data son los últimos 418 registros, es necesario resetear el índice para evitar valores duplicados"
   ]
  },
  {
   "cell_type": "code",
   "execution_count": 4,
   "metadata": {},
   "outputs": [],
   "source": [
    "titanic = pd.concat([train_data, test_data],ignore_index=True)"
   ]
  },
  {
   "cell_type": "code",
   "execution_count": 5,
   "metadata": {},
   "outputs": [
    {
     "data": {
      "text/html": [
       "<div>\n",
       "<style scoped>\n",
       "    .dataframe tbody tr th:only-of-type {\n",
       "        vertical-align: middle;\n",
       "    }\n",
       "\n",
       "    .dataframe tbody tr th {\n",
       "        vertical-align: top;\n",
       "    }\n",
       "\n",
       "    .dataframe thead th {\n",
       "        text-align: right;\n",
       "    }\n",
       "</style>\n",
       "<table border=\"1\" class=\"dataframe\">\n",
       "  <thead>\n",
       "    <tr style=\"text-align: right;\">\n",
       "      <th></th>\n",
       "      <th>PassengerId</th>\n",
       "      <th>Survived</th>\n",
       "      <th>Pclass</th>\n",
       "      <th>Name</th>\n",
       "      <th>Sex</th>\n",
       "      <th>Age</th>\n",
       "      <th>SibSp</th>\n",
       "      <th>Parch</th>\n",
       "      <th>Ticket</th>\n",
       "      <th>Fare</th>\n",
       "      <th>Cabin</th>\n",
       "      <th>Embarked</th>\n",
       "    </tr>\n",
       "  </thead>\n",
       "  <tbody>\n",
       "    <tr>\n",
       "      <th>0</th>\n",
       "      <td>1</td>\n",
       "      <td>0.0</td>\n",
       "      <td>3</td>\n",
       "      <td>Braund, Mr. Owen Harris</td>\n",
       "      <td>male</td>\n",
       "      <td>22.0</td>\n",
       "      <td>1</td>\n",
       "      <td>0</td>\n",
       "      <td>A/5 21171</td>\n",
       "      <td>7.2500</td>\n",
       "      <td>NaN</td>\n",
       "      <td>S</td>\n",
       "    </tr>\n",
       "    <tr>\n",
       "      <th>1</th>\n",
       "      <td>2</td>\n",
       "      <td>1.0</td>\n",
       "      <td>1</td>\n",
       "      <td>Cumings, Mrs. John Bradley (Florence Briggs Th...</td>\n",
       "      <td>female</td>\n",
       "      <td>38.0</td>\n",
       "      <td>1</td>\n",
       "      <td>0</td>\n",
       "      <td>PC 17599</td>\n",
       "      <td>71.2833</td>\n",
       "      <td>C85</td>\n",
       "      <td>C</td>\n",
       "    </tr>\n",
       "    <tr>\n",
       "      <th>2</th>\n",
       "      <td>3</td>\n",
       "      <td>1.0</td>\n",
       "      <td>3</td>\n",
       "      <td>Heikkinen, Miss. Laina</td>\n",
       "      <td>female</td>\n",
       "      <td>26.0</td>\n",
       "      <td>0</td>\n",
       "      <td>0</td>\n",
       "      <td>STON/O2. 3101282</td>\n",
       "      <td>7.9250</td>\n",
       "      <td>NaN</td>\n",
       "      <td>S</td>\n",
       "    </tr>\n",
       "    <tr>\n",
       "      <th>3</th>\n",
       "      <td>4</td>\n",
       "      <td>1.0</td>\n",
       "      <td>1</td>\n",
       "      <td>Futrelle, Mrs. Jacques Heath (Lily May Peel)</td>\n",
       "      <td>female</td>\n",
       "      <td>35.0</td>\n",
       "      <td>1</td>\n",
       "      <td>0</td>\n",
       "      <td>113803</td>\n",
       "      <td>53.1000</td>\n",
       "      <td>C123</td>\n",
       "      <td>S</td>\n",
       "    </tr>\n",
       "    <tr>\n",
       "      <th>4</th>\n",
       "      <td>5</td>\n",
       "      <td>0.0</td>\n",
       "      <td>3</td>\n",
       "      <td>Allen, Mr. William Henry</td>\n",
       "      <td>male</td>\n",
       "      <td>35.0</td>\n",
       "      <td>0</td>\n",
       "      <td>0</td>\n",
       "      <td>373450</td>\n",
       "      <td>8.0500</td>\n",
       "      <td>NaN</td>\n",
       "      <td>S</td>\n",
       "    </tr>\n",
       "  </tbody>\n",
       "</table>\n",
       "</div>"
      ],
      "text/plain": [
       "   PassengerId  Survived  Pclass  \\\n",
       "0            1       0.0       3   \n",
       "1            2       1.0       1   \n",
       "2            3       1.0       3   \n",
       "3            4       1.0       1   \n",
       "4            5       0.0       3   \n",
       "\n",
       "                                                Name     Sex   Age  SibSp  \\\n",
       "0                            Braund, Mr. Owen Harris    male  22.0      1   \n",
       "1  Cumings, Mrs. John Bradley (Florence Briggs Th...  female  38.0      1   \n",
       "2                             Heikkinen, Miss. Laina  female  26.0      0   \n",
       "3       Futrelle, Mrs. Jacques Heath (Lily May Peel)  female  35.0      1   \n",
       "4                           Allen, Mr. William Henry    male  35.0      0   \n",
       "\n",
       "   Parch            Ticket     Fare Cabin Embarked  \n",
       "0      0         A/5 21171   7.2500   NaN        S  \n",
       "1      0          PC 17599  71.2833   C85        C  \n",
       "2      0  STON/O2. 3101282   7.9250   NaN        S  \n",
       "3      0            113803  53.1000  C123        S  \n",
       "4      0            373450   8.0500   NaN        S  "
      ]
     },
     "execution_count": 5,
     "metadata": {},
     "output_type": "execute_result"
    }
   ],
   "source": [
    "titanic.head()"
   ]
  },
  {
   "cell_type": "code",
   "execution_count": 6,
   "metadata": {},
   "outputs": [
    {
     "data": {
      "text/plain": [
       "0"
      ]
     },
     "execution_count": 6,
     "metadata": {},
     "output_type": "execute_result"
    }
   ],
   "source": [
    "titanic.duplicated().sum()"
   ]
  },
  {
   "cell_type": "code",
   "execution_count": 7,
   "metadata": {},
   "outputs": [
    {
     "data": {
      "text/plain": [
       "(1309, 12)"
      ]
     },
     "execution_count": 7,
     "metadata": {},
     "output_type": "execute_result"
    }
   ],
   "source": [
    "titanic.shape"
   ]
  },
  {
   "attachments": {},
   "cell_type": "markdown",
   "metadata": {},
   "source": [
    "Eliminamos el ID, el nombre y el ticket"
   ]
  },
  {
   "cell_type": "code",
   "execution_count": 8,
   "metadata": {},
   "outputs": [],
   "source": [
    "titanic.drop(['PassengerId', 'Name','Ticket'], axis='columns',inplace=True)"
   ]
  },
  {
   "attachments": {},
   "cell_type": "markdown",
   "metadata": {},
   "source": [
    "Tambien se observa que los 418 registros que no tienen 'Survived' son los datos test"
   ]
  },
  {
   "cell_type": "code",
   "execution_count": 9,
   "metadata": {},
   "outputs": [
    {
     "data": {
      "text/plain": [
       "Survived     418\n",
       "Pclass         0\n",
       "Sex            0\n",
       "Age          263\n",
       "SibSp          0\n",
       "Parch          0\n",
       "Fare           1\n",
       "Cabin       1014\n",
       "Embarked       2\n",
       "dtype: int64"
      ]
     },
     "execution_count": 9,
     "metadata": {},
     "output_type": "execute_result"
    }
   ],
   "source": [
    "titanic.isnull().sum()"
   ]
  },
  {
   "cell_type": "code",
   "execution_count": 10,
   "metadata": {},
   "outputs": [
    {
     "name": "stdout",
     "output_type": "stream",
     "text": [
      "<class 'pandas.core.frame.DataFrame'>\n",
      "RangeIndex: 1309 entries, 0 to 1308\n",
      "Data columns (total 9 columns):\n",
      " #   Column    Non-Null Count  Dtype  \n",
      "---  ------    --------------  -----  \n",
      " 0   Survived  891 non-null    float64\n",
      " 1   Pclass    1309 non-null   int64  \n",
      " 2   Sex       1309 non-null   object \n",
      " 3   Age       1046 non-null   float64\n",
      " 4   SibSp     1309 non-null   int64  \n",
      " 5   Parch     1309 non-null   int64  \n",
      " 6   Fare      1308 non-null   float64\n",
      " 7   Cabin     295 non-null    object \n",
      " 8   Embarked  1307 non-null   object \n",
      "dtypes: float64(3), int64(3), object(3)\n",
      "memory usage: 92.2+ KB\n"
     ]
    }
   ],
   "source": [
    "titanic.info()"
   ]
  },
  {
   "cell_type": "code",
   "execution_count": 11,
   "metadata": {},
   "outputs": [
    {
     "data": {
      "text/html": [
       "<div>\n",
       "<style scoped>\n",
       "    .dataframe tbody tr th:only-of-type {\n",
       "        vertical-align: middle;\n",
       "    }\n",
       "\n",
       "    .dataframe tbody tr th {\n",
       "        vertical-align: top;\n",
       "    }\n",
       "\n",
       "    .dataframe thead th {\n",
       "        text-align: right;\n",
       "    }\n",
       "</style>\n",
       "<table border=\"1\" class=\"dataframe\">\n",
       "  <thead>\n",
       "    <tr style=\"text-align: right;\">\n",
       "      <th></th>\n",
       "      <th>Survived</th>\n",
       "      <th>Pclass</th>\n",
       "      <th>Sex</th>\n",
       "      <th>Age</th>\n",
       "      <th>SibSp</th>\n",
       "      <th>Parch</th>\n",
       "      <th>Fare</th>\n",
       "      <th>Cabin</th>\n",
       "      <th>Embarked</th>\n",
       "    </tr>\n",
       "  </thead>\n",
       "  <tbody>\n",
       "    <tr>\n",
       "      <th>891</th>\n",
       "      <td>NaN</td>\n",
       "      <td>3</td>\n",
       "      <td>male</td>\n",
       "      <td>34.5</td>\n",
       "      <td>0</td>\n",
       "      <td>0</td>\n",
       "      <td>7.8292</td>\n",
       "      <td>NaN</td>\n",
       "      <td>Q</td>\n",
       "    </tr>\n",
       "    <tr>\n",
       "      <th>892</th>\n",
       "      <td>NaN</td>\n",
       "      <td>3</td>\n",
       "      <td>female</td>\n",
       "      <td>47.0</td>\n",
       "      <td>1</td>\n",
       "      <td>0</td>\n",
       "      <td>7.0000</td>\n",
       "      <td>NaN</td>\n",
       "      <td>S</td>\n",
       "    </tr>\n",
       "    <tr>\n",
       "      <th>893</th>\n",
       "      <td>NaN</td>\n",
       "      <td>2</td>\n",
       "      <td>male</td>\n",
       "      <td>62.0</td>\n",
       "      <td>0</td>\n",
       "      <td>0</td>\n",
       "      <td>9.6875</td>\n",
       "      <td>NaN</td>\n",
       "      <td>Q</td>\n",
       "    </tr>\n",
       "    <tr>\n",
       "      <th>894</th>\n",
       "      <td>NaN</td>\n",
       "      <td>3</td>\n",
       "      <td>male</td>\n",
       "      <td>27.0</td>\n",
       "      <td>0</td>\n",
       "      <td>0</td>\n",
       "      <td>8.6625</td>\n",
       "      <td>NaN</td>\n",
       "      <td>S</td>\n",
       "    </tr>\n",
       "    <tr>\n",
       "      <th>895</th>\n",
       "      <td>NaN</td>\n",
       "      <td>3</td>\n",
       "      <td>female</td>\n",
       "      <td>22.0</td>\n",
       "      <td>1</td>\n",
       "      <td>1</td>\n",
       "      <td>12.2875</td>\n",
       "      <td>NaN</td>\n",
       "      <td>S</td>\n",
       "    </tr>\n",
       "    <tr>\n",
       "      <th>...</th>\n",
       "      <td>...</td>\n",
       "      <td>...</td>\n",
       "      <td>...</td>\n",
       "      <td>...</td>\n",
       "      <td>...</td>\n",
       "      <td>...</td>\n",
       "      <td>...</td>\n",
       "      <td>...</td>\n",
       "      <td>...</td>\n",
       "    </tr>\n",
       "    <tr>\n",
       "      <th>1304</th>\n",
       "      <td>NaN</td>\n",
       "      <td>3</td>\n",
       "      <td>male</td>\n",
       "      <td>NaN</td>\n",
       "      <td>0</td>\n",
       "      <td>0</td>\n",
       "      <td>8.0500</td>\n",
       "      <td>NaN</td>\n",
       "      <td>S</td>\n",
       "    </tr>\n",
       "    <tr>\n",
       "      <th>1305</th>\n",
       "      <td>NaN</td>\n",
       "      <td>1</td>\n",
       "      <td>female</td>\n",
       "      <td>39.0</td>\n",
       "      <td>0</td>\n",
       "      <td>0</td>\n",
       "      <td>108.9000</td>\n",
       "      <td>C105</td>\n",
       "      <td>C</td>\n",
       "    </tr>\n",
       "    <tr>\n",
       "      <th>1306</th>\n",
       "      <td>NaN</td>\n",
       "      <td>3</td>\n",
       "      <td>male</td>\n",
       "      <td>38.5</td>\n",
       "      <td>0</td>\n",
       "      <td>0</td>\n",
       "      <td>7.2500</td>\n",
       "      <td>NaN</td>\n",
       "      <td>S</td>\n",
       "    </tr>\n",
       "    <tr>\n",
       "      <th>1307</th>\n",
       "      <td>NaN</td>\n",
       "      <td>3</td>\n",
       "      <td>male</td>\n",
       "      <td>NaN</td>\n",
       "      <td>0</td>\n",
       "      <td>0</td>\n",
       "      <td>8.0500</td>\n",
       "      <td>NaN</td>\n",
       "      <td>S</td>\n",
       "    </tr>\n",
       "    <tr>\n",
       "      <th>1308</th>\n",
       "      <td>NaN</td>\n",
       "      <td>3</td>\n",
       "      <td>male</td>\n",
       "      <td>NaN</td>\n",
       "      <td>1</td>\n",
       "      <td>1</td>\n",
       "      <td>22.3583</td>\n",
       "      <td>NaN</td>\n",
       "      <td>C</td>\n",
       "    </tr>\n",
       "  </tbody>\n",
       "</table>\n",
       "<p>418 rows × 9 columns</p>\n",
       "</div>"
      ],
      "text/plain": [
       "      Survived  Pclass     Sex   Age  SibSp  Parch      Fare Cabin Embarked\n",
       "891        NaN       3    male  34.5      0      0    7.8292   NaN        Q\n",
       "892        NaN       3  female  47.0      1      0    7.0000   NaN        S\n",
       "893        NaN       2    male  62.0      0      0    9.6875   NaN        Q\n",
       "894        NaN       3    male  27.0      0      0    8.6625   NaN        S\n",
       "895        NaN       3  female  22.0      1      1   12.2875   NaN        S\n",
       "...        ...     ...     ...   ...    ...    ...       ...   ...      ...\n",
       "1304       NaN       3    male   NaN      0      0    8.0500   NaN        S\n",
       "1305       NaN       1  female  39.0      0      0  108.9000  C105        C\n",
       "1306       NaN       3    male  38.5      0      0    7.2500   NaN        S\n",
       "1307       NaN       3    male   NaN      0      0    8.0500   NaN        S\n",
       "1308       NaN       3    male   NaN      1      1   22.3583   NaN        C\n",
       "\n",
       "[418 rows x 9 columns]"
      ]
     },
     "execution_count": 11,
     "metadata": {},
     "output_type": "execute_result"
    }
   ],
   "source": [
    "titanic[titanic[\"Survived\"].isna()]\n"
   ]
  },
  {
   "attachments": {},
   "cell_type": "markdown",
   "metadata": {},
   "source": [
    "### Indagamos qué información hay en las cabinas"
   ]
  },
  {
   "attachments": {},
   "cell_type": "markdown",
   "metadata": {},
   "source": [
    "Con la intención de revisar si las cabinas pueden tener alguna influencia en la sobrevivencia se reemplazan los Nan de la columna cabinas"
   ]
  },
  {
   "cell_type": "code",
   "execution_count": 12,
   "metadata": {},
   "outputs": [],
   "source": [
    "cabinas =titanic.groupby('Cabin')['Pclass'].count()\n"
   ]
  },
  {
   "cell_type": "code",
   "execution_count": 13,
   "metadata": {},
   "outputs": [],
   "source": [
    "cabinas = pd.pivot_table(titanic, values = 'Fare', index = ['Pclass'], columns =['Cabin'], aggfunc='count')"
   ]
  },
  {
   "cell_type": "code",
   "execution_count": 14,
   "metadata": {},
   "outputs": [],
   "source": [
    "titanic['Cabin'].fillna('N', inplace=True)"
   ]
  },
  {
   "cell_type": "code",
   "execution_count": 15,
   "metadata": {},
   "outputs": [
    {
     "data": {
      "text/html": [
       "<div>\n",
       "<style scoped>\n",
       "    .dataframe tbody tr th:only-of-type {\n",
       "        vertical-align: middle;\n",
       "    }\n",
       "\n",
       "    .dataframe tbody tr th {\n",
       "        vertical-align: top;\n",
       "    }\n",
       "\n",
       "    .dataframe thead th {\n",
       "        text-align: right;\n",
       "    }\n",
       "</style>\n",
       "<table border=\"1\" class=\"dataframe\">\n",
       "  <thead>\n",
       "    <tr style=\"text-align: right;\">\n",
       "      <th></th>\n",
       "      <th>Survived</th>\n",
       "      <th>Pclass</th>\n",
       "      <th>Sex</th>\n",
       "      <th>Age</th>\n",
       "      <th>SibSp</th>\n",
       "      <th>Parch</th>\n",
       "      <th>Fare</th>\n",
       "      <th>Cabin</th>\n",
       "      <th>Embarked</th>\n",
       "    </tr>\n",
       "  </thead>\n",
       "  <tbody>\n",
       "    <tr>\n",
       "      <th>1</th>\n",
       "      <td>1.0</td>\n",
       "      <td>1</td>\n",
       "      <td>female</td>\n",
       "      <td>38.0</td>\n",
       "      <td>1</td>\n",
       "      <td>0</td>\n",
       "      <td>71.2833</td>\n",
       "      <td>C85</td>\n",
       "      <td>C</td>\n",
       "    </tr>\n",
       "    <tr>\n",
       "      <th>3</th>\n",
       "      <td>1.0</td>\n",
       "      <td>1</td>\n",
       "      <td>female</td>\n",
       "      <td>35.0</td>\n",
       "      <td>1</td>\n",
       "      <td>0</td>\n",
       "      <td>53.1000</td>\n",
       "      <td>C123</td>\n",
       "      <td>S</td>\n",
       "    </tr>\n",
       "    <tr>\n",
       "      <th>6</th>\n",
       "      <td>0.0</td>\n",
       "      <td>1</td>\n",
       "      <td>male</td>\n",
       "      <td>54.0</td>\n",
       "      <td>0</td>\n",
       "      <td>0</td>\n",
       "      <td>51.8625</td>\n",
       "      <td>E46</td>\n",
       "      <td>S</td>\n",
       "    </tr>\n",
       "    <tr>\n",
       "      <th>11</th>\n",
       "      <td>1.0</td>\n",
       "      <td>1</td>\n",
       "      <td>female</td>\n",
       "      <td>58.0</td>\n",
       "      <td>0</td>\n",
       "      <td>0</td>\n",
       "      <td>26.5500</td>\n",
       "      <td>C103</td>\n",
       "      <td>S</td>\n",
       "    </tr>\n",
       "    <tr>\n",
       "      <th>23</th>\n",
       "      <td>1.0</td>\n",
       "      <td>1</td>\n",
       "      <td>male</td>\n",
       "      <td>28.0</td>\n",
       "      <td>0</td>\n",
       "      <td>0</td>\n",
       "      <td>35.5000</td>\n",
       "      <td>A6</td>\n",
       "      <td>S</td>\n",
       "    </tr>\n",
       "    <tr>\n",
       "      <th>...</th>\n",
       "      <td>...</td>\n",
       "      <td>...</td>\n",
       "      <td>...</td>\n",
       "      <td>...</td>\n",
       "      <td>...</td>\n",
       "      <td>...</td>\n",
       "      <td>...</td>\n",
       "      <td>...</td>\n",
       "      <td>...</td>\n",
       "    </tr>\n",
       "    <tr>\n",
       "      <th>1291</th>\n",
       "      <td>NaN</td>\n",
       "      <td>1</td>\n",
       "      <td>female</td>\n",
       "      <td>30.0</td>\n",
       "      <td>0</td>\n",
       "      <td>0</td>\n",
       "      <td>164.8667</td>\n",
       "      <td>C7</td>\n",
       "      <td>S</td>\n",
       "    </tr>\n",
       "    <tr>\n",
       "      <th>1295</th>\n",
       "      <td>NaN</td>\n",
       "      <td>1</td>\n",
       "      <td>male</td>\n",
       "      <td>43.0</td>\n",
       "      <td>1</td>\n",
       "      <td>0</td>\n",
       "      <td>27.7208</td>\n",
       "      <td>D40</td>\n",
       "      <td>C</td>\n",
       "    </tr>\n",
       "    <tr>\n",
       "      <th>1298</th>\n",
       "      <td>NaN</td>\n",
       "      <td>1</td>\n",
       "      <td>male</td>\n",
       "      <td>50.0</td>\n",
       "      <td>1</td>\n",
       "      <td>1</td>\n",
       "      <td>211.5000</td>\n",
       "      <td>C80</td>\n",
       "      <td>C</td>\n",
       "    </tr>\n",
       "    <tr>\n",
       "      <th>1302</th>\n",
       "      <td>NaN</td>\n",
       "      <td>1</td>\n",
       "      <td>female</td>\n",
       "      <td>37.0</td>\n",
       "      <td>1</td>\n",
       "      <td>0</td>\n",
       "      <td>90.0000</td>\n",
       "      <td>C78</td>\n",
       "      <td>Q</td>\n",
       "    </tr>\n",
       "    <tr>\n",
       "      <th>1305</th>\n",
       "      <td>NaN</td>\n",
       "      <td>1</td>\n",
       "      <td>female</td>\n",
       "      <td>39.0</td>\n",
       "      <td>0</td>\n",
       "      <td>0</td>\n",
       "      <td>108.9000</td>\n",
       "      <td>C105</td>\n",
       "      <td>C</td>\n",
       "    </tr>\n",
       "  </tbody>\n",
       "</table>\n",
       "<p>256 rows × 9 columns</p>\n",
       "</div>"
      ],
      "text/plain": [
       "      Survived  Pclass     Sex   Age  SibSp  Parch      Fare Cabin Embarked\n",
       "1          1.0       1  female  38.0      1      0   71.2833   C85        C\n",
       "3          1.0       1  female  35.0      1      0   53.1000  C123        S\n",
       "6          0.0       1    male  54.0      0      0   51.8625   E46        S\n",
       "11         1.0       1  female  58.0      0      0   26.5500  C103        S\n",
       "23         1.0       1    male  28.0      0      0   35.5000    A6        S\n",
       "...        ...     ...     ...   ...    ...    ...       ...   ...      ...\n",
       "1291       NaN       1  female  30.0      0      0  164.8667    C7        S\n",
       "1295       NaN       1    male  43.0      1      0   27.7208   D40        C\n",
       "1298       NaN       1    male  50.0      1      1  211.5000   C80        C\n",
       "1302       NaN       1  female  37.0      1      0   90.0000   C78        Q\n",
       "1305       NaN       1  female  39.0      0      0  108.9000  C105        C\n",
       "\n",
       "[256 rows x 9 columns]"
      ]
     },
     "execution_count": 15,
     "metadata": {},
     "output_type": "execute_result"
    }
   ],
   "source": [
    "titanic.loc[(titanic.Cabin != 'N')& (titanic.Pclass == 1)]"
   ]
  },
  {
   "cell_type": "code",
   "execution_count": 16,
   "metadata": {},
   "outputs": [],
   "source": [
    "cabin_only = titanic[[\"Cabin\"]].copy()"
   ]
  },
  {
   "cell_type": "code",
   "execution_count": 17,
   "metadata": {},
   "outputs": [],
   "source": [
    "cabin_only[\"Deck\"] = cabin_only[\"Cabin\"].str.slice(0,1)"
   ]
  },
  {
   "cell_type": "code",
   "execution_count": 18,
   "metadata": {},
   "outputs": [],
   "source": [
    "cabin_only[\"Room\"] = cabin_only[\"Cabin\"].str.slice(1,5).str.extract(\"([0-9]+)\", expand=False).astype(\"float\")"
   ]
  },
  {
   "cell_type": "code",
   "execution_count": 19,
   "metadata": {},
   "outputs": [
    {
     "data": {
      "text/html": [
       "<div>\n",
       "<style scoped>\n",
       "    .dataframe tbody tr th:only-of-type {\n",
       "        vertical-align: middle;\n",
       "    }\n",
       "\n",
       "    .dataframe tbody tr th {\n",
       "        vertical-align: top;\n",
       "    }\n",
       "\n",
       "    .dataframe thead th {\n",
       "        text-align: right;\n",
       "    }\n",
       "</style>\n",
       "<table border=\"1\" class=\"dataframe\">\n",
       "  <thead>\n",
       "    <tr style=\"text-align: right;\">\n",
       "      <th></th>\n",
       "      <th>Cabin</th>\n",
       "      <th>Deck</th>\n",
       "      <th>Room</th>\n",
       "    </tr>\n",
       "  </thead>\n",
       "  <tbody>\n",
       "    <tr>\n",
       "      <th>0</th>\n",
       "      <td>N</td>\n",
       "      <td>N</td>\n",
       "      <td>NaN</td>\n",
       "    </tr>\n",
       "    <tr>\n",
       "      <th>1</th>\n",
       "      <td>C85</td>\n",
       "      <td>C</td>\n",
       "      <td>85.0</td>\n",
       "    </tr>\n",
       "    <tr>\n",
       "      <th>2</th>\n",
       "      <td>N</td>\n",
       "      <td>N</td>\n",
       "      <td>NaN</td>\n",
       "    </tr>\n",
       "    <tr>\n",
       "      <th>3</th>\n",
       "      <td>C123</td>\n",
       "      <td>C</td>\n",
       "      <td>123.0</td>\n",
       "    </tr>\n",
       "    <tr>\n",
       "      <th>4</th>\n",
       "      <td>N</td>\n",
       "      <td>N</td>\n",
       "      <td>NaN</td>\n",
       "    </tr>\n",
       "    <tr>\n",
       "      <th>...</th>\n",
       "      <td>...</td>\n",
       "      <td>...</td>\n",
       "      <td>...</td>\n",
       "    </tr>\n",
       "    <tr>\n",
       "      <th>1304</th>\n",
       "      <td>N</td>\n",
       "      <td>N</td>\n",
       "      <td>NaN</td>\n",
       "    </tr>\n",
       "    <tr>\n",
       "      <th>1305</th>\n",
       "      <td>C105</td>\n",
       "      <td>C</td>\n",
       "      <td>105.0</td>\n",
       "    </tr>\n",
       "    <tr>\n",
       "      <th>1306</th>\n",
       "      <td>N</td>\n",
       "      <td>N</td>\n",
       "      <td>NaN</td>\n",
       "    </tr>\n",
       "    <tr>\n",
       "      <th>1307</th>\n",
       "      <td>N</td>\n",
       "      <td>N</td>\n",
       "      <td>NaN</td>\n",
       "    </tr>\n",
       "    <tr>\n",
       "      <th>1308</th>\n",
       "      <td>N</td>\n",
       "      <td>N</td>\n",
       "      <td>NaN</td>\n",
       "    </tr>\n",
       "  </tbody>\n",
       "</table>\n",
       "<p>1309 rows × 3 columns</p>\n",
       "</div>"
      ],
      "text/plain": [
       "     Cabin Deck   Room\n",
       "0        N    N    NaN\n",
       "1      C85    C   85.0\n",
       "2        N    N    NaN\n",
       "3     C123    C  123.0\n",
       "4        N    N    NaN\n",
       "...    ...  ...    ...\n",
       "1304     N    N    NaN\n",
       "1305  C105    C  105.0\n",
       "1306     N    N    NaN\n",
       "1307     N    N    NaN\n",
       "1308     N    N    NaN\n",
       "\n",
       "[1309 rows x 3 columns]"
      ]
     },
     "execution_count": 19,
     "metadata": {},
     "output_type": "execute_result"
    }
   ],
   "source": [
    "cabin_only"
   ]
  },
  {
   "cell_type": "code",
   "execution_count": 20,
   "metadata": {},
   "outputs": [
    {
     "data": {
      "text/plain": [
       "N    1014\n",
       "C      94\n",
       "B      65\n",
       "D      46\n",
       "E      41\n",
       "A      22\n",
       "F      21\n",
       "G       5\n",
       "T       1\n",
       "Name: Deck, dtype: int64"
      ]
     },
     "execution_count": 20,
     "metadata": {},
     "output_type": "execute_result"
    }
   ],
   "source": [
    "cabin_only['Deck'].value_counts()"
   ]
  },
  {
   "cell_type": "code",
   "execution_count": 21,
   "metadata": {},
   "outputs": [],
   "source": [
    "titanic = titanic.join(cabin_only['Deck']).copy()"
   ]
  },
  {
   "cell_type": "code",
   "execution_count": 22,
   "metadata": {},
   "outputs": [
    {
     "data": {
      "text/html": [
       "<div>\n",
       "<style scoped>\n",
       "    .dataframe tbody tr th:only-of-type {\n",
       "        vertical-align: middle;\n",
       "    }\n",
       "\n",
       "    .dataframe tbody tr th {\n",
       "        vertical-align: top;\n",
       "    }\n",
       "\n",
       "    .dataframe thead th {\n",
       "        text-align: right;\n",
       "    }\n",
       "</style>\n",
       "<table border=\"1\" class=\"dataframe\">\n",
       "  <thead>\n",
       "    <tr style=\"text-align: right;\">\n",
       "      <th></th>\n",
       "      <th>Survived</th>\n",
       "      <th>Pclass</th>\n",
       "      <th>Sex</th>\n",
       "      <th>Age</th>\n",
       "      <th>SibSp</th>\n",
       "      <th>Parch</th>\n",
       "      <th>Fare</th>\n",
       "      <th>Cabin</th>\n",
       "      <th>Embarked</th>\n",
       "      <th>Deck</th>\n",
       "    </tr>\n",
       "  </thead>\n",
       "  <tbody>\n",
       "    <tr>\n",
       "      <th>0</th>\n",
       "      <td>0.0</td>\n",
       "      <td>3</td>\n",
       "      <td>male</td>\n",
       "      <td>22.0</td>\n",
       "      <td>1</td>\n",
       "      <td>0</td>\n",
       "      <td>7.2500</td>\n",
       "      <td>N</td>\n",
       "      <td>S</td>\n",
       "      <td>N</td>\n",
       "    </tr>\n",
       "    <tr>\n",
       "      <th>1</th>\n",
       "      <td>1.0</td>\n",
       "      <td>1</td>\n",
       "      <td>female</td>\n",
       "      <td>38.0</td>\n",
       "      <td>1</td>\n",
       "      <td>0</td>\n",
       "      <td>71.2833</td>\n",
       "      <td>C85</td>\n",
       "      <td>C</td>\n",
       "      <td>C</td>\n",
       "    </tr>\n",
       "    <tr>\n",
       "      <th>2</th>\n",
       "      <td>1.0</td>\n",
       "      <td>3</td>\n",
       "      <td>female</td>\n",
       "      <td>26.0</td>\n",
       "      <td>0</td>\n",
       "      <td>0</td>\n",
       "      <td>7.9250</td>\n",
       "      <td>N</td>\n",
       "      <td>S</td>\n",
       "      <td>N</td>\n",
       "    </tr>\n",
       "    <tr>\n",
       "      <th>3</th>\n",
       "      <td>1.0</td>\n",
       "      <td>1</td>\n",
       "      <td>female</td>\n",
       "      <td>35.0</td>\n",
       "      <td>1</td>\n",
       "      <td>0</td>\n",
       "      <td>53.1000</td>\n",
       "      <td>C123</td>\n",
       "      <td>S</td>\n",
       "      <td>C</td>\n",
       "    </tr>\n",
       "    <tr>\n",
       "      <th>4</th>\n",
       "      <td>0.0</td>\n",
       "      <td>3</td>\n",
       "      <td>male</td>\n",
       "      <td>35.0</td>\n",
       "      <td>0</td>\n",
       "      <td>0</td>\n",
       "      <td>8.0500</td>\n",
       "      <td>N</td>\n",
       "      <td>S</td>\n",
       "      <td>N</td>\n",
       "    </tr>\n",
       "  </tbody>\n",
       "</table>\n",
       "</div>"
      ],
      "text/plain": [
       "   Survived  Pclass     Sex   Age  SibSp  Parch     Fare Cabin Embarked Deck\n",
       "0       0.0       3    male  22.0      1      0   7.2500     N        S    N\n",
       "1       1.0       1  female  38.0      1      0  71.2833   C85        C    C\n",
       "2       1.0       3  female  26.0      0      0   7.9250     N        S    N\n",
       "3       1.0       1  female  35.0      1      0  53.1000  C123        S    C\n",
       "4       0.0       3    male  35.0      0      0   8.0500     N        S    N"
      ]
     },
     "execution_count": 22,
     "metadata": {},
     "output_type": "execute_result"
    }
   ],
   "source": [
    "titanic.head()"
   ]
  },
  {
   "cell_type": "code",
   "execution_count": 23,
   "metadata": {},
   "outputs": [],
   "source": [
    "titanic.drop({'Cabin'}, axis = 'columns', inplace= True)"
   ]
  },
  {
   "attachments": {},
   "cell_type": "markdown",
   "metadata": {},
   "source": [
    "Se observa que la tercera clase está más asociada a las cabinas perdidas,  \n",
    "La primera clase tiene un 20% de cabinas perdidas, la segunda 91% y la tercera 97%"
   ]
  },
  {
   "cell_type": "code",
   "execution_count": 24,
   "metadata": {},
   "outputs": [
    {
     "data": {
      "image/png": "[encoded data removed]",
      "text/plain": [
       "<Figure size 640x480 with 1 Axes>"
      ]
     },
     "metadata": {},
     "output_type": "display_data"
    },
    {
     "data": {
      "text/html": [
       "<div>\n",
       "<style scoped>\n",
       "    .dataframe tbody tr th:only-of-type {\n",
       "        vertical-align: middle;\n",
       "    }\n",
       "\n",
       "    .dataframe tbody tr th {\n",
       "        vertical-align: top;\n",
       "    }\n",
       "\n",
       "    .dataframe thead th {\n",
       "        text-align: right;\n",
       "    }\n",
       "</style>\n",
       "<table border=\"1\" class=\"dataframe\">\n",
       "  <thead>\n",
       "    <tr style=\"text-align: right;\">\n",
       "      <th>Deck</th>\n",
       "      <th>A</th>\n",
       "      <th>B</th>\n",
       "      <th>C</th>\n",
       "      <th>D</th>\n",
       "      <th>E</th>\n",
       "      <th>F</th>\n",
       "      <th>G</th>\n",
       "      <th>N</th>\n",
       "      <th>T</th>\n",
       "    </tr>\n",
       "    <tr>\n",
       "      <th>Pclass</th>\n",
       "      <th></th>\n",
       "      <th></th>\n",
       "      <th></th>\n",
       "      <th></th>\n",
       "      <th></th>\n",
       "      <th></th>\n",
       "      <th></th>\n",
       "      <th></th>\n",
       "      <th></th>\n",
       "    </tr>\n",
       "  </thead>\n",
       "  <tbody>\n",
       "    <tr>\n",
       "      <th>1</th>\n",
       "      <td>6.811146</td>\n",
       "      <td>20.123839</td>\n",
       "      <td>29.102167</td>\n",
       "      <td>12.383901</td>\n",
       "      <td>10.526316</td>\n",
       "      <td>0.000000</td>\n",
       "      <td>0.000000</td>\n",
       "      <td>20.743034</td>\n",
       "      <td>0.309598</td>\n",
       "    </tr>\n",
       "    <tr>\n",
       "      <th>2</th>\n",
       "      <td>0.000000</td>\n",
       "      <td>0.000000</td>\n",
       "      <td>0.000000</td>\n",
       "      <td>2.166065</td>\n",
       "      <td>1.444043</td>\n",
       "      <td>4.693141</td>\n",
       "      <td>0.000000</td>\n",
       "      <td>91.696751</td>\n",
       "      <td>0.000000</td>\n",
       "    </tr>\n",
       "    <tr>\n",
       "      <th>3</th>\n",
       "      <td>0.000000</td>\n",
       "      <td>0.000000</td>\n",
       "      <td>0.000000</td>\n",
       "      <td>0.000000</td>\n",
       "      <td>0.423131</td>\n",
       "      <td>1.128350</td>\n",
       "      <td>0.705219</td>\n",
       "      <td>97.743300</td>\n",
       "      <td>0.000000</td>\n",
       "    </tr>\n",
       "  </tbody>\n",
       "</table>\n",
       "</div>"
      ],
      "text/plain": [
       "Deck           A          B          C          D          E         F  \\\n",
       "Pclass                                                                   \n",
       "1       6.811146  20.123839  29.102167  12.383901  10.526316  0.000000   \n",
       "2       0.000000   0.000000   0.000000   2.166065   1.444043  4.693141   \n",
       "3       0.000000   0.000000   0.000000   0.000000   0.423131  1.128350   \n",
       "\n",
       "Deck           G          N         T  \n",
       "Pclass                                 \n",
       "1       0.000000  20.743034  0.309598  \n",
       "2       0.000000  91.696751  0.000000  \n",
       "3       0.705219  97.743300  0.000000  "
      ]
     },
     "execution_count": 24,
     "metadata": {},
     "output_type": "execute_result"
    }
   ],
   "source": [
    "sns.countplot(x='Pclass', hue='Deck', data=titanic)\n",
    "plt.title('Deck según clase', weight='bold')\n",
    "plt.show()\n",
    "\n",
    "table = pd.crosstab(titanic['Pclass'], titanic['Deck'], normalize='index')\n",
    "table*100"
   ]
  },
  {
   "cell_type": "code",
   "execution_count": 25,
   "metadata": {},
   "outputs": [
    {
     "data": {
      "image/png": "[encoded data removed]",
      "text/plain": [
       "<Figure size 640x480 with 1 Axes>"
      ]
     },
     "metadata": {},
     "output_type": "display_data"
    },
    {
     "data": {
      "text/html": [
       "<div>\n",
       "<style scoped>\n",
       "    .dataframe tbody tr th:only-of-type {\n",
       "        vertical-align: middle;\n",
       "    }\n",
       "\n",
       "    .dataframe tbody tr th {\n",
       "        vertical-align: top;\n",
       "    }\n",
       "\n",
       "    .dataframe thead th {\n",
       "        text-align: right;\n",
       "    }\n",
       "</style>\n",
       "<table border=\"1\" class=\"dataframe\">\n",
       "  <thead>\n",
       "    <tr style=\"text-align: right;\">\n",
       "      <th>Deck</th>\n",
       "      <th>A</th>\n",
       "      <th>B</th>\n",
       "      <th>C</th>\n",
       "      <th>D</th>\n",
       "      <th>E</th>\n",
       "      <th>F</th>\n",
       "      <th>G</th>\n",
       "      <th>N</th>\n",
       "      <th>T</th>\n",
       "    </tr>\n",
       "    <tr>\n",
       "      <th>Survived</th>\n",
       "      <th></th>\n",
       "      <th></th>\n",
       "      <th></th>\n",
       "      <th></th>\n",
       "      <th></th>\n",
       "      <th></th>\n",
       "      <th></th>\n",
       "      <th></th>\n",
       "      <th></th>\n",
       "    </tr>\n",
       "  </thead>\n",
       "  <tbody>\n",
       "    <tr>\n",
       "      <th>0.0</th>\n",
       "      <td>8</td>\n",
       "      <td>12</td>\n",
       "      <td>24</td>\n",
       "      <td>8</td>\n",
       "      <td>8</td>\n",
       "      <td>5</td>\n",
       "      <td>2</td>\n",
       "      <td>481</td>\n",
       "      <td>1</td>\n",
       "    </tr>\n",
       "    <tr>\n",
       "      <th>1.0</th>\n",
       "      <td>7</td>\n",
       "      <td>35</td>\n",
       "      <td>35</td>\n",
       "      <td>25</td>\n",
       "      <td>24</td>\n",
       "      <td>8</td>\n",
       "      <td>2</td>\n",
       "      <td>206</td>\n",
       "      <td>0</td>\n",
       "    </tr>\n",
       "  </tbody>\n",
       "</table>\n",
       "</div>"
      ],
      "text/plain": [
       "Deck      A   B   C   D   E  F  G    N  T\n",
       "Survived                                 \n",
       "0.0       8  12  24   8   8  5  2  481  1\n",
       "1.0       7  35  35  25  24  8  2  206  0"
      ]
     },
     "execution_count": 25,
     "metadata": {},
     "output_type": "execute_result"
    }
   ],
   "source": [
    "sns.countplot(x='Survived', hue='Deck', data=titanic)\n",
    "plt.title('Deck según Survived', weight='bold')\n",
    "plt.show()\n",
    "\n",
    "table = pd.crosstab(titanic['Survived'], titanic['Deck'])\n",
    "table\n"
   ]
  },
  {
   "attachments": {},
   "cell_type": "markdown",
   "metadata": {},
   "source": [
    "### Indagamos sobre la variable Embarked"
   ]
  },
  {
   "cell_type": "code",
   "execution_count": 26,
   "metadata": {},
   "outputs": [
    {
     "data": {
      "image/png": "[encoded data removed]",
      "text/plain": [
       "<Figure size 640x480 with 1 Axes>"
      ]
     },
     "metadata": {},
     "output_type": "display_data"
    },
    {
     "data": {
      "text/html": [
       "<div>\n",
       "<style scoped>\n",
       "    .dataframe tbody tr th:only-of-type {\n",
       "        vertical-align: middle;\n",
       "    }\n",
       "\n",
       "    .dataframe tbody tr th {\n",
       "        vertical-align: top;\n",
       "    }\n",
       "\n",
       "    .dataframe thead th {\n",
       "        text-align: right;\n",
       "    }\n",
       "</style>\n",
       "<table border=\"1\" class=\"dataframe\">\n",
       "  <thead>\n",
       "    <tr style=\"text-align: right;\">\n",
       "      <th>Survived</th>\n",
       "      <th>0.0</th>\n",
       "      <th>1.0</th>\n",
       "    </tr>\n",
       "    <tr>\n",
       "      <th>Embarked</th>\n",
       "      <th></th>\n",
       "      <th></th>\n",
       "    </tr>\n",
       "  </thead>\n",
       "  <tbody>\n",
       "    <tr>\n",
       "      <th>C</th>\n",
       "      <td>44.642857</td>\n",
       "      <td>55.357143</td>\n",
       "    </tr>\n",
       "    <tr>\n",
       "      <th>Q</th>\n",
       "      <td>61.038961</td>\n",
       "      <td>38.961039</td>\n",
       "    </tr>\n",
       "    <tr>\n",
       "      <th>S</th>\n",
       "      <td>66.304348</td>\n",
       "      <td>33.695652</td>\n",
       "    </tr>\n",
       "  </tbody>\n",
       "</table>\n",
       "</div>"
      ],
      "text/plain": [
       "Survived        0.0        1.0\n",
       "Embarked                      \n",
       "C         44.642857  55.357143\n",
       "Q         61.038961  38.961039\n",
       "S         66.304348  33.695652"
      ]
     },
     "execution_count": 26,
     "metadata": {},
     "output_type": "execute_result"
    }
   ],
   "source": [
    "sns.countplot(x='Embarked', hue='Survived', data=titanic)\n",
    "plt.title('Sobrevivencia según Embarked', weight='bold')\n",
    "plt.show()\n",
    "\n",
    "table = pd.crosstab(titanic['Embarked'], titanic['Survived'], normalize='index')\n",
    "table*100"
   ]
  },
  {
   "attachments": {},
   "cell_type": "markdown",
   "metadata": {},
   "source": [
    "### Indagamos sobre la edad"
   ]
  },
  {
   "cell_type": "code",
   "execution_count": 27,
   "metadata": {},
   "outputs": [],
   "source": [
    "age_null = titanic[titanic.Age.isnull()]"
   ]
  },
  {
   "attachments": {},
   "cell_type": "markdown",
   "metadata": {},
   "source": [
    "Los de tercera clase son los que tienen la mayor cantidad de registros de edad perdido +  \n",
    "el máximo de relaciones de padres/hijos 8 (parch) y máximo de esposo(a)/hermano 9"
   ]
  },
  {
   "cell_type": "code",
   "execution_count": 28,
   "metadata": {},
   "outputs": [
    {
     "name": "stderr",
     "output_type": "stream",
     "text": [
      "C:\\Users\\cj_li\\AppData\\Local\\Temp\\ipykernel_3388\\1580944037.py:1: FutureWarning: Indexing with multiple keys (implicitly converted to a tuple of keys) will be deprecated, use a list instead.\n",
      "  age_null.groupby('Pclass')[('SibSp','Parch')].describe()\n"
     ]
    },
    {
     "data": {
      "text/html": [
       "<div>\n",
       "<style scoped>\n",
       "    .dataframe tbody tr th:only-of-type {\n",
       "        vertical-align: middle;\n",
       "    }\n",
       "\n",
       "    .dataframe tbody tr th {\n",
       "        vertical-align: top;\n",
       "    }\n",
       "\n",
       "    .dataframe thead tr th {\n",
       "        text-align: left;\n",
       "    }\n",
       "\n",
       "    .dataframe thead tr:last-of-type th {\n",
       "        text-align: right;\n",
       "    }\n",
       "</style>\n",
       "<table border=\"1\" class=\"dataframe\">\n",
       "  <thead>\n",
       "    <tr>\n",
       "      <th></th>\n",
       "      <th colspan=\"8\" halign=\"left\">SibSp</th>\n",
       "      <th colspan=\"8\" halign=\"left\">Parch</th>\n",
       "    </tr>\n",
       "    <tr>\n",
       "      <th></th>\n",
       "      <th>count</th>\n",
       "      <th>mean</th>\n",
       "      <th>std</th>\n",
       "      <th>min</th>\n",
       "      <th>25%</th>\n",
       "      <th>50%</th>\n",
       "      <th>75%</th>\n",
       "      <th>max</th>\n",
       "      <th>count</th>\n",
       "      <th>mean</th>\n",
       "      <th>std</th>\n",
       "      <th>min</th>\n",
       "      <th>25%</th>\n",
       "      <th>50%</th>\n",
       "      <th>75%</th>\n",
       "      <th>max</th>\n",
       "    </tr>\n",
       "    <tr>\n",
       "      <th>Pclass</th>\n",
       "      <th></th>\n",
       "      <th></th>\n",
       "      <th></th>\n",
       "      <th></th>\n",
       "      <th></th>\n",
       "      <th></th>\n",
       "      <th></th>\n",
       "      <th></th>\n",
       "      <th></th>\n",
       "      <th></th>\n",
       "      <th></th>\n",
       "      <th></th>\n",
       "      <th></th>\n",
       "      <th></th>\n",
       "      <th></th>\n",
       "      <th></th>\n",
       "    </tr>\n",
       "  </thead>\n",
       "  <tbody>\n",
       "    <tr>\n",
       "      <th>1</th>\n",
       "      <td>39.0</td>\n",
       "      <td>0.153846</td>\n",
       "      <td>0.365518</td>\n",
       "      <td>0.0</td>\n",
       "      <td>0.0</td>\n",
       "      <td>0.0</td>\n",
       "      <td>0.0</td>\n",
       "      <td>1.0</td>\n",
       "      <td>39.0</td>\n",
       "      <td>0.025641</td>\n",
       "      <td>0.160128</td>\n",
       "      <td>0.0</td>\n",
       "      <td>0.0</td>\n",
       "      <td>0.0</td>\n",
       "      <td>0.0</td>\n",
       "      <td>1.0</td>\n",
       "    </tr>\n",
       "    <tr>\n",
       "      <th>2</th>\n",
       "      <td>16.0</td>\n",
       "      <td>0.000000</td>\n",
       "      <td>0.000000</td>\n",
       "      <td>0.0</td>\n",
       "      <td>0.0</td>\n",
       "      <td>0.0</td>\n",
       "      <td>0.0</td>\n",
       "      <td>0.0</td>\n",
       "      <td>16.0</td>\n",
       "      <td>0.000000</td>\n",
       "      <td>0.000000</td>\n",
       "      <td>0.0</td>\n",
       "      <td>0.0</td>\n",
       "      <td>0.0</td>\n",
       "      <td>0.0</td>\n",
       "      <td>0.0</td>\n",
       "    </tr>\n",
       "    <tr>\n",
       "      <th>3</th>\n",
       "      <td>208.0</td>\n",
       "      <td>0.581731</td>\n",
       "      <td>1.607066</td>\n",
       "      <td>0.0</td>\n",
       "      <td>0.0</td>\n",
       "      <td>0.0</td>\n",
       "      <td>0.0</td>\n",
       "      <td>8.0</td>\n",
       "      <td>208.0</td>\n",
       "      <td>0.302885</td>\n",
       "      <td>1.058479</td>\n",
       "      <td>0.0</td>\n",
       "      <td>0.0</td>\n",
       "      <td>0.0</td>\n",
       "      <td>0.0</td>\n",
       "      <td>9.0</td>\n",
       "    </tr>\n",
       "  </tbody>\n",
       "</table>\n",
       "</div>"
      ],
      "text/plain": [
       "        SibSp                                               Parch            \\\n",
       "        count      mean       std  min  25%  50%  75%  max  count      mean   \n",
       "Pclass                                                                        \n",
       "1        39.0  0.153846  0.365518  0.0  0.0  0.0  0.0  1.0   39.0  0.025641   \n",
       "2        16.0  0.000000  0.000000  0.0  0.0  0.0  0.0  0.0   16.0  0.000000   \n",
       "3       208.0  0.581731  1.607066  0.0  0.0  0.0  0.0  8.0  208.0  0.302885   \n",
       "\n",
       "                                           \n",
       "             std  min  25%  50%  75%  max  \n",
       "Pclass                                     \n",
       "1       0.160128  0.0  0.0  0.0  0.0  1.0  \n",
       "2       0.000000  0.0  0.0  0.0  0.0  0.0  \n",
       "3       1.058479  0.0  0.0  0.0  0.0  9.0  "
      ]
     },
     "execution_count": 28,
     "metadata": {},
     "output_type": "execute_result"
    }
   ],
   "source": [
    "age_null.groupby('Pclass')[('SibSp','Parch')].describe()"
   ]
  },
  {
   "attachments": {},
   "cell_type": "markdown",
   "metadata": {},
   "source": [
    "Veamos como se comporta la edad y la sobrevivencia.  \n",
    "Para esto será necesario categorizar la edad.  \n",
    "Se tiene 263 datos de edad perdidos, se tratarán por medio de imputación según el vecino más cercano"
   ]
  },
  {
   "cell_type": "code",
   "execution_count": 29,
   "metadata": {},
   "outputs": [],
   "source": [
    "#Creamos 8 intervalos\n",
    "rango = titanic['Age'].max() - titanic['Age'].min()\n",
    "largo_intervalo = int(np.round(rango / 8))"
   ]
  },
  {
   "cell_type": "code",
   "execution_count": 30,
   "metadata": {},
   "outputs": [],
   "source": [
    "#Calculamos los límites inferiores y superirores de los intervalos\n",
    "\n",
    "limite_inferior = int(np.floor( titanic['Age'].min()))\n",
    "limite_superior = int(np.floor( titanic['Age'].max()))\n",
    "\n",
    "#Creamos la lista de intervalos\n",
    "total_intervalos = [i for i in range(limite_inferior, limite_superior+largo_intervalo, largo_intervalo)]"
   ]
  },
  {
   "cell_type": "code",
   "execution_count": 31,
   "metadata": {},
   "outputs": [
    {
     "data": {
      "text/plain": [
       "[0, 10, 20, 30, 40, 50, 60, 70, 80]"
      ]
     },
     "execution_count": 31,
     "metadata": {},
     "output_type": "execute_result"
    }
   ],
   "source": [
    "total_intervalos"
   ]
  },
  {
   "cell_type": "code",
   "execution_count": 32,
   "metadata": {},
   "outputs": [],
   "source": [
    "#Etiquetas de los intervalos\n",
    "etiquetas_intervalos = ['0-10','10-20','20-30','30-40','40-50','50-60','60-70','70-80']"
   ]
  },
  {
   "cell_type": "code",
   "execution_count": 33,
   "metadata": {},
   "outputs": [],
   "source": [
    "titanic['Age_intervalo'] = pd.cut(x=titanic['Age'], bins=total_intervalos, labels=etiquetas_intervalos, include_lowest=True)"
   ]
  },
  {
   "cell_type": "code",
   "execution_count": 34,
   "metadata": {},
   "outputs": [
    {
     "data": {
      "image/png": "[encoded data removed]",
      "text/plain": [
       "<Figure size 640x480 with 1 Axes>"
      ]
     },
     "metadata": {},
     "output_type": "display_data"
    },
    {
     "data": {
      "text/html": [
       "<div>\n",
       "<style scoped>\n",
       "    .dataframe tbody tr th:only-of-type {\n",
       "        vertical-align: middle;\n",
       "    }\n",
       "\n",
       "    .dataframe tbody tr th {\n",
       "        vertical-align: top;\n",
       "    }\n",
       "\n",
       "    .dataframe thead th {\n",
       "        text-align: right;\n",
       "    }\n",
       "</style>\n",
       "<table border=\"1\" class=\"dataframe\">\n",
       "  <thead>\n",
       "    <tr style=\"text-align: right;\">\n",
       "      <th>Survived</th>\n",
       "      <th>0.0</th>\n",
       "      <th>1.0</th>\n",
       "    </tr>\n",
       "    <tr>\n",
       "      <th>Age_intervalo</th>\n",
       "      <th></th>\n",
       "      <th></th>\n",
       "    </tr>\n",
       "  </thead>\n",
       "  <tbody>\n",
       "    <tr>\n",
       "      <th>0-10</th>\n",
       "      <td>40.625000</td>\n",
       "      <td>59.375000</td>\n",
       "    </tr>\n",
       "    <tr>\n",
       "      <th>10-20</th>\n",
       "      <td>61.739130</td>\n",
       "      <td>38.260870</td>\n",
       "    </tr>\n",
       "    <tr>\n",
       "      <th>20-30</th>\n",
       "      <td>63.478261</td>\n",
       "      <td>36.521739</td>\n",
       "    </tr>\n",
       "    <tr>\n",
       "      <th>30-40</th>\n",
       "      <td>55.483871</td>\n",
       "      <td>44.516129</td>\n",
       "    </tr>\n",
       "    <tr>\n",
       "      <th>40-50</th>\n",
       "      <td>61.627907</td>\n",
       "      <td>38.372093</td>\n",
       "    </tr>\n",
       "    <tr>\n",
       "      <th>50-60</th>\n",
       "      <td>59.523810</td>\n",
       "      <td>40.476190</td>\n",
       "    </tr>\n",
       "    <tr>\n",
       "      <th>60-70</th>\n",
       "      <td>76.470588</td>\n",
       "      <td>23.529412</td>\n",
       "    </tr>\n",
       "    <tr>\n",
       "      <th>70-80</th>\n",
       "      <td>80.000000</td>\n",
       "      <td>20.000000</td>\n",
       "    </tr>\n",
       "  </tbody>\n",
       "</table>\n",
       "</div>"
      ],
      "text/plain": [
       "Survived             0.0        1.0\n",
       "Age_intervalo                      \n",
       "0-10           40.625000  59.375000\n",
       "10-20          61.739130  38.260870\n",
       "20-30          63.478261  36.521739\n",
       "30-40          55.483871  44.516129\n",
       "40-50          61.627907  38.372093\n",
       "50-60          59.523810  40.476190\n",
       "60-70          76.470588  23.529412\n",
       "70-80          80.000000  20.000000"
      ]
     },
     "execution_count": 34,
     "metadata": {},
     "output_type": "execute_result"
    }
   ],
   "source": [
    "sns.countplot(x='Age_intervalo', hue='Survived', data=titanic)\n",
    "plt.title('Sobrevivencia según Age', weight='bold')\n",
    "plt.show()\n",
    "\n",
    "table = pd.crosstab(titanic['Age_intervalo'], titanic['Survived'], normalize='index')\n",
    "table*100"
   ]
  },
  {
   "attachments": {},
   "cell_type": "markdown",
   "metadata": {},
   "source": [
    "Ahora veremos como se relaciona la edad con la Clase"
   ]
  },
  {
   "cell_type": "code",
   "execution_count": 35,
   "metadata": {},
   "outputs": [
    {
     "data": {
      "image/png": "[encoded data removed]",
      "text/plain": [
       "<Figure size 640x480 with 1 Axes>"
      ]
     },
     "metadata": {},
     "output_type": "display_data"
    },
    {
     "data": {
      "text/html": [
       "<div>\n",
       "<style scoped>\n",
       "    .dataframe tbody tr th:only-of-type {\n",
       "        vertical-align: middle;\n",
       "    }\n",
       "\n",
       "    .dataframe tbody tr th {\n",
       "        vertical-align: top;\n",
       "    }\n",
       "\n",
       "    .dataframe thead th {\n",
       "        text-align: right;\n",
       "    }\n",
       "</style>\n",
       "<table border=\"1\" class=\"dataframe\">\n",
       "  <thead>\n",
       "    <tr style=\"text-align: right;\">\n",
       "      <th>Pclass</th>\n",
       "      <th>1</th>\n",
       "      <th>2</th>\n",
       "      <th>3</th>\n",
       "    </tr>\n",
       "    <tr>\n",
       "      <th>Age_intervalo</th>\n",
       "      <th></th>\n",
       "      <th></th>\n",
       "      <th></th>\n",
       "    </tr>\n",
       "  </thead>\n",
       "  <tbody>\n",
       "    <tr>\n",
       "      <th>0-10</th>\n",
       "      <td>4.651163</td>\n",
       "      <td>25.581395</td>\n",
       "      <td>69.767442</td>\n",
       "    </tr>\n",
       "    <tr>\n",
       "      <th>10-20</th>\n",
       "      <td>13.580247</td>\n",
       "      <td>20.370370</td>\n",
       "      <td>66.049383</td>\n",
       "    </tr>\n",
       "    <tr>\n",
       "      <th>20-30</th>\n",
       "      <td>17.451524</td>\n",
       "      <td>27.977839</td>\n",
       "      <td>54.570637</td>\n",
       "    </tr>\n",
       "    <tr>\n",
       "      <th>30-40</th>\n",
       "      <td>31.428571</td>\n",
       "      <td>26.190476</td>\n",
       "      <td>42.380952</td>\n",
       "    </tr>\n",
       "    <tr>\n",
       "      <th>40-50</th>\n",
       "      <td>49.242424</td>\n",
       "      <td>22.727273</td>\n",
       "      <td>28.030303</td>\n",
       "    </tr>\n",
       "    <tr>\n",
       "      <th>50-60</th>\n",
       "      <td>69.354839</td>\n",
       "      <td>22.580645</td>\n",
       "      <td>8.064516</td>\n",
       "    </tr>\n",
       "    <tr>\n",
       "      <th>60-70</th>\n",
       "      <td>62.962963</td>\n",
       "      <td>22.222222</td>\n",
       "      <td>14.814815</td>\n",
       "    </tr>\n",
       "    <tr>\n",
       "      <th>70-80</th>\n",
       "      <td>66.666667</td>\n",
       "      <td>0.000000</td>\n",
       "      <td>33.333333</td>\n",
       "    </tr>\n",
       "  </tbody>\n",
       "</table>\n",
       "</div>"
      ],
      "text/plain": [
       "Pclass                 1          2          3\n",
       "Age_intervalo                                 \n",
       "0-10            4.651163  25.581395  69.767442\n",
       "10-20          13.580247  20.370370  66.049383\n",
       "20-30          17.451524  27.977839  54.570637\n",
       "30-40          31.428571  26.190476  42.380952\n",
       "40-50          49.242424  22.727273  28.030303\n",
       "50-60          69.354839  22.580645   8.064516\n",
       "60-70          62.962963  22.222222  14.814815\n",
       "70-80          66.666667   0.000000  33.333333"
      ]
     },
     "execution_count": 35,
     "metadata": {},
     "output_type": "execute_result"
    }
   ],
   "source": [
    "sns.countplot(x='Age_intervalo', hue='Pclass', data=titanic)\n",
    "plt.title('Sobrevivencia según Age', weight='bold')\n",
    "plt.show()\n",
    "\n",
    "table = pd.crosstab(titanic['Age_intervalo'], titanic['Pclass'], normalize='index')\n",
    "table*100"
   ]
  },
  {
   "attachments": {},
   "cell_type": "markdown",
   "metadata": {},
   "source": [
    "### Revisamos la variable Deck"
   ]
  },
  {
   "cell_type": "code",
   "execution_count": 36,
   "metadata": {},
   "outputs": [
    {
     "data": {
      "text/plain": [
       "<AxesSubplot: xlabel='Deck', ylabel='Age'>"
      ]
     },
     "execution_count": 36,
     "metadata": {},
     "output_type": "execute_result"
    },
    {
     "data": {
      "image/png": "[encoded data removed]",
      "text/plain": [
       "<Figure size 640x480 with 1 Axes>"
      ]
     },
     "metadata": {},
     "output_type": "display_data"
    }
   ],
   "source": [
    "sns.barplot(x='Deck', y='Age', hue ='Sex', data=titanic)"
   ]
  },
  {
   "cell_type": "code",
   "execution_count": 37,
   "metadata": {},
   "outputs": [],
   "source": [
    "titanic_2 = titanic.copy()"
   ]
  },
  {
   "cell_type": "code",
   "execution_count": 38,
   "metadata": {},
   "outputs": [],
   "source": [
    "titanic = titanic_2.copy()"
   ]
  },
  {
   "cell_type": "code",
   "execution_count": 39,
   "metadata": {},
   "outputs": [],
   "source": [
    "titanic_sin_N = titanic.query(\"Deck != 'N'\")"
   ]
  },
  {
   "cell_type": "code",
   "execution_count": 40,
   "metadata": {},
   "outputs": [
    {
     "data": {
      "image/png": "[encoded data removed]",
      "text/plain": [
       "<Figure size 1200x1000 with 2 Axes>"
      ]
     },
     "metadata": {},
     "output_type": "display_data"
    },
    {
     "data": {
      "text/html": [
       "<div>\n",
       "<style scoped>\n",
       "    .dataframe tbody tr th:only-of-type {\n",
       "        vertical-align: middle;\n",
       "    }\n",
       "\n",
       "    .dataframe tbody tr th {\n",
       "        vertical-align: top;\n",
       "    }\n",
       "\n",
       "    .dataframe thead th {\n",
       "        text-align: right;\n",
       "    }\n",
       "</style>\n",
       "<table border=\"1\" class=\"dataframe\">\n",
       "  <thead>\n",
       "    <tr style=\"text-align: right;\">\n",
       "      <th>Survived</th>\n",
       "      <th>0.0</th>\n",
       "      <th>1.0</th>\n",
       "    </tr>\n",
       "    <tr>\n",
       "      <th>Deck</th>\n",
       "      <th></th>\n",
       "      <th></th>\n",
       "    </tr>\n",
       "  </thead>\n",
       "  <tbody>\n",
       "    <tr>\n",
       "      <th>A</th>\n",
       "      <td>53.333333</td>\n",
       "      <td>46.666667</td>\n",
       "    </tr>\n",
       "    <tr>\n",
       "      <th>B</th>\n",
       "      <td>25.531915</td>\n",
       "      <td>74.468085</td>\n",
       "    </tr>\n",
       "    <tr>\n",
       "      <th>C</th>\n",
       "      <td>40.677966</td>\n",
       "      <td>59.322034</td>\n",
       "    </tr>\n",
       "    <tr>\n",
       "      <th>D</th>\n",
       "      <td>24.242424</td>\n",
       "      <td>75.757576</td>\n",
       "    </tr>\n",
       "    <tr>\n",
       "      <th>E</th>\n",
       "      <td>25.000000</td>\n",
       "      <td>75.000000</td>\n",
       "    </tr>\n",
       "    <tr>\n",
       "      <th>F</th>\n",
       "      <td>38.461538</td>\n",
       "      <td>61.538462</td>\n",
       "    </tr>\n",
       "    <tr>\n",
       "      <th>G</th>\n",
       "      <td>50.000000</td>\n",
       "      <td>50.000000</td>\n",
       "    </tr>\n",
       "    <tr>\n",
       "      <th>N</th>\n",
       "      <td>70.014556</td>\n",
       "      <td>29.985444</td>\n",
       "    </tr>\n",
       "    <tr>\n",
       "      <th>T</th>\n",
       "      <td>100.000000</td>\n",
       "      <td>0.000000</td>\n",
       "    </tr>\n",
       "  </tbody>\n",
       "</table>\n",
       "</div>"
      ],
      "text/plain": [
       "Survived         0.0        1.0\n",
       "Deck                           \n",
       "A          53.333333  46.666667\n",
       "B          25.531915  74.468085\n",
       "C          40.677966  59.322034\n",
       "D          24.242424  75.757576\n",
       "E          25.000000  75.000000\n",
       "F          38.461538  61.538462\n",
       "G          50.000000  50.000000\n",
       "N          70.014556  29.985444\n",
       "T         100.000000   0.000000"
      ]
     },
     "execution_count": 40,
     "metadata": {},
     "output_type": "execute_result"
    }
   ],
   "source": [
    "plt.figure(figsize=(12,10))\n",
    "\n",
    "plt.subplot(2,2,1)\n",
    "sns.countplot(x='Deck', hue='Survived', data=titanic)\n",
    "plt.title('Sobrevivencia según Deck', weight='bold')\n",
    "\n",
    "plt.subplot(2,2,2)\n",
    "sns.countplot(x='Deck', hue='Survived', data=titanic_sin_N)\n",
    "plt.title('Sobrevivencia según Deck', weight='bold')\n",
    "\n",
    "plt.show()\n",
    "\n",
    "table = pd.crosstab(titanic['Deck'], titanic['Survived'], normalize='index')\n",
    "table*100"
   ]
  },
  {
   "cell_type": "code",
   "execution_count": 41,
   "metadata": {},
   "outputs": [
    {
     "data": {
      "text/plain": [
       "<seaborn.axisgrid.FacetGrid at 0x1fa7d8efbb0>"
      ]
     },
     "execution_count": 41,
     "metadata": {},
     "output_type": "execute_result"
    },
    {
     "data": {
      "image/png": "[encoded data removed]",
      "text/plain": [
       "<Figure size 1058.88x500 with 2 Axes>"
      ]
     },
     "metadata": {},
     "output_type": "display_data"
    }
   ],
   "source": [
    "sns.catplot(x=\"Sex\", y=\"Age\", hue=\"Pclass\", col=\"Survived\", data=titanic, kind=\"bar\")"
   ]
  },
  {
   "cell_type": "code",
   "execution_count": 42,
   "metadata": {},
   "outputs": [
    {
     "data": {
      "image/png": "[encoded data removed]",
      "text/plain": [
       "<Figure size 640x480 with 1 Axes>"
      ]
     },
     "metadata": {},
     "output_type": "display_data"
    },
    {
     "data": {
      "text/html": [
       "<div>\n",
       "<style scoped>\n",
       "    .dataframe tbody tr th:only-of-type {\n",
       "        vertical-align: middle;\n",
       "    }\n",
       "\n",
       "    .dataframe tbody tr th {\n",
       "        vertical-align: top;\n",
       "    }\n",
       "\n",
       "    .dataframe thead th {\n",
       "        text-align: right;\n",
       "    }\n",
       "</style>\n",
       "<table border=\"1\" class=\"dataframe\">\n",
       "  <thead>\n",
       "    <tr style=\"text-align: right;\">\n",
       "      <th>Survived</th>\n",
       "      <th>0.0</th>\n",
       "      <th>1.0</th>\n",
       "    </tr>\n",
       "    <tr>\n",
       "      <th>Embarked</th>\n",
       "      <th></th>\n",
       "      <th></th>\n",
       "    </tr>\n",
       "  </thead>\n",
       "  <tbody>\n",
       "    <tr>\n",
       "      <th>C</th>\n",
       "      <td>44.642857</td>\n",
       "      <td>55.357143</td>\n",
       "    </tr>\n",
       "    <tr>\n",
       "      <th>Q</th>\n",
       "      <td>61.038961</td>\n",
       "      <td>38.961039</td>\n",
       "    </tr>\n",
       "    <tr>\n",
       "      <th>S</th>\n",
       "      <td>66.304348</td>\n",
       "      <td>33.695652</td>\n",
       "    </tr>\n",
       "  </tbody>\n",
       "</table>\n",
       "</div>"
      ],
      "text/plain": [
       "Survived        0.0        1.0\n",
       "Embarked                      \n",
       "C         44.642857  55.357143\n",
       "Q         61.038961  38.961039\n",
       "S         66.304348  33.695652"
      ]
     },
     "execution_count": 42,
     "metadata": {},
     "output_type": "execute_result"
    }
   ],
   "source": [
    "sns.countplot(x='Embarked', hue='Survived', data=titanic)\n",
    "plt.title('Sobrevivencia según Embarked', weight='bold')\n",
    "plt.show()\n",
    "\n",
    "table = pd.crosstab(titanic['Embarked'], titanic['Survived'], normalize='index')\n",
    "table*100"
   ]
  },
  {
   "cell_type": "code",
   "execution_count": 43,
   "metadata": {},
   "outputs": [
    {
     "data": {
      "image/png": "[encoded data removed]",
      "text/plain": [
       "<Figure size 640x480 with 1 Axes>"
      ]
     },
     "metadata": {},
     "output_type": "display_data"
    },
    {
     "data": {
      "text/html": [
       "<div>\n",
       "<style scoped>\n",
       "    .dataframe tbody tr th:only-of-type {\n",
       "        vertical-align: middle;\n",
       "    }\n",
       "\n",
       "    .dataframe tbody tr th {\n",
       "        vertical-align: top;\n",
       "    }\n",
       "\n",
       "    .dataframe thead th {\n",
       "        text-align: right;\n",
       "    }\n",
       "</style>\n",
       "<table border=\"1\" class=\"dataframe\">\n",
       "  <thead>\n",
       "    <tr style=\"text-align: right;\">\n",
       "      <th>Embarked</th>\n",
       "      <th>C</th>\n",
       "      <th>Q</th>\n",
       "      <th>S</th>\n",
       "    </tr>\n",
       "    <tr>\n",
       "      <th>Pclass</th>\n",
       "      <th></th>\n",
       "      <th></th>\n",
       "      <th></th>\n",
       "    </tr>\n",
       "  </thead>\n",
       "  <tbody>\n",
       "    <tr>\n",
       "      <th>1</th>\n",
       "      <td>43.925234</td>\n",
       "      <td>0.934579</td>\n",
       "      <td>55.140187</td>\n",
       "    </tr>\n",
       "    <tr>\n",
       "      <th>2</th>\n",
       "      <td>10.108303</td>\n",
       "      <td>2.527076</td>\n",
       "      <td>87.364621</td>\n",
       "    </tr>\n",
       "    <tr>\n",
       "      <th>3</th>\n",
       "      <td>14.245416</td>\n",
       "      <td>15.937941</td>\n",
       "      <td>69.816643</td>\n",
       "    </tr>\n",
       "  </tbody>\n",
       "</table>\n",
       "</div>"
      ],
      "text/plain": [
       "Embarked          C          Q          S\n",
       "Pclass                                   \n",
       "1         43.925234   0.934579  55.140187\n",
       "2         10.108303   2.527076  87.364621\n",
       "3         14.245416  15.937941  69.816643"
      ]
     },
     "execution_count": 43,
     "metadata": {},
     "output_type": "execute_result"
    }
   ],
   "source": [
    "sns.countplot(x='Pclass', hue='Embarked', data=titanic)\n",
    "plt.title('Embarked según clase', weight='bold')\n",
    "plt.show()\n",
    "\n",
    "table = pd.crosstab(titanic['Pclass'], titanic['Embarked'], normalize='index')\n",
    "table*100"
   ]
  },
  {
   "attachments": {},
   "cell_type": "markdown",
   "metadata": {},
   "source": [
    "Vemos como se comporta la supervivencia de las personas según tenian familia o venian solos"
   ]
  },
  {
   "cell_type": "code",
   "execution_count": 44,
   "metadata": {},
   "outputs": [
    {
     "data": {
      "text/html": [
       "<div>\n",
       "<style scoped>\n",
       "    .dataframe tbody tr th:only-of-type {\n",
       "        vertical-align: middle;\n",
       "    }\n",
       "\n",
       "    .dataframe tbody tr th {\n",
       "        vertical-align: top;\n",
       "    }\n",
       "\n",
       "    .dataframe thead th {\n",
       "        text-align: right;\n",
       "    }\n",
       "</style>\n",
       "<table border=\"1\" class=\"dataframe\">\n",
       "  <thead>\n",
       "    <tr style=\"text-align: right;\">\n",
       "      <th></th>\n",
       "      <th>Parch</th>\n",
       "      <th>0</th>\n",
       "      <th>1</th>\n",
       "      <th>2</th>\n",
       "      <th>4</th>\n",
       "      <th>5</th>\n",
       "      <th>3</th>\n",
       "      <th>6</th>\n",
       "    </tr>\n",
       "    <tr>\n",
       "      <th>Survived</th>\n",
       "      <th>SibSp</th>\n",
       "      <th></th>\n",
       "      <th></th>\n",
       "      <th></th>\n",
       "      <th></th>\n",
       "      <th></th>\n",
       "      <th></th>\n",
       "      <th></th>\n",
       "    </tr>\n",
       "  </thead>\n",
       "  <tbody>\n",
       "    <tr>\n",
       "      <th rowspan=\"7\" valign=\"top\">0.0</th>\n",
       "      <th>0</th>\n",
       "      <td>374.0</td>\n",
       "      <td>13.0</td>\n",
       "      <td>8.0</td>\n",
       "      <td>1.0</td>\n",
       "      <td>2.0</td>\n",
       "      <td>-</td>\n",
       "      <td>-</td>\n",
       "    </tr>\n",
       "    <tr>\n",
       "      <th>1</th>\n",
       "      <td>59.0</td>\n",
       "      <td>23.0</td>\n",
       "      <td>7.0</td>\n",
       "      <td>3.0</td>\n",
       "      <td>2.0</td>\n",
       "      <td>2.0</td>\n",
       "      <td>1.0</td>\n",
       "    </tr>\n",
       "    <tr>\n",
       "      <th>2</th>\n",
       "      <td>12.0</td>\n",
       "      <td>1.0</td>\n",
       "      <td>2.0</td>\n",
       "      <td>-</td>\n",
       "      <td>-</td>\n",
       "      <td>-</td>\n",
       "      <td>-</td>\n",
       "    </tr>\n",
       "    <tr>\n",
       "      <th>3</th>\n",
       "      <td>-</td>\n",
       "      <td>7.0</td>\n",
       "      <td>5.0</td>\n",
       "      <td>-</td>\n",
       "      <td>-</td>\n",
       "      <td>-</td>\n",
       "      <td>-</td>\n",
       "    </tr>\n",
       "    <tr>\n",
       "      <th>4</th>\n",
       "      <td>-</td>\n",
       "      <td>9.0</td>\n",
       "      <td>6.0</td>\n",
       "      <td>-</td>\n",
       "      <td>-</td>\n",
       "      <td>-</td>\n",
       "      <td>-</td>\n",
       "    </tr>\n",
       "    <tr>\n",
       "      <th>5</th>\n",
       "      <td>-</td>\n",
       "      <td>-</td>\n",
       "      <td>5.0</td>\n",
       "      <td>-</td>\n",
       "      <td>-</td>\n",
       "      <td>-</td>\n",
       "      <td>-</td>\n",
       "    </tr>\n",
       "    <tr>\n",
       "      <th>8</th>\n",
       "      <td>-</td>\n",
       "      <td>-</td>\n",
       "      <td>7.0</td>\n",
       "      <td>-</td>\n",
       "      <td>-</td>\n",
       "      <td>-</td>\n",
       "      <td>-</td>\n",
       "    </tr>\n",
       "    <tr>\n",
       "      <th rowspan=\"5\" valign=\"top\">1.0</th>\n",
       "      <th>0</th>\n",
       "      <td>163.0</td>\n",
       "      <td>25.0</td>\n",
       "      <td>21.0</td>\n",
       "      <td>-</td>\n",
       "      <td>-</td>\n",
       "      <td>1.0</td>\n",
       "      <td>-</td>\n",
       "    </tr>\n",
       "    <tr>\n",
       "      <th>1</th>\n",
       "      <td>64.0</td>\n",
       "      <td>34.0</td>\n",
       "      <td>12.0</td>\n",
       "      <td>-</td>\n",
       "      <td>1.0</td>\n",
       "      <td>1.0</td>\n",
       "      <td>-</td>\n",
       "    </tr>\n",
       "    <tr>\n",
       "      <th>2</th>\n",
       "      <td>4.0</td>\n",
       "      <td>6.0</td>\n",
       "      <td>2.0</td>\n",
       "      <td>-</td>\n",
       "      <td>-</td>\n",
       "      <td>1.0</td>\n",
       "      <td>-</td>\n",
       "    </tr>\n",
       "    <tr>\n",
       "      <th>3</th>\n",
       "      <td>2.0</td>\n",
       "      <td>-</td>\n",
       "      <td>2.0</td>\n",
       "      <td>-</td>\n",
       "      <td>-</td>\n",
       "      <td>-</td>\n",
       "      <td>-</td>\n",
       "    </tr>\n",
       "    <tr>\n",
       "      <th>4</th>\n",
       "      <td>-</td>\n",
       "      <td>-</td>\n",
       "      <td>3.0</td>\n",
       "      <td>-</td>\n",
       "      <td>-</td>\n",
       "      <td>-</td>\n",
       "      <td>-</td>\n",
       "    </tr>\n",
       "  </tbody>\n",
       "</table>\n",
       "</div>"
      ],
      "text/plain": [
       "Parch               0     1     2    4    5    3    6\n",
       "Survived SibSp                                       \n",
       "0.0      0      374.0  13.0   8.0  1.0  2.0    -    -\n",
       "         1       59.0  23.0   7.0  3.0  2.0  2.0  1.0\n",
       "         2       12.0   1.0   2.0    -    -    -    -\n",
       "         3          -   7.0   5.0    -    -    -    -\n",
       "         4          -   9.0   6.0    -    -    -    -\n",
       "         5          -     -   5.0    -    -    -    -\n",
       "         8          -     -   7.0    -    -    -    -\n",
       "1.0      0      163.0  25.0  21.0    -    -  1.0    -\n",
       "         1       64.0  34.0  12.0    -  1.0  1.0    -\n",
       "         2        4.0   6.0   2.0    -    -  1.0    -\n",
       "         3        2.0     -   2.0    -    -    -    -\n",
       "         4          -     -   3.0    -    -    -    -"
      ]
     },
     "execution_count": 44,
     "metadata": {},
     "output_type": "execute_result"
    }
   ],
   "source": [
    "titanic.groupby(['Survived', 'SibSp', 'Parch'])['Survived'].count().unstack().fillna('-')"
   ]
  },
  {
   "attachments": {},
   "cell_type": "markdown",
   "metadata": {},
   "source": [
    "Se crea la columna que indica si la persona tiene familia (1) o iba sola (0)"
   ]
  },
  {
   "cell_type": "code",
   "execution_count": 45,
   "metadata": {},
   "outputs": [],
   "source": [
    "titanic['Family'] = np.where(((titanic['Parch'] > 0) & (titanic['SibSp'] > 0)), 1, 0)"
   ]
  },
  {
   "cell_type": "code",
   "execution_count": 46,
   "metadata": {},
   "outputs": [
    {
     "data": {
      "image/png": "[encoded data removed]",
      "text/plain": [
       "<Figure size 640x480 with 1 Axes>"
      ]
     },
     "metadata": {},
     "output_type": "display_data"
    },
    {
     "data": {
      "text/html": [
       "<div>\n",
       "<style scoped>\n",
       "    .dataframe tbody tr th:only-of-type {\n",
       "        vertical-align: middle;\n",
       "    }\n",
       "\n",
       "    .dataframe tbody tr th {\n",
       "        vertical-align: top;\n",
       "    }\n",
       "\n",
       "    .dataframe thead th {\n",
       "        text-align: right;\n",
       "    }\n",
       "</style>\n",
       "<table border=\"1\" class=\"dataframe\">\n",
       "  <thead>\n",
       "    <tr style=\"text-align: right;\">\n",
       "      <th>Survived</th>\n",
       "      <th>0.0</th>\n",
       "      <th>1.0</th>\n",
       "    </tr>\n",
       "    <tr>\n",
       "      <th>Family</th>\n",
       "      <th></th>\n",
       "      <th></th>\n",
       "    </tr>\n",
       "  </thead>\n",
       "  <tbody>\n",
       "    <tr>\n",
       "      <th>0</th>\n",
       "      <td>0.626168</td>\n",
       "      <td>0.373832</td>\n",
       "    </tr>\n",
       "    <tr>\n",
       "      <th>1</th>\n",
       "      <td>0.563380</td>\n",
       "      <td>0.436620</td>\n",
       "    </tr>\n",
       "  </tbody>\n",
       "</table>\n",
       "</div>"
      ],
      "text/plain": [
       "Survived       0.0       1.0\n",
       "Family                      \n",
       "0         0.626168  0.373832\n",
       "1         0.563380  0.436620"
      ]
     },
     "execution_count": 46,
     "metadata": {},
     "output_type": "execute_result"
    }
   ],
   "source": [
    "sns.countplot(x='Family', hue='Survived', data=titanic)\n",
    "plt.title('Sobrevivencia según Familia', weight='bold')\n",
    "plt.show()\n",
    "\n",
    "table = pd.crosstab(titanic['Family'], titanic['Survived'], normalize='index')\n",
    "table"
   ]
  },
  {
   "attachments": {},
   "cell_type": "markdown",
   "metadata": {},
   "source": [
    "### Resumen del EDA mediante gráfica"
   ]
  },
  {
   "cell_type": "code",
   "execution_count": 47,
   "metadata": {},
   "outputs": [
    {
     "data": {
      "image/png": "[encoded data removed]",
      "text/plain": [
       "<Figure size 2000x2000 with 11 Axes>"
      ]
     },
     "metadata": {},
     "output_type": "display_data"
    }
   ],
   "source": [
    "plt.figure(figsize=(20,20))\n",
    "for i, v in enumerate(titanic):\n",
    "    plt.subplot(4,4,i+1)\n",
    "    sns.histplot(x = v , data = titanic, hue='Pclass')\n",
    "    \n",
    "plt.show()"
   ]
  },
  {
   "attachments": {},
   "cell_type": "markdown",
   "metadata": {},
   "source": [
    "### Tratamiento de MV"
   ]
  },
  {
   "cell_type": "code",
   "execution_count": 48,
   "metadata": {},
   "outputs": [
    {
     "data": {
      "text/plain": [
       "Survived         418\n",
       "Pclass             0\n",
       "Sex                0\n",
       "Age              263\n",
       "SibSp              0\n",
       "Parch              0\n",
       "Fare               1\n",
       "Embarked           2\n",
       "Deck               0\n",
       "Age_intervalo    263\n",
       "Family             0\n",
       "dtype: int64"
      ]
     },
     "execution_count": 48,
     "metadata": {},
     "output_type": "execute_result"
    }
   ],
   "source": [
    "titanic.isnull().sum()"
   ]
  },
  {
   "attachments": {},
   "cell_type": "markdown",
   "metadata": {},
   "source": [
    "Se observa que la mayor cantidad de datos perdidos están en la variable Age, omitiendo la variable objetivo 'Survived'.  \n",
    "Partiremos con la edad, primera aproximación, imputar la edad por el promedio de la clase"
   ]
  },
  {
   "cell_type": "code",
   "execution_count": 49,
   "metadata": {},
   "outputs": [
    {
     "data": {
      "text/plain": [
       "Pclass\n",
       "1    39.159930\n",
       "2    29.506705\n",
       "3    24.816367\n",
       "Name: Age, dtype: float64"
      ]
     },
     "execution_count": 49,
     "metadata": {},
     "output_type": "execute_result"
    }
   ],
   "source": [
    "titanic.groupby('Pclass')['Age'].mean()"
   ]
  },
  {
   "cell_type": "code",
   "execution_count": 50,
   "metadata": {},
   "outputs": [],
   "source": [
    "class_age = {1:39, 2:29, 3:25}"
   ]
  },
  {
   "cell_type": "code",
   "execution_count": 51,
   "metadata": {},
   "outputs": [],
   "source": [
    "def fill_age(columns):\n",
    "    age = columns[0]\n",
    "    pclass = np.int64(columns[1])\n",
    "    return class_age[pclass] if pd.isnull(age) else age"
   ]
  },
  {
   "cell_type": "code",
   "execution_count": 52,
   "metadata": {},
   "outputs": [],
   "source": [
    "titanic['Age_median'] = titanic[['Age', 'Pclass']].apply(fill_age, axis=1)"
   ]
  },
  {
   "attachments": {},
   "cell_type": "markdown",
   "metadata": {},
   "source": [
    "Se observa que altera la curva de distribución"
   ]
  },
  {
   "cell_type": "code",
   "execution_count": 53,
   "metadata": {},
   "outputs": [
    {
     "data": {
      "text/plain": [
       "<matplotlib.legend.Legend at 0x1fa7f990f10>"
      ]
     },
     "execution_count": 53,
     "metadata": {},
     "output_type": "execute_result"
    },
    {
     "data": {
      "image/png": "[encoded data removed]",
      "text/plain": [
       "<Figure size 640x480 with 1 Axes>"
      ]
     },
     "metadata": {},
     "output_type": "display_data"
    }
   ],
   "source": [
    "fig = plt.figure()\n",
    "ax = fig.add_subplot(111)\n",
    "\n",
    "titanic['Age'].plot(kind='kde', ax=ax)\n",
    "\n",
    "titanic['Age_median'].plot(kind='kde', ax=ax, color='red')\n",
    "\n",
    "\n",
    "lines, labels = ax.get_legend_handles_labels()\n",
    "ax.legend(lines, labels, loc='best')"
   ]
  },
  {
   "attachments": {},
   "cell_type": "markdown",
   "metadata": {},
   "source": [
    "Para imputar las variables faltantes, aplicaré una imputación según el vecino más cercano.  \n",
    "El algoritmo trabaja con distancias, por lo tanto, es aplicar un encoder y estandarizar las variables.  \n",
    "Primero imputamos las otras variables faltantes"
   ]
  },
  {
   "cell_type": "code",
   "execution_count": 54,
   "metadata": {},
   "outputs": [
    {
     "data": {
      "text/plain": [
       "Pclass\n",
       "1    87.508992\n",
       "2    21.179196\n",
       "3    13.302889\n",
       "Name: Fare, dtype: float64"
      ]
     },
     "execution_count": 54,
     "metadata": {},
     "output_type": "execute_result"
    }
   ],
   "source": [
    "#Fare según el promedio de la clase\n",
    "titanic.groupby('Pclass')['Fare'].mean()"
   ]
  },
  {
   "cell_type": "code",
   "execution_count": 55,
   "metadata": {},
   "outputs": [],
   "source": [
    "class_fare = {1:87.508992, 2:21.179196, 3:13.302889}"
   ]
  },
  {
   "cell_type": "code",
   "execution_count": 56,
   "metadata": {},
   "outputs": [],
   "source": [
    "def fill_fare(columns):\n",
    "    fare = columns[0]\n",
    "    pclass = np.int64(columns[1])\n",
    "    return class_fare[pclass] if pd.isnull(fare) else fare"
   ]
  },
  {
   "cell_type": "code",
   "execution_count": 57,
   "metadata": {},
   "outputs": [],
   "source": [
    "titanic['Fare'] = titanic[['Fare', 'Pclass']].apply(fill_fare, axis=1)"
   ]
  },
  {
   "cell_type": "code",
   "execution_count": 58,
   "metadata": {},
   "outputs": [
    {
     "data": {
      "text/html": [
       "<div>\n",
       "<style scoped>\n",
       "    .dataframe tbody tr th:only-of-type {\n",
       "        vertical-align: middle;\n",
       "    }\n",
       "\n",
       "    .dataframe tbody tr th {\n",
       "        vertical-align: top;\n",
       "    }\n",
       "\n",
       "    .dataframe thead th {\n",
       "        text-align: right;\n",
       "    }\n",
       "</style>\n",
       "<table border=\"1\" class=\"dataframe\">\n",
       "  <thead>\n",
       "    <tr style=\"text-align: right;\">\n",
       "      <th></th>\n",
       "      <th>count</th>\n",
       "      <th>unique</th>\n",
       "      <th>top</th>\n",
       "      <th>freq</th>\n",
       "    </tr>\n",
       "    <tr>\n",
       "      <th>Pclass</th>\n",
       "      <th></th>\n",
       "      <th></th>\n",
       "      <th></th>\n",
       "      <th></th>\n",
       "    </tr>\n",
       "  </thead>\n",
       "  <tbody>\n",
       "    <tr>\n",
       "      <th>1</th>\n",
       "      <td>321</td>\n",
       "      <td>3</td>\n",
       "      <td>S</td>\n",
       "      <td>177</td>\n",
       "    </tr>\n",
       "    <tr>\n",
       "      <th>2</th>\n",
       "      <td>277</td>\n",
       "      <td>3</td>\n",
       "      <td>S</td>\n",
       "      <td>242</td>\n",
       "    </tr>\n",
       "    <tr>\n",
       "      <th>3</th>\n",
       "      <td>709</td>\n",
       "      <td>3</td>\n",
       "      <td>S</td>\n",
       "      <td>495</td>\n",
       "    </tr>\n",
       "  </tbody>\n",
       "</table>\n",
       "</div>"
      ],
      "text/plain": [
       "       count unique top freq\n",
       "Pclass                      \n",
       "1        321      3   S  177\n",
       "2        277      3   S  242\n",
       "3        709      3   S  495"
      ]
     },
     "execution_count": 58,
     "metadata": {},
     "output_type": "execute_result"
    }
   ],
   "source": [
    "titanic.groupby('Pclass')['Embarked'].describe()"
   ]
  },
  {
   "cell_type": "code",
   "execution_count": 59,
   "metadata": {},
   "outputs": [],
   "source": [
    "#Embarked según el dato que ma´s se repite\n",
    "titanic['Embarked']= titanic['Embarked'].fillna('S')"
   ]
  },
  {
   "attachments": {},
   "cell_type": "markdown",
   "metadata": {},
   "source": [
    "Antes de hacer el encoder, debemos aislar la variable objetivo"
   ]
  },
  {
   "cell_type": "code",
   "execution_count": 60,
   "metadata": {},
   "outputs": [],
   "source": [
    "titanic_y = pd.DataFrame(titanic['Survived'])\n",
    "titanic.drop(['Survived', 'Age_intervalo','SibSp','Parch','Age_median'], axis='columns',inplace=True)"
   ]
  },
  {
   "attachments": {},
   "cell_type": "markdown",
   "metadata": {},
   "source": [
    "### Aplicación de Encoder_1 con LabelEncoder"
   ]
  },
  {
   "cell_type": "code",
   "execution_count": 61,
   "metadata": {},
   "outputs": [],
   "source": [
    "from sklearn.preprocessing import LabelEncoder\n",
    "from sklearn import preprocessing"
   ]
  },
  {
   "cell_type": "code",
   "execution_count": 62,
   "metadata": {},
   "outputs": [],
   "source": [
    "titanic_cat = titanic.select_dtypes(include=['object', 'category'])"
   ]
  },
  {
   "cell_type": "code",
   "execution_count": 63,
   "metadata": {},
   "outputs": [
    {
     "name": "stdout",
     "output_type": "stream",
     "text": [
      "(1309, 4)\n"
     ]
    },
    {
     "data": {
      "text/html": [
       "<div>\n",
       "<style scoped>\n",
       "    .dataframe tbody tr th:only-of-type {\n",
       "        vertical-align: middle;\n",
       "    }\n",
       "\n",
       "    .dataframe tbody tr th {\n",
       "        vertical-align: top;\n",
       "    }\n",
       "\n",
       "    .dataframe thead th {\n",
       "        text-align: right;\n",
       "    }\n",
       "</style>\n",
       "<table border=\"1\" class=\"dataframe\">\n",
       "  <thead>\n",
       "    <tr style=\"text-align: right;\">\n",
       "      <th></th>\n",
       "      <th>Pclass</th>\n",
       "      <th>Age</th>\n",
       "      <th>Fare</th>\n",
       "      <th>Family</th>\n",
       "    </tr>\n",
       "  </thead>\n",
       "  <tbody>\n",
       "    <tr>\n",
       "      <th>0</th>\n",
       "      <td>3</td>\n",
       "      <td>22.0</td>\n",
       "      <td>7.2500</td>\n",
       "      <td>0</td>\n",
       "    </tr>\n",
       "    <tr>\n",
       "      <th>1</th>\n",
       "      <td>1</td>\n",
       "      <td>38.0</td>\n",
       "      <td>71.2833</td>\n",
       "      <td>0</td>\n",
       "    </tr>\n",
       "    <tr>\n",
       "      <th>2</th>\n",
       "      <td>3</td>\n",
       "      <td>26.0</td>\n",
       "      <td>7.9250</td>\n",
       "      <td>0</td>\n",
       "    </tr>\n",
       "    <tr>\n",
       "      <th>3</th>\n",
       "      <td>1</td>\n",
       "      <td>35.0</td>\n",
       "      <td>53.1000</td>\n",
       "      <td>0</td>\n",
       "    </tr>\n",
       "    <tr>\n",
       "      <th>4</th>\n",
       "      <td>3</td>\n",
       "      <td>35.0</td>\n",
       "      <td>8.0500</td>\n",
       "      <td>0</td>\n",
       "    </tr>\n",
       "  </tbody>\n",
       "</table>\n",
       "</div>"
      ],
      "text/plain": [
       "   Pclass   Age     Fare  Family\n",
       "0       3  22.0   7.2500       0\n",
       "1       1  38.0  71.2833       0\n",
       "2       3  26.0   7.9250       0\n",
       "3       1  35.0  53.1000       0\n",
       "4       3  35.0   8.0500       0"
      ]
     },
     "execution_count": 63,
     "metadata": {},
     "output_type": "execute_result"
    }
   ],
   "source": [
    "numerics = ['int16', 'int32', 'int64', 'float16', 'float32', 'float64','uint8']\n",
    "titanic_num= titanic.select_dtypes(include=numerics)\n",
    "print(titanic_num.shape)\n",
    "titanic_num.head()"
   ]
  },
  {
   "cell_type": "code",
   "execution_count": 64,
   "metadata": {},
   "outputs": [
    {
     "data": {
      "text/html": [
       "<div>\n",
       "<style scoped>\n",
       "    .dataframe tbody tr th:only-of-type {\n",
       "        vertical-align: middle;\n",
       "    }\n",
       "\n",
       "    .dataframe tbody tr th {\n",
       "        vertical-align: top;\n",
       "    }\n",
       "\n",
       "    .dataframe thead th {\n",
       "        text-align: right;\n",
       "    }\n",
       "</style>\n",
       "<table border=\"1\" class=\"dataframe\">\n",
       "  <thead>\n",
       "    <tr style=\"text-align: right;\">\n",
       "      <th></th>\n",
       "      <th>Sex</th>\n",
       "      <th>Embarked</th>\n",
       "      <th>Deck</th>\n",
       "    </tr>\n",
       "  </thead>\n",
       "  <tbody>\n",
       "    <tr>\n",
       "      <th>0</th>\n",
       "      <td>1</td>\n",
       "      <td>2</td>\n",
       "      <td>7</td>\n",
       "    </tr>\n",
       "    <tr>\n",
       "      <th>1</th>\n",
       "      <td>0</td>\n",
       "      <td>0</td>\n",
       "      <td>2</td>\n",
       "    </tr>\n",
       "    <tr>\n",
       "      <th>2</th>\n",
       "      <td>0</td>\n",
       "      <td>2</td>\n",
       "      <td>7</td>\n",
       "    </tr>\n",
       "    <tr>\n",
       "      <th>3</th>\n",
       "      <td>0</td>\n",
       "      <td>2</td>\n",
       "      <td>2</td>\n",
       "    </tr>\n",
       "    <tr>\n",
       "      <th>4</th>\n",
       "      <td>1</td>\n",
       "      <td>2</td>\n",
       "      <td>7</td>\n",
       "    </tr>\n",
       "  </tbody>\n",
       "</table>\n",
       "</div>"
      ],
      "text/plain": [
       "   Sex  Embarked  Deck\n",
       "0    1         2     7\n",
       "1    0         0     2\n",
       "2    0         2     7\n",
       "3    0         2     2\n",
       "4    1         2     7"
      ]
     },
     "execution_count": 64,
     "metadata": {},
     "output_type": "execute_result"
    }
   ],
   "source": [
    "labels_cat = preprocessing.LabelEncoder()\n",
    "train_titanic_enc = titanic_cat.apply(labels_cat.fit_transform)\n",
    "train_titanic_enc.head(5)"
   ]
  },
  {
   "cell_type": "code",
   "execution_count": 65,
   "metadata": {},
   "outputs": [
    {
     "data": {
      "text/html": [
       "<div>\n",
       "<style scoped>\n",
       "    .dataframe tbody tr th:only-of-type {\n",
       "        vertical-align: middle;\n",
       "    }\n",
       "\n",
       "    .dataframe tbody tr th {\n",
       "        vertical-align: top;\n",
       "    }\n",
       "\n",
       "    .dataframe thead th {\n",
       "        text-align: right;\n",
       "    }\n",
       "</style>\n",
       "<table border=\"1\" class=\"dataframe\">\n",
       "  <thead>\n",
       "    <tr style=\"text-align: right;\">\n",
       "      <th></th>\n",
       "      <th>Pclass</th>\n",
       "      <th>Age</th>\n",
       "      <th>Fare</th>\n",
       "      <th>Family</th>\n",
       "      <th>Sex</th>\n",
       "      <th>Embarked</th>\n",
       "      <th>Deck</th>\n",
       "    </tr>\n",
       "  </thead>\n",
       "  <tbody>\n",
       "    <tr>\n",
       "      <th>0</th>\n",
       "      <td>3</td>\n",
       "      <td>22.0</td>\n",
       "      <td>7.2500</td>\n",
       "      <td>0</td>\n",
       "      <td>1</td>\n",
       "      <td>2</td>\n",
       "      <td>7</td>\n",
       "    </tr>\n",
       "    <tr>\n",
       "      <th>1</th>\n",
       "      <td>1</td>\n",
       "      <td>38.0</td>\n",
       "      <td>71.2833</td>\n",
       "      <td>0</td>\n",
       "      <td>0</td>\n",
       "      <td>0</td>\n",
       "      <td>2</td>\n",
       "    </tr>\n",
       "    <tr>\n",
       "      <th>2</th>\n",
       "      <td>3</td>\n",
       "      <td>26.0</td>\n",
       "      <td>7.9250</td>\n",
       "      <td>0</td>\n",
       "      <td>0</td>\n",
       "      <td>2</td>\n",
       "      <td>7</td>\n",
       "    </tr>\n",
       "    <tr>\n",
       "      <th>3</th>\n",
       "      <td>1</td>\n",
       "      <td>35.0</td>\n",
       "      <td>53.1000</td>\n",
       "      <td>0</td>\n",
       "      <td>0</td>\n",
       "      <td>2</td>\n",
       "      <td>2</td>\n",
       "    </tr>\n",
       "    <tr>\n",
       "      <th>4</th>\n",
       "      <td>3</td>\n",
       "      <td>35.0</td>\n",
       "      <td>8.0500</td>\n",
       "      <td>0</td>\n",
       "      <td>1</td>\n",
       "      <td>2</td>\n",
       "      <td>7</td>\n",
       "    </tr>\n",
       "  </tbody>\n",
       "</table>\n",
       "</div>"
      ],
      "text/plain": [
       "   Pclass   Age     Fare  Family  Sex  Embarked  Deck\n",
       "0       3  22.0   7.2500       0    1         2     7\n",
       "1       1  38.0  71.2833       0    0         0     2\n",
       "2       3  26.0   7.9250       0    0         2     7\n",
       "3       1  35.0  53.1000       0    0         2     2\n",
       "4       3  35.0   8.0500       0    1         2     7"
      ]
     },
     "execution_count": 65,
     "metadata": {},
     "output_type": "execute_result"
    }
   ],
   "source": [
    "titanic_enc = pd.concat([titanic_num,train_titanic_enc], ignore_index=True, axis = 1)\n",
    "titanic_enc.columns = titanic_num.columns.tolist() + titanic_cat.columns.tolist()\n",
    "titanic_enc.head()"
   ]
  },
  {
   "cell_type": "code",
   "execution_count": 66,
   "metadata": {},
   "outputs": [],
   "source": [
    "from sklearn.preprocessing import StandardScaler"
   ]
  },
  {
   "cell_type": "code",
   "execution_count": 67,
   "metadata": {},
   "outputs": [
    {
     "data": {
      "text/html": [
       "<div>\n",
       "<style scoped>\n",
       "    .dataframe tbody tr th:only-of-type {\n",
       "        vertical-align: middle;\n",
       "    }\n",
       "\n",
       "    .dataframe tbody tr th {\n",
       "        vertical-align: top;\n",
       "    }\n",
       "\n",
       "    .dataframe thead th {\n",
       "        text-align: right;\n",
       "    }\n",
       "</style>\n",
       "<table border=\"1\" class=\"dataframe\">\n",
       "  <thead>\n",
       "    <tr style=\"text-align: right;\">\n",
       "      <th></th>\n",
       "      <th>Pclass</th>\n",
       "      <th>Age</th>\n",
       "      <th>Fare</th>\n",
       "      <th>Family</th>\n",
       "      <th>Sex</th>\n",
       "      <th>Embarked</th>\n",
       "      <th>Deck</th>\n",
       "    </tr>\n",
       "  </thead>\n",
       "  <tbody>\n",
       "    <tr>\n",
       "      <th>0</th>\n",
       "      <td>0.841916</td>\n",
       "      <td>-0.547050</td>\n",
       "      <td>-0.503271</td>\n",
       "      <td>-0.432161</td>\n",
       "      <td>0.743497</td>\n",
       "      <td>0.622279</td>\n",
       "      <td>0.507835</td>\n",
       "    </tr>\n",
       "    <tr>\n",
       "      <th>1</th>\n",
       "      <td>-1.546098</td>\n",
       "      <td>0.563552</td>\n",
       "      <td>0.734756</td>\n",
       "      <td>-0.432161</td>\n",
       "      <td>-1.344995</td>\n",
       "      <td>-1.834926</td>\n",
       "      <td>-1.923608</td>\n",
       "    </tr>\n",
       "    <tr>\n",
       "      <th>2</th>\n",
       "      <td>0.841916</td>\n",
       "      <td>-0.269400</td>\n",
       "      <td>-0.490220</td>\n",
       "      <td>-0.432161</td>\n",
       "      <td>-1.344995</td>\n",
       "      <td>0.622279</td>\n",
       "      <td>0.507835</td>\n",
       "    </tr>\n",
       "    <tr>\n",
       "      <th>3</th>\n",
       "      <td>-1.546098</td>\n",
       "      <td>0.355314</td>\n",
       "      <td>0.383198</td>\n",
       "      <td>-0.432161</td>\n",
       "      <td>-1.344995</td>\n",
       "      <td>0.622279</td>\n",
       "      <td>-1.923608</td>\n",
       "    </tr>\n",
       "    <tr>\n",
       "      <th>4</th>\n",
       "      <td>0.841916</td>\n",
       "      <td>0.355314</td>\n",
       "      <td>-0.487804</td>\n",
       "      <td>-0.432161</td>\n",
       "      <td>0.743497</td>\n",
       "      <td>0.622279</td>\n",
       "      <td>0.507835</td>\n",
       "    </tr>\n",
       "  </tbody>\n",
       "</table>\n",
       "</div>"
      ],
      "text/plain": [
       "     Pclass       Age      Fare    Family       Sex  Embarked      Deck\n",
       "0  0.841916 -0.547050 -0.503271 -0.432161  0.743497  0.622279  0.507835\n",
       "1 -1.546098  0.563552  0.734756 -0.432161 -1.344995 -1.834926 -1.923608\n",
       "2  0.841916 -0.269400 -0.490220 -0.432161 -1.344995  0.622279  0.507835\n",
       "3 -1.546098  0.355314  0.383198 -0.432161 -1.344995  0.622279 -1.923608\n",
       "4  0.841916  0.355314 -0.487804 -0.432161  0.743497  0.622279  0.507835"
      ]
     },
     "execution_count": 67,
     "metadata": {},
     "output_type": "execute_result"
    }
   ],
   "source": [
    "scaler = StandardScaler().fit(titanic_enc)\n",
    "titanic_esc = pd.DataFrame(scaler.transform(titanic_enc))\n",
    "titanic_esc.columns = titanic_enc.columns.tolist() \n",
    "titanic_esc.head()"
   ]
  },
  {
   "cell_type": "code",
   "execution_count": 68,
   "metadata": {},
   "outputs": [
    {
     "data": {
      "text/plain": [
       "Pclass        0\n",
       "Age         263\n",
       "Fare          0\n",
       "Family        0\n",
       "Sex           0\n",
       "Embarked      0\n",
       "Deck          0\n",
       "dtype: int64"
      ]
     },
     "execution_count": 68,
     "metadata": {},
     "output_type": "execute_result"
    }
   ],
   "source": [
    "titanic_esc.isnull().sum()"
   ]
  },
  {
   "attachments": {},
   "cell_type": "markdown",
   "metadata": {},
   "source": [
    "### En este punto, probaré imputar los MV de edad por medio de KNNImputer"
   ]
  },
  {
   "cell_type": "code",
   "execution_count": 69,
   "metadata": {},
   "outputs": [],
   "source": [
    "from sklearn.impute import KNNImputer"
   ]
  },
  {
   "cell_type": "code",
   "execution_count": 70,
   "metadata": {},
   "outputs": [],
   "source": [
    "# Crear un imputador KNN\n",
    "imputer = KNNImputer(n_neighbors=3, weights='distance', metric='nan_euclidean')\n",
    "\n",
    "# Imputar los valores perdidos en los datos\n",
    "titanic_imputed = imputer.fit_transform(titanic_esc)"
   ]
  },
  {
   "cell_type": "code",
   "execution_count": 71,
   "metadata": {},
   "outputs": [],
   "source": [
    "titanic_imputed = pd.DataFrame(titanic_imputed, columns=titanic_esc.columns)"
   ]
  },
  {
   "cell_type": "code",
   "execution_count": 72,
   "metadata": {},
   "outputs": [],
   "source": [
    "titanic_imputed['Age_original'] = titanic_esc['Age']"
   ]
  },
  {
   "attachments": {},
   "cell_type": "markdown",
   "metadata": {},
   "source": [
    "Se observa que la imputación no alteró demasiado la curva de distribución"
   ]
  },
  {
   "cell_type": "code",
   "execution_count": 73,
   "metadata": {},
   "outputs": [
    {
     "data": {
      "text/plain": [
       "<matplotlib.legend.Legend at 0x1fa7d9fc520>"
      ]
     },
     "execution_count": 73,
     "metadata": {},
     "output_type": "execute_result"
    },
    {
     "data": {
      "image/png": "[encoded data removed]",
      "text/plain": [
       "<Figure size 640x480 with 1 Axes>"
      ]
     },
     "metadata": {},
     "output_type": "display_data"
    }
   ],
   "source": [
    "fig = plt.figure()\n",
    "ax = fig.add_subplot(111)\n",
    "\n",
    "titanic_imputed['Age'].plot(kind='kde', ax=ax)\n",
    "\n",
    "titanic_imputed['Age_original'].plot(kind='kde', ax=ax, color='red')\n",
    "\n",
    "\n",
    "lines, labels = ax.get_legend_handles_labels()\n",
    "ax.legend(lines, labels, loc='best')"
   ]
  },
  {
   "attachments": {},
   "cell_type": "markdown",
   "metadata": {},
   "source": [
    "## Modelamiento"
   ]
  },
  {
   "attachments": {},
   "cell_type": "markdown",
   "metadata": {},
   "source": [
    "### Separación de muestras"
   ]
  },
  {
   "attachments": {},
   "cell_type": "markdown",
   "metadata": {},
   "source": [
    "Separaré las muestras:  \n",
    "\n",
    "En primer lugar almacenaré los datos con edad faltante y los trataré como datos target.  \n",
    "Posteriormente, eliminaré los registros faltantes del dataframe prinpcipal y lo trataré como subdata, con la cual haré testeo y entrenamiento"
   ]
  },
  {
   "cell_type": "code",
   "execution_count": null,
   "metadata": {},
   "outputs": [],
   "source": [
    "titanic_imputed.drop(['Age_original'], axis='columns',inplace=True)"
   ]
  },
  {
   "cell_type": "code",
   "execution_count": 91,
   "metadata": {},
   "outputs": [],
   "source": [
    "titanic = pd.concat([titanic_y,titanic_imputed], ignore_index=True, axis = 1)\n",
    "columnas = list(titanic_y.columns) + list(titanic_imputed.columns)\n",
    "titanic.columns = columnas"
   ]
  },
  {
   "cell_type": "code",
   "execution_count": 92,
   "metadata": {},
   "outputs": [
    {
     "data": {
      "text/html": [
       "<div>\n",
       "<style scoped>\n",
       "    .dataframe tbody tr th:only-of-type {\n",
       "        vertical-align: middle;\n",
       "    }\n",
       "\n",
       "    .dataframe tbody tr th {\n",
       "        vertical-align: top;\n",
       "    }\n",
       "\n",
       "    .dataframe thead th {\n",
       "        text-align: right;\n",
       "    }\n",
       "</style>\n",
       "<table border=\"1\" class=\"dataframe\">\n",
       "  <thead>\n",
       "    <tr style=\"text-align: right;\">\n",
       "      <th></th>\n",
       "      <th>Survived</th>\n",
       "      <th>Pclass</th>\n",
       "      <th>Age</th>\n",
       "      <th>Fare</th>\n",
       "      <th>Family</th>\n",
       "      <th>Sex</th>\n",
       "      <th>Embarked</th>\n",
       "      <th>Deck</th>\n",
       "    </tr>\n",
       "  </thead>\n",
       "  <tbody>\n",
       "    <tr>\n",
       "      <th>0</th>\n",
       "      <td>0.0</td>\n",
       "      <td>0.841916</td>\n",
       "      <td>-0.547050</td>\n",
       "      <td>-0.503271</td>\n",
       "      <td>-0.432161</td>\n",
       "      <td>0.743497</td>\n",
       "      <td>0.622279</td>\n",
       "      <td>0.507835</td>\n",
       "    </tr>\n",
       "    <tr>\n",
       "      <th>1</th>\n",
       "      <td>1.0</td>\n",
       "      <td>-1.546098</td>\n",
       "      <td>0.563552</td>\n",
       "      <td>0.734756</td>\n",
       "      <td>-0.432161</td>\n",
       "      <td>-1.344995</td>\n",
       "      <td>-1.834926</td>\n",
       "      <td>-1.923608</td>\n",
       "    </tr>\n",
       "    <tr>\n",
       "      <th>2</th>\n",
       "      <td>1.0</td>\n",
       "      <td>0.841916</td>\n",
       "      <td>-0.269400</td>\n",
       "      <td>-0.490220</td>\n",
       "      <td>-0.432161</td>\n",
       "      <td>-1.344995</td>\n",
       "      <td>0.622279</td>\n",
       "      <td>0.507835</td>\n",
       "    </tr>\n",
       "    <tr>\n",
       "      <th>3</th>\n",
       "      <td>1.0</td>\n",
       "      <td>-1.546098</td>\n",
       "      <td>0.355314</td>\n",
       "      <td>0.383198</td>\n",
       "      <td>-0.432161</td>\n",
       "      <td>-1.344995</td>\n",
       "      <td>0.622279</td>\n",
       "      <td>-1.923608</td>\n",
       "    </tr>\n",
       "    <tr>\n",
       "      <th>4</th>\n",
       "      <td>0.0</td>\n",
       "      <td>0.841916</td>\n",
       "      <td>0.355314</td>\n",
       "      <td>-0.487804</td>\n",
       "      <td>-0.432161</td>\n",
       "      <td>0.743497</td>\n",
       "      <td>0.622279</td>\n",
       "      <td>0.507835</td>\n",
       "    </tr>\n",
       "  </tbody>\n",
       "</table>\n",
       "</div>"
      ],
      "text/plain": [
       "   Survived    Pclass       Age      Fare    Family       Sex  Embarked  \\\n",
       "0       0.0  0.841916 -0.547050 -0.503271 -0.432161  0.743497  0.622279   \n",
       "1       1.0 -1.546098  0.563552  0.734756 -0.432161 -1.344995 -1.834926   \n",
       "2       1.0  0.841916 -0.269400 -0.490220 -0.432161 -1.344995  0.622279   \n",
       "3       1.0 -1.546098  0.355314  0.383198 -0.432161 -1.344995  0.622279   \n",
       "4       0.0  0.841916  0.355314 -0.487804 -0.432161  0.743497  0.622279   \n",
       "\n",
       "       Deck  \n",
       "0  0.507835  \n",
       "1 -1.923608  \n",
       "2  0.507835  \n",
       "3 -1.923608  \n",
       "4  0.507835  "
      ]
     },
     "execution_count": 92,
     "metadata": {},
     "output_type": "execute_result"
    }
   ],
   "source": [
    "titanic.head()"
   ]
  },
  {
   "cell_type": "code",
   "execution_count": 94,
   "metadata": {},
   "outputs": [
    {
     "data": {
      "text/plain": [
       "Survived    418\n",
       "Pclass        0\n",
       "Age           0\n",
       "Fare          0\n",
       "Family        0\n",
       "Sex           0\n",
       "Embarked      0\n",
       "Deck          0\n",
       "dtype: int64"
      ]
     },
     "execution_count": 94,
     "metadata": {},
     "output_type": "execute_result"
    }
   ],
   "source": [
    "titanic.isna().sum()"
   ]
  },
  {
   "cell_type": "code",
   "execution_count": 78,
   "metadata": {},
   "outputs": [],
   "source": [
    "titanic.to_csv('titanic.csv',index=False)"
   ]
  },
  {
   "cell_type": "code",
   "execution_count": 95,
   "metadata": {},
   "outputs": [],
   "source": [
    "#Cargar el dataframe con el preprocesamiento listo\n",
    "titanic =pd.read_csv('titanic.csv')"
   ]
  },
  {
   "attachments": {},
   "cell_type": "markdown",
   "metadata": {},
   "source": [
    "Preparar el test y train data"
   ]
  },
  {
   "cell_type": "code",
   "execution_count": 96,
   "metadata": {},
   "outputs": [
    {
     "data": {
      "text/html": [
       "<div>\n",
       "<style scoped>\n",
       "    .dataframe tbody tr th:only-of-type {\n",
       "        vertical-align: middle;\n",
       "    }\n",
       "\n",
       "    .dataframe tbody tr th {\n",
       "        vertical-align: top;\n",
       "    }\n",
       "\n",
       "    .dataframe thead th {\n",
       "        text-align: right;\n",
       "    }\n",
       "</style>\n",
       "<table border=\"1\" class=\"dataframe\">\n",
       "  <thead>\n",
       "    <tr style=\"text-align: right;\">\n",
       "      <th></th>\n",
       "      <th>Pclass</th>\n",
       "      <th>Age</th>\n",
       "      <th>Fare</th>\n",
       "      <th>Family</th>\n",
       "      <th>Sex</th>\n",
       "      <th>Embarked</th>\n",
       "      <th>Deck</th>\n",
       "    </tr>\n",
       "  </thead>\n",
       "  <tbody>\n",
       "    <tr>\n",
       "      <th>891</th>\n",
       "      <td>0.841916</td>\n",
       "      <td>0.320607</td>\n",
       "      <td>-0.492073</td>\n",
       "      <td>-0.432161</td>\n",
       "      <td>0.743497</td>\n",
       "      <td>-0.606323</td>\n",
       "      <td>0.507835</td>\n",
       "    </tr>\n",
       "    <tr>\n",
       "      <th>892</th>\n",
       "      <td>0.841916</td>\n",
       "      <td>1.188265</td>\n",
       "      <td>-0.508104</td>\n",
       "      <td>-0.432161</td>\n",
       "      <td>-1.344995</td>\n",
       "      <td>0.622279</td>\n",
       "      <td>0.507835</td>\n",
       "    </tr>\n",
       "    <tr>\n",
       "      <th>893</th>\n",
       "      <td>-0.352091</td>\n",
       "      <td>2.229454</td>\n",
       "      <td>-0.456144</td>\n",
       "      <td>-0.432161</td>\n",
       "      <td>0.743497</td>\n",
       "      <td>-0.606323</td>\n",
       "      <td>0.507835</td>\n",
       "    </tr>\n",
       "    <tr>\n",
       "      <th>894</th>\n",
       "      <td>0.841916</td>\n",
       "      <td>-0.199987</td>\n",
       "      <td>-0.475961</td>\n",
       "      <td>-0.432161</td>\n",
       "      <td>0.743497</td>\n",
       "      <td>0.622279</td>\n",
       "      <td>0.507835</td>\n",
       "    </tr>\n",
       "    <tr>\n",
       "      <th>895</th>\n",
       "      <td>0.841916</td>\n",
       "      <td>-0.547050</td>\n",
       "      <td>-0.405875</td>\n",
       "      <td>2.313951</td>\n",
       "      <td>-1.344995</td>\n",
       "      <td>0.622279</td>\n",
       "      <td>0.507835</td>\n",
       "    </tr>\n",
       "  </tbody>\n",
       "</table>\n",
       "</div>"
      ],
      "text/plain": [
       "       Pclass       Age      Fare    Family       Sex  Embarked      Deck\n",
       "891  0.841916  0.320607 -0.492073 -0.432161  0.743497 -0.606323  0.507835\n",
       "892  0.841916  1.188265 -0.508104 -0.432161 -1.344995  0.622279  0.507835\n",
       "893 -0.352091  2.229454 -0.456144 -0.432161  0.743497 -0.606323  0.507835\n",
       "894  0.841916 -0.199987 -0.475961 -0.432161  0.743497  0.622279  0.507835\n",
       "895  0.841916 -0.547050 -0.405875  2.313951 -1.344995  0.622279  0.507835"
      ]
     },
     "execution_count": 96,
     "metadata": {},
     "output_type": "execute_result"
    }
   ],
   "source": [
    "titanic_test = titanic[titanic.Survived.isnull()]\n",
    "titanic_test = titanic_test.drop(['Survived'], axis='columns')\n",
    "titanic_test.head()"
   ]
  },
  {
   "cell_type": "code",
   "execution_count": 97,
   "metadata": {},
   "outputs": [],
   "source": [
    "titanic_train = titanic.dropna()"
   ]
  },
  {
   "cell_type": "code",
   "execution_count": 98,
   "metadata": {},
   "outputs": [],
   "source": [
    "titanic_train_X = titanic_train.drop(['Survived'], axis='columns')\n",
    "titanic_train_y = pd.DataFrame(titanic_train['Survived'])"
   ]
  },
  {
   "cell_type": "code",
   "execution_count": 99,
   "metadata": {},
   "outputs": [
    {
     "name": "stdout",
     "output_type": "stream",
     "text": [
      "<class 'pandas.core.frame.DataFrame'>\n",
      "Int64Index: 418 entries, 891 to 1308\n",
      "Data columns (total 7 columns):\n",
      " #   Column    Non-Null Count  Dtype  \n",
      "---  ------    --------------  -----  \n",
      " 0   Pclass    418 non-null    float64\n",
      " 1   Age       418 non-null    float64\n",
      " 2   Fare      418 non-null    float64\n",
      " 3   Family    418 non-null    float64\n",
      " 4   Sex       418 non-null    float64\n",
      " 5   Embarked  418 non-null    float64\n",
      " 6   Deck      418 non-null    float64\n",
      "dtypes: float64(7)\n",
      "memory usage: 26.1 KB\n"
     ]
    }
   ],
   "source": [
    "titanic_test.info()"
   ]
  },
  {
   "attachments": {},
   "cell_type": "markdown",
   "metadata": {},
   "source": [
    "## Probar modelos"
   ]
  },
  {
   "attachments": {},
   "cell_type": "markdown",
   "metadata": {},
   "source": [
    "### División de datos"
   ]
  },
  {
   "cell_type": "code",
   "execution_count": 84,
   "metadata": {},
   "outputs": [],
   "source": [
    "from sklearn.model_selection import train_test_split"
   ]
  },
  {
   "cell_type": "code",
   "execution_count": 100,
   "metadata": {},
   "outputs": [],
   "source": [
    "X_train, X_test, y_train, y_test = train_test_split(titanic_train_X, titanic_train_y, test_size=0.2, random_state=2023)"
   ]
  },
  {
   "cell_type": "code",
   "execution_count": 121,
   "metadata": {},
   "outputs": [],
   "source": [
    "#Librerías de keras\n",
    "import tensorflow as tf\n",
    "layers = tf.keras.layers\n",
    "from tensorflow.keras.models import Sequential\n",
    "from tensorflow.keras.layers import InputLayer, Dense, Dropout\n",
    "from tensorflow.keras.optimizers import SGD #(stochastic gradien descent) \n",
    "from tensorflow.keras.callbacks import EarlyStopping\n",
    "from tensorflow.keras.wrappers.scikit_learn import KerasClassifier\n",
    "from tensorflow.keras import regularizers"
   ]
  },
  {
   "cell_type": "code",
   "execution_count": 102,
   "metadata": {},
   "outputs": [],
   "source": [
    "#Métricas de predicciones\n",
    "from sklearn.metrics import classification_report, confusion_matrix\n",
    "from sklearn.metrics import make_scorer, accuracy_score, precision_score, recall_score, f1_score"
   ]
  },
  {
   "cell_type": "code",
   "execution_count": 103,
   "metadata": {},
   "outputs": [
    {
     "data": {
      "text/plain": [
       "7"
      ]
     },
     "execution_count": 103,
     "metadata": {},
     "output_type": "execute_result"
    }
   ],
   "source": [
    "X_train.shape[1]"
   ]
  },
  {
   "cell_type": "code",
   "execution_count": 174,
   "metadata": {},
   "outputs": [
    {
     "name": "stdout",
     "output_type": "stream",
     "text": [
      "Epoch 1/500\n",
      "57/57 - 3s - loss: 2.5153 - accuracy: 0.7118 - val_loss: 2.4269 - val_accuracy: 0.8112 - 3s/epoch - 55ms/step\n",
      "Epoch 2/500\n",
      "57/57 - 1s - loss: 2.3567 - accuracy: 0.7364 - val_loss: 2.2697 - val_accuracy: 0.7972 - 918ms/epoch - 16ms/step\n",
      "Epoch 3/500\n",
      "57/57 - 1s - loss: 2.2095 - accuracy: 0.7417 - val_loss: 2.1189 - val_accuracy: 0.7972 - 1s/epoch - 20ms/step\n",
      "Epoch 4/500\n",
      "57/57 - 1s - loss: 2.0701 - accuracy: 0.7522 - val_loss: 1.9777 - val_accuracy: 0.8252 - 1s/epoch - 19ms/step\n",
      "Epoch 5/500\n",
      "57/57 - 1s - loss: 1.9426 - accuracy: 0.7715 - val_loss: 1.8508 - val_accuracy: 0.8252 - 1s/epoch - 19ms/step\n",
      "Epoch 6/500\n",
      "57/57 - 1s - loss: 1.8306 - accuracy: 0.7698 - val_loss: 1.7415 - val_accuracy: 0.8182 - 930ms/epoch - 16ms/step\n",
      "Epoch 7/500\n",
      "57/57 - 1s - loss: 1.7324 - accuracy: 0.7873 - val_loss: 1.6460 - val_accuracy: 0.8252 - 1s/epoch - 18ms/step\n",
      "Epoch 8/500\n",
      "57/57 - 1s - loss: 1.6478 - accuracy: 0.7856 - val_loss: 1.5638 - val_accuracy: 0.8322 - 1s/epoch - 20ms/step\n",
      "Epoch 9/500\n",
      "57/57 - 1s - loss: 1.5701 - accuracy: 0.7838 - val_loss: 1.4917 - val_accuracy: 0.8392 - 1s/epoch - 22ms/step\n",
      "Epoch 10/500\n",
      "57/57 - 1s - loss: 1.5028 - accuracy: 0.7873 - val_loss: 1.4259 - val_accuracy: 0.8392 - 1s/epoch - 24ms/step\n",
      "Epoch 11/500\n",
      "57/57 - 2s - loss: 1.4418 - accuracy: 0.7909 - val_loss: 1.3682 - val_accuracy: 0.8462 - 2s/epoch - 28ms/step\n",
      "Epoch 12/500\n",
      "57/57 - 1s - loss: 1.3862 - accuracy: 0.7891 - val_loss: 1.3152 - val_accuracy: 0.8462 - 1s/epoch - 26ms/step\n",
      "Epoch 13/500\n",
      "57/57 - 1s - loss: 1.3338 - accuracy: 0.7891 - val_loss: 1.2661 - val_accuracy: 0.8531 - 1s/epoch - 22ms/step\n",
      "Epoch 14/500\n",
      "57/57 - 1s - loss: 1.2882 - accuracy: 0.7873 - val_loss: 1.2219 - val_accuracy: 0.8531 - 1s/epoch - 20ms/step\n",
      "Epoch 15/500\n",
      "57/57 - 1s - loss: 1.2443 - accuracy: 0.7891 - val_loss: 1.1824 - val_accuracy: 0.8531 - 1s/epoch - 26ms/step\n",
      "Epoch 16/500\n",
      "57/57 - 1s - loss: 1.2070 - accuracy: 0.7944 - val_loss: 1.1450 - val_accuracy: 0.8531 - 1s/epoch - 22ms/step\n",
      "Epoch 17/500\n",
      "57/57 - 1s - loss: 1.1693 - accuracy: 0.7979 - val_loss: 1.1122 - val_accuracy: 0.8462 - 1s/epoch - 21ms/step\n",
      "Epoch 18/500\n",
      "57/57 - 1s - loss: 1.1356 - accuracy: 0.7926 - val_loss: 1.0804 - val_accuracy: 0.8462 - 1s/epoch - 22ms/step\n",
      "Epoch 19/500\n",
      "57/57 - 1s - loss: 1.1071 - accuracy: 0.7961 - val_loss: 1.0520 - val_accuracy: 0.8531 - 1s/epoch - 18ms/step\n",
      "Epoch 20/500\n",
      "57/57 - 1s - loss: 1.0776 - accuracy: 0.8032 - val_loss: 1.0247 - val_accuracy: 0.8462 - 1s/epoch - 22ms/step\n",
      "Epoch 21/500\n",
      "57/57 - 1s - loss: 1.0498 - accuracy: 0.7944 - val_loss: 0.9992 - val_accuracy: 0.8462 - 1s/epoch - 19ms/step\n",
      "Epoch 22/500\n",
      "57/57 - 1s - loss: 1.0238 - accuracy: 0.7979 - val_loss: 0.9754 - val_accuracy: 0.8462 - 875ms/epoch - 15ms/step\n",
      "Epoch 23/500\n",
      "57/57 - 1s - loss: 0.9997 - accuracy: 0.7979 - val_loss: 0.9536 - val_accuracy: 0.8462 - 947ms/epoch - 17ms/step\n",
      "Epoch 24/500\n",
      "57/57 - 1s - loss: 0.9773 - accuracy: 0.7996 - val_loss: 0.9332 - val_accuracy: 0.8462 - 1s/epoch - 19ms/step\n",
      "Epoch 25/500\n",
      "57/57 - 1s - loss: 0.9573 - accuracy: 0.7961 - val_loss: 0.9139 - val_accuracy: 0.8462 - 1s/epoch - 18ms/step\n",
      "Epoch 26/500\n",
      "57/57 - 1s - loss: 0.9373 - accuracy: 0.8014 - val_loss: 0.8948 - val_accuracy: 0.8462 - 919ms/epoch - 16ms/step\n",
      "Epoch 27/500\n",
      "57/57 - 1s - loss: 0.9173 - accuracy: 0.7926 - val_loss: 0.8774 - val_accuracy: 0.8392 - 887ms/epoch - 16ms/step\n",
      "Epoch 28/500\n",
      "57/57 - 1s - loss: 0.8985 - accuracy: 0.7979 - val_loss: 0.8619 - val_accuracy: 0.8462 - 884ms/epoch - 16ms/step\n",
      "Epoch 29/500\n",
      "57/57 - 1s - loss: 0.8835 - accuracy: 0.8032 - val_loss: 0.8457 - val_accuracy: 0.8392 - 877ms/epoch - 15ms/step\n",
      "Epoch 30/500\n",
      "57/57 - 1s - loss: 0.8693 - accuracy: 0.7961 - val_loss: 0.8310 - val_accuracy: 0.8392 - 928ms/epoch - 16ms/step\n",
      "Epoch 31/500\n",
      "57/57 - 1s - loss: 0.8557 - accuracy: 0.8014 - val_loss: 0.8183 - val_accuracy: 0.8462 - 1s/epoch - 18ms/step\n",
      "Epoch 32/500\n",
      "57/57 - 1s - loss: 0.8414 - accuracy: 0.8014 - val_loss: 0.8060 - val_accuracy: 0.8392 - 1s/epoch - 19ms/step\n",
      "Epoch 33/500\n",
      "57/57 - 1s - loss: 0.8288 - accuracy: 0.7996 - val_loss: 0.7936 - val_accuracy: 0.8462 - 1s/epoch - 20ms/step\n",
      "Epoch 34/500\n",
      "57/57 - 1s - loss: 0.8149 - accuracy: 0.7996 - val_loss: 0.7821 - val_accuracy: 0.8392 - 1s/epoch - 18ms/step\n",
      "Epoch 35/500\n",
      "57/57 - 1s - loss: 0.8028 - accuracy: 0.7979 - val_loss: 0.7712 - val_accuracy: 0.8392 - 992ms/epoch - 17ms/step\n",
      "Epoch 36/500\n",
      "57/57 - 1s - loss: 0.7914 - accuracy: 0.8049 - val_loss: 0.7613 - val_accuracy: 0.8392 - 911ms/epoch - 16ms/step\n",
      "Epoch 37/500\n",
      "57/57 - 1s - loss: 0.7831 - accuracy: 0.8049 - val_loss: 0.7511 - val_accuracy: 0.8392 - 874ms/epoch - 15ms/step\n",
      "Epoch 38/500\n",
      "57/57 - 1s - loss: 0.7707 - accuracy: 0.8067 - val_loss: 0.7423 - val_accuracy: 0.8392 - 1s/epoch - 18ms/step\n",
      "Epoch 39/500\n",
      "57/57 - 1s - loss: 0.7617 - accuracy: 0.8014 - val_loss: 0.7329 - val_accuracy: 0.8392 - 879ms/epoch - 15ms/step\n",
      "Epoch 40/500\n",
      "57/57 - 1s - loss: 0.7510 - accuracy: 0.8084 - val_loss: 0.7240 - val_accuracy: 0.8392 - 945ms/epoch - 17ms/step\n",
      "Epoch 41/500\n",
      "57/57 - 1s - loss: 0.7435 - accuracy: 0.8137 - val_loss: 0.7164 - val_accuracy: 0.8392 - 811ms/epoch - 14ms/step\n",
      "Epoch 42/500\n",
      "57/57 - 1s - loss: 0.7345 - accuracy: 0.8084 - val_loss: 0.7097 - val_accuracy: 0.8392 - 888ms/epoch - 16ms/step\n",
      "Epoch 43/500\n",
      "57/57 - 1s - loss: 0.7282 - accuracy: 0.8120 - val_loss: 0.7024 - val_accuracy: 0.8392 - 909ms/epoch - 16ms/step\n",
      "Epoch 44/500\n",
      "57/57 - 1s - loss: 0.7199 - accuracy: 0.8102 - val_loss: 0.6954 - val_accuracy: 0.8392 - 1s/epoch - 18ms/step\n",
      "Epoch 45/500\n",
      "57/57 - 1s - loss: 0.7139 - accuracy: 0.8084 - val_loss: 0.6884 - val_accuracy: 0.8392 - 1s/epoch - 18ms/step\n",
      "Epoch 46/500\n",
      "57/57 - 1s - loss: 0.7055 - accuracy: 0.8067 - val_loss: 0.6825 - val_accuracy: 0.8392 - 851ms/epoch - 15ms/step\n",
      "Epoch 47/500\n",
      "57/57 - 1s - loss: 0.6996 - accuracy: 0.8049 - val_loss: 0.6764 - val_accuracy: 0.8392 - 854ms/epoch - 15ms/step\n",
      "Epoch 48/500\n",
      "57/57 - 1s - loss: 0.6936 - accuracy: 0.8120 - val_loss: 0.6707 - val_accuracy: 0.8392 - 896ms/epoch - 16ms/step\n",
      "Epoch 49/500\n",
      "57/57 - 1s - loss: 0.6876 - accuracy: 0.8084 - val_loss: 0.6649 - val_accuracy: 0.8392 - 882ms/epoch - 15ms/step\n",
      "Epoch 50/500\n",
      "57/57 - 1s - loss: 0.6823 - accuracy: 0.8102 - val_loss: 0.6591 - val_accuracy: 0.8392 - 856ms/epoch - 15ms/step\n",
      "Epoch 51/500\n",
      "57/57 - 1s - loss: 0.6743 - accuracy: 0.8102 - val_loss: 0.6552 - val_accuracy: 0.8392 - 834ms/epoch - 15ms/step\n",
      "Epoch 52/500\n",
      "57/57 - 1s - loss: 0.6707 - accuracy: 0.8084 - val_loss: 0.6498 - val_accuracy: 0.8322 - 823ms/epoch - 14ms/step\n",
      "Epoch 53/500\n",
      "57/57 - 1s - loss: 0.6659 - accuracy: 0.8067 - val_loss: 0.6454 - val_accuracy: 0.8392 - 856ms/epoch - 15ms/step\n",
      "Epoch 54/500\n",
      "57/57 - 1s - loss: 0.6602 - accuracy: 0.8067 - val_loss: 0.6405 - val_accuracy: 0.8392 - 863ms/epoch - 15ms/step\n",
      "Epoch 55/500\n",
      "57/57 - 1s - loss: 0.6542 - accuracy: 0.8084 - val_loss: 0.6353 - val_accuracy: 0.8322 - 850ms/epoch - 15ms/step\n",
      "Epoch 56/500\n",
      "57/57 - 1s - loss: 0.6526 - accuracy: 0.8084 - val_loss: 0.6325 - val_accuracy: 0.8392 - 958ms/epoch - 17ms/step\n",
      "Epoch 57/500\n",
      "57/57 - 1s - loss: 0.6478 - accuracy: 0.8084 - val_loss: 0.6279 - val_accuracy: 0.8392 - 910ms/epoch - 16ms/step\n",
      "Epoch 58/500\n",
      "57/57 - 1s - loss: 0.6419 - accuracy: 0.8084 - val_loss: 0.6236 - val_accuracy: 0.8322 - 844ms/epoch - 15ms/step\n",
      "Epoch 59/500\n",
      "57/57 - 1s - loss: 0.6373 - accuracy: 0.8102 - val_loss: 0.6193 - val_accuracy: 0.8252 - 806ms/epoch - 14ms/step\n",
      "Epoch 60/500\n",
      "57/57 - 1s - loss: 0.6328 - accuracy: 0.8102 - val_loss: 0.6159 - val_accuracy: 0.8252 - 812ms/epoch - 14ms/step\n",
      "Epoch 61/500\n",
      "57/57 - 1s - loss: 0.6315 - accuracy: 0.8155 - val_loss: 0.6122 - val_accuracy: 0.8252 - 903ms/epoch - 16ms/step\n",
      "Epoch 62/500\n",
      "57/57 - 1s - loss: 0.6266 - accuracy: 0.8084 - val_loss: 0.6082 - val_accuracy: 0.8252 - 848ms/epoch - 15ms/step\n",
      "Epoch 63/500\n",
      "57/57 - 1s - loss: 0.6244 - accuracy: 0.8120 - val_loss: 0.6056 - val_accuracy: 0.8252 - 844ms/epoch - 15ms/step\n",
      "Epoch 64/500\n",
      "57/57 - 1s - loss: 0.6204 - accuracy: 0.8120 - val_loss: 0.6019 - val_accuracy: 0.8252 - 844ms/epoch - 15ms/step\n",
      "Epoch 65/500\n",
      "57/57 - 1s - loss: 0.6147 - accuracy: 0.8102 - val_loss: 0.5988 - val_accuracy: 0.8252 - 910ms/epoch - 16ms/step\n",
      "Epoch 66/500\n",
      "57/57 - 1s - loss: 0.6129 - accuracy: 0.8102 - val_loss: 0.5963 - val_accuracy: 0.8252 - 885ms/epoch - 16ms/step\n",
      "Epoch 67/500\n",
      "57/57 - 1s - loss: 0.6106 - accuracy: 0.8155 - val_loss: 0.5933 - val_accuracy: 0.8252 - 885ms/epoch - 16ms/step\n",
      "Epoch 68/500\n",
      "57/57 - 1s - loss: 0.6052 - accuracy: 0.8120 - val_loss: 0.5913 - val_accuracy: 0.8322 - 847ms/epoch - 15ms/step\n",
      "Epoch 69/500\n",
      "57/57 - 1s - loss: 0.6024 - accuracy: 0.8084 - val_loss: 0.5878 - val_accuracy: 0.8252 - 831ms/epoch - 15ms/step\n",
      "Epoch 70/500\n",
      "57/57 - 1s - loss: 0.6004 - accuracy: 0.8172 - val_loss: 0.5849 - val_accuracy: 0.8252 - 983ms/epoch - 17ms/step\n",
      "Epoch 71/500\n",
      "57/57 - 1s - loss: 0.5991 - accuracy: 0.8102 - val_loss: 0.5822 - val_accuracy: 0.8252 - 850ms/epoch - 15ms/step\n",
      "Epoch 72/500\n",
      "57/57 - 1s - loss: 0.5934 - accuracy: 0.8155 - val_loss: 0.5799 - val_accuracy: 0.8252 - 833ms/epoch - 15ms/step\n",
      "Epoch 73/500\n",
      "57/57 - 1s - loss: 0.5927 - accuracy: 0.8137 - val_loss: 0.5777 - val_accuracy: 0.8252 - 829ms/epoch - 15ms/step\n",
      "Epoch 74/500\n",
      "57/57 - 1s - loss: 0.5900 - accuracy: 0.8120 - val_loss: 0.5760 - val_accuracy: 0.8252 - 869ms/epoch - 15ms/step\n",
      "Epoch 75/500\n",
      "57/57 - 1s - loss: 0.5897 - accuracy: 0.8014 - val_loss: 0.5733 - val_accuracy: 0.8252 - 865ms/epoch - 15ms/step\n",
      "Epoch 76/500\n",
      "57/57 - 1s - loss: 0.5840 - accuracy: 0.8137 - val_loss: 0.5710 - val_accuracy: 0.8252 - 829ms/epoch - 15ms/step\n",
      "Epoch 77/500\n",
      "57/57 - 1s - loss: 0.5824 - accuracy: 0.8067 - val_loss: 0.5692 - val_accuracy: 0.8252 - 809ms/epoch - 14ms/step\n",
      "Epoch 78/500\n",
      "57/57 - 1s - loss: 0.5808 - accuracy: 0.8084 - val_loss: 0.5670 - val_accuracy: 0.8252 - 1s/epoch - 20ms/step\n",
      "Epoch 79/500\n",
      "57/57 - 1s - loss: 0.5778 - accuracy: 0.8172 - val_loss: 0.5657 - val_accuracy: 0.8252 - 891ms/epoch - 16ms/step\n",
      "Epoch 80/500\n",
      "57/57 - 1s - loss: 0.5769 - accuracy: 0.8155 - val_loss: 0.5636 - val_accuracy: 0.8322 - 832ms/epoch - 15ms/step\n",
      "Epoch 81/500\n",
      "57/57 - 1s - loss: 0.5770 - accuracy: 0.8137 - val_loss: 0.5615 - val_accuracy: 0.8322 - 719ms/epoch - 13ms/step\n",
      "Epoch 82/500\n",
      "57/57 - 1s - loss: 0.5735 - accuracy: 0.8120 - val_loss: 0.5598 - val_accuracy: 0.8322 - 732ms/epoch - 13ms/step\n",
      "Epoch 83/500\n",
      "57/57 - 1s - loss: 0.5723 - accuracy: 0.8049 - val_loss: 0.5579 - val_accuracy: 0.8322 - 702ms/epoch - 12ms/step\n",
      "Epoch 84/500\n",
      "57/57 - 1s - loss: 0.5708 - accuracy: 0.8172 - val_loss: 0.5565 - val_accuracy: 0.8322 - 766ms/epoch - 13ms/step\n",
      "Epoch 85/500\n",
      "57/57 - 1s - loss: 0.5684 - accuracy: 0.8243 - val_loss: 0.5552 - val_accuracy: 0.8322 - 807ms/epoch - 14ms/step\n",
      "Epoch 86/500\n",
      "57/57 - 1s - loss: 0.5668 - accuracy: 0.8155 - val_loss: 0.5548 - val_accuracy: 0.8252 - 752ms/epoch - 13ms/step\n",
      "Epoch 87/500\n",
      "57/57 - 1s - loss: 0.5645 - accuracy: 0.8137 - val_loss: 0.5523 - val_accuracy: 0.8252 - 830ms/epoch - 15ms/step\n",
      "Epoch 88/500\n",
      "57/57 - 1s - loss: 0.5621 - accuracy: 0.8155 - val_loss: 0.5501 - val_accuracy: 0.8322 - 804ms/epoch - 14ms/step\n",
      "Epoch 89/500\n",
      "57/57 - 1s - loss: 0.5618 - accuracy: 0.8102 - val_loss: 0.5487 - val_accuracy: 0.8252 - 897ms/epoch - 16ms/step\n",
      "Epoch 90/500\n",
      "57/57 - 1s - loss: 0.5619 - accuracy: 0.8137 - val_loss: 0.5480 - val_accuracy: 0.8252 - 1s/epoch - 19ms/step\n",
      "Epoch 91/500\n",
      "57/57 - 1s - loss: 0.5558 - accuracy: 0.8102 - val_loss: 0.5456 - val_accuracy: 0.8322 - 1s/epoch - 18ms/step\n",
      "Epoch 92/500\n",
      "57/57 - 1s - loss: 0.5571 - accuracy: 0.8137 - val_loss: 0.5443 - val_accuracy: 0.8252 - 1s/epoch - 19ms/step\n",
      "Epoch 93/500\n",
      "57/57 - 1s - loss: 0.5550 - accuracy: 0.8137 - val_loss: 0.5430 - val_accuracy: 0.8322 - 883ms/epoch - 15ms/step\n",
      "Epoch 94/500\n",
      "57/57 - 1s - loss: 0.5525 - accuracy: 0.8102 - val_loss: 0.5409 - val_accuracy: 0.8322 - 1s/epoch - 23ms/step\n",
      "Epoch 95/500\n",
      "57/57 - 1s - loss: 0.5517 - accuracy: 0.8014 - val_loss: 0.5399 - val_accuracy: 0.8252 - 1s/epoch - 21ms/step\n",
      "Epoch 96/500\n",
      "57/57 - 1s - loss: 0.5501 - accuracy: 0.8172 - val_loss: 0.5393 - val_accuracy: 0.8252 - 1s/epoch - 24ms/step\n",
      "Epoch 97/500\n",
      "57/57 - 1s - loss: 0.5484 - accuracy: 0.8190 - val_loss: 0.5376 - val_accuracy: 0.8322 - 1s/epoch - 23ms/step\n",
      "Epoch 98/500\n",
      "57/57 - 1s - loss: 0.5457 - accuracy: 0.8155 - val_loss: 0.5360 - val_accuracy: 0.8322 - 1s/epoch - 23ms/step\n",
      "Epoch 99/500\n",
      "57/57 - 2s - loss: 0.5478 - accuracy: 0.8084 - val_loss: 0.5347 - val_accuracy: 0.8322 - 2s/epoch - 27ms/step\n",
      "Epoch 100/500\n",
      "57/57 - 1s - loss: 0.5424 - accuracy: 0.8190 - val_loss: 0.5335 - val_accuracy: 0.8322 - 1s/epoch - 25ms/step\n",
      "Epoch 101/500\n",
      "57/57 - 1s - loss: 0.5434 - accuracy: 0.8102 - val_loss: 0.5322 - val_accuracy: 0.8322 - 1s/epoch - 20ms/step\n",
      "Epoch 102/500\n",
      "57/57 - 1s - loss: 0.5419 - accuracy: 0.8102 - val_loss: 0.5311 - val_accuracy: 0.8322 - 1s/epoch - 24ms/step\n",
      "Epoch 103/500\n",
      "57/57 - 1s - loss: 0.5411 - accuracy: 0.8155 - val_loss: 0.5299 - val_accuracy: 0.8322 - 1s/epoch - 24ms/step\n",
      "Epoch 104/500\n",
      "57/57 - 1s - loss: 0.5402 - accuracy: 0.8084 - val_loss: 0.5287 - val_accuracy: 0.8322 - 1s/epoch - 20ms/step\n",
      "Epoch 105/500\n",
      "57/57 - 1s - loss: 0.5372 - accuracy: 0.8207 - val_loss: 0.5283 - val_accuracy: 0.8322 - 1s/epoch - 25ms/step\n",
      "Epoch 106/500\n",
      "57/57 - 1s - loss: 0.5351 - accuracy: 0.8155 - val_loss: 0.5265 - val_accuracy: 0.8322 - 1s/epoch - 21ms/step\n",
      "Epoch 107/500\n",
      "57/57 - 1s - loss: 0.5377 - accuracy: 0.8172 - val_loss: 0.5249 - val_accuracy: 0.8322 - 1s/epoch - 23ms/step\n",
      "Epoch 108/500\n",
      "57/57 - 1s - loss: 0.5353 - accuracy: 0.8120 - val_loss: 0.5249 - val_accuracy: 0.8252 - 1s/epoch - 21ms/step\n",
      "Epoch 109/500\n",
      "57/57 - 1s - loss: 0.5319 - accuracy: 0.8207 - val_loss: 0.5239 - val_accuracy: 0.8322 - 1s/epoch - 23ms/step\n",
      "Epoch 110/500\n",
      "57/57 - 2s - loss: 0.5329 - accuracy: 0.8190 - val_loss: 0.5231 - val_accuracy: 0.8322 - 2s/epoch - 32ms/step\n",
      "Epoch 111/500\n",
      "57/57 - 1s - loss: 0.5331 - accuracy: 0.8155 - val_loss: 0.5217 - val_accuracy: 0.8322 - 1s/epoch - 23ms/step\n",
      "Epoch 112/500\n",
      "57/57 - 1s - loss: 0.5304 - accuracy: 0.8155 - val_loss: 0.5214 - val_accuracy: 0.8322 - 1s/epoch - 23ms/step\n",
      "Epoch 113/500\n",
      "57/57 - 1s - loss: 0.5289 - accuracy: 0.8120 - val_loss: 0.5211 - val_accuracy: 0.8252 - 1s/epoch - 20ms/step\n",
      "Epoch 114/500\n",
      "57/57 - 1s - loss: 0.5285 - accuracy: 0.8207 - val_loss: 0.5193 - val_accuracy: 0.8322 - 1s/epoch - 24ms/step\n",
      "Epoch 115/500\n",
      "57/57 - 1s - loss: 0.5257 - accuracy: 0.8137 - val_loss: 0.5192 - val_accuracy: 0.8252 - 1s/epoch - 24ms/step\n",
      "Epoch 116/500\n",
      "57/57 - 1s - loss: 0.5233 - accuracy: 0.8207 - val_loss: 0.5173 - val_accuracy: 0.8322 - 1s/epoch - 20ms/step\n",
      "Epoch 117/500\n",
      "57/57 - 1s - loss: 0.5239 - accuracy: 0.8120 - val_loss: 0.5154 - val_accuracy: 0.8322 - 1s/epoch - 24ms/step\n",
      "Epoch 118/500\n",
      "57/57 - 1s - loss: 0.5223 - accuracy: 0.8190 - val_loss: 0.5157 - val_accuracy: 0.8252 - 1s/epoch - 21ms/step\n",
      "Epoch 119/500\n",
      "57/57 - 1s - loss: 0.5229 - accuracy: 0.8155 - val_loss: 0.5147 - val_accuracy: 0.8252 - 1s/epoch - 22ms/step\n",
      "Epoch 120/500\n",
      "57/57 - 2s - loss: 0.5227 - accuracy: 0.8137 - val_loss: 0.5131 - val_accuracy: 0.8322 - 2s/epoch - 27ms/step\n",
      "Epoch 121/500\n",
      "57/57 - 1s - loss: 0.5214 - accuracy: 0.8207 - val_loss: 0.5137 - val_accuracy: 0.8252 - 1s/epoch - 23ms/step\n",
      "Epoch 122/500\n",
      "57/57 - 3s - loss: 0.5193 - accuracy: 0.8190 - val_loss: 0.5120 - val_accuracy: 0.8322 - 3s/epoch - 48ms/step\n",
      "Epoch 123/500\n",
      "57/57 - 2s - loss: 0.5184 - accuracy: 0.8172 - val_loss: 0.5113 - val_accuracy: 0.8252 - 2s/epoch - 32ms/step\n",
      "Epoch 124/500\n",
      "57/57 - 2s - loss: 0.5183 - accuracy: 0.8190 - val_loss: 0.5101 - val_accuracy: 0.8322 - 2s/epoch - 28ms/step\n",
      "Epoch 125/500\n",
      "57/57 - 2s - loss: 0.5160 - accuracy: 0.8207 - val_loss: 0.5099 - val_accuracy: 0.8322 - 2s/epoch - 30ms/step\n",
      "Epoch 126/500\n",
      "57/57 - 3s - loss: 0.5158 - accuracy: 0.8190 - val_loss: 0.5093 - val_accuracy: 0.8322 - 3s/epoch - 47ms/step\n",
      "Epoch 127/500\n",
      "57/57 - 3s - loss: 0.5153 - accuracy: 0.8190 - val_loss: 0.5080 - val_accuracy: 0.8322 - 3s/epoch - 50ms/step\n",
      "Epoch 128/500\n",
      "57/57 - 3s - loss: 0.5155 - accuracy: 0.8155 - val_loss: 0.5087 - val_accuracy: 0.8322 - 3s/epoch - 49ms/step\n",
      "Epoch 129/500\n",
      "57/57 - 3s - loss: 0.5132 - accuracy: 0.8225 - val_loss: 0.5073 - val_accuracy: 0.8252 - 3s/epoch - 48ms/step\n",
      "Epoch 130/500\n",
      "57/57 - 2s - loss: 0.5147 - accuracy: 0.8155 - val_loss: 0.5063 - val_accuracy: 0.8252 - 2s/epoch - 41ms/step\n",
      "Epoch 131/500\n",
      "57/57 - 2s - loss: 0.5111 - accuracy: 0.8172 - val_loss: 0.5067 - val_accuracy: 0.8252 - 2s/epoch - 38ms/step\n",
      "Epoch 132/500\n",
      "57/57 - 3s - loss: 0.5117 - accuracy: 0.8172 - val_loss: 0.5049 - val_accuracy: 0.8322 - 3s/epoch - 44ms/step\n",
      "Epoch 133/500\n",
      "57/57 - 2s - loss: 0.5100 - accuracy: 0.8190 - val_loss: 0.5047 - val_accuracy: 0.8252 - 2s/epoch - 43ms/step\n",
      "Epoch 134/500\n",
      "57/57 - 2s - loss: 0.5099 - accuracy: 0.8172 - val_loss: 0.5046 - val_accuracy: 0.8252 - 2s/epoch - 38ms/step\n",
      "Epoch 135/500\n",
      "57/57 - 4s - loss: 0.5067 - accuracy: 0.8207 - val_loss: 0.5025 - val_accuracy: 0.8322 - 4s/epoch - 67ms/step\n",
      "Epoch 136/500\n",
      "57/57 - 3s - loss: 0.5078 - accuracy: 0.8260 - val_loss: 0.5030 - val_accuracy: 0.8252 - 3s/epoch - 58ms/step\n",
      "Epoch 137/500\n",
      "57/57 - 3s - loss: 0.5072 - accuracy: 0.8137 - val_loss: 0.5014 - val_accuracy: 0.8322 - 3s/epoch - 45ms/step\n",
      "Epoch 138/500\n",
      "57/57 - 4s - loss: 0.5063 - accuracy: 0.8137 - val_loss: 0.5011 - val_accuracy: 0.8322 - 4s/epoch - 71ms/step\n",
      "Epoch 139/500\n",
      "57/57 - 3s - loss: 0.5058 - accuracy: 0.8190 - val_loss: 0.5002 - val_accuracy: 0.8322 - 3s/epoch - 51ms/step\n",
      "Epoch 140/500\n",
      "57/57 - 3s - loss: 0.5044 - accuracy: 0.8155 - val_loss: 0.5004 - val_accuracy: 0.8252 - 3s/epoch - 54ms/step\n",
      "Epoch 141/500\n",
      "57/57 - 3s - loss: 0.5035 - accuracy: 0.8207 - val_loss: 0.5000 - val_accuracy: 0.8252 - 3s/epoch - 50ms/step\n",
      "Epoch 142/500\n",
      "57/57 - 1s - loss: 0.5038 - accuracy: 0.8260 - val_loss: 0.4989 - val_accuracy: 0.8322 - 1s/epoch - 25ms/step\n",
      "Epoch 143/500\n",
      "57/57 - 1s - loss: 0.5027 - accuracy: 0.8207 - val_loss: 0.4979 - val_accuracy: 0.8322 - 1s/epoch - 19ms/step\n",
      "Epoch 144/500\n",
      "57/57 - 1s - loss: 0.5034 - accuracy: 0.8260 - val_loss: 0.4987 - val_accuracy: 0.8252 - 997ms/epoch - 17ms/step\n",
      "Epoch 145/500\n",
      "57/57 - 1s - loss: 0.5011 - accuracy: 0.8207 - val_loss: 0.4982 - val_accuracy: 0.8252 - 1s/epoch - 18ms/step\n",
      "Epoch 146/500\n",
      "57/57 - 1s - loss: 0.4998 - accuracy: 0.8120 - val_loss: 0.4976 - val_accuracy: 0.8252 - 1s/epoch - 18ms/step\n",
      "Epoch 147/500\n",
      "57/57 - 1s - loss: 0.5021 - accuracy: 0.8120 - val_loss: 0.4961 - val_accuracy: 0.8322 - 1s/epoch - 18ms/step\n",
      "Epoch 148/500\n",
      "57/57 - 2s - loss: 0.4997 - accuracy: 0.8172 - val_loss: 0.4959 - val_accuracy: 0.8322 - 2s/epoch - 38ms/step\n",
      "Epoch 149/500\n",
      "57/57 - 2s - loss: 0.4990 - accuracy: 0.8207 - val_loss: 0.4951 - val_accuracy: 0.8322 - 2s/epoch - 35ms/step\n",
      "Epoch 150/500\n",
      "57/57 - 2s - loss: 0.4994 - accuracy: 0.8172 - val_loss: 0.4950 - val_accuracy: 0.8322 - 2s/epoch - 37ms/step\n",
      "Epoch 151/500\n",
      "57/57 - 2s - loss: 0.4981 - accuracy: 0.8172 - val_loss: 0.4944 - val_accuracy: 0.8252 - 2s/epoch - 37ms/step\n",
      "Epoch 152/500\n",
      "57/57 - 2s - loss: 0.4972 - accuracy: 0.8207 - val_loss: 0.4931 - val_accuracy: 0.8392 - 2s/epoch - 41ms/step\n",
      "Epoch 153/500\n",
      "57/57 - 2s - loss: 0.4972 - accuracy: 0.8190 - val_loss: 0.4932 - val_accuracy: 0.8252 - 2s/epoch - 27ms/step\n",
      "Epoch 154/500\n",
      "57/57 - 2s - loss: 0.4961 - accuracy: 0.8172 - val_loss: 0.4928 - val_accuracy: 0.8322 - 2s/epoch - 27ms/step\n",
      "Epoch 155/500\n",
      "57/57 - 2s - loss: 0.4964 - accuracy: 0.8190 - val_loss: 0.4931 - val_accuracy: 0.8252 - 2s/epoch - 28ms/step\n",
      "Epoch 156/500\n",
      "57/57 - 1s - loss: 0.4974 - accuracy: 0.8172 - val_loss: 0.4914 - val_accuracy: 0.8322 - 1s/epoch - 20ms/step\n",
      "Epoch 157/500\n",
      "57/57 - 2s - loss: 0.4956 - accuracy: 0.8190 - val_loss: 0.4912 - val_accuracy: 0.8322 - 2s/epoch - 27ms/step\n",
      "Epoch 158/500\n",
      "57/57 - 1s - loss: 0.4970 - accuracy: 0.8207 - val_loss: 0.4908 - val_accuracy: 0.8322 - 1s/epoch - 19ms/step\n",
      "Epoch 159/500\n",
      "57/57 - 1s - loss: 0.4935 - accuracy: 0.8260 - val_loss: 0.4923 - val_accuracy: 0.8252 - 1s/epoch - 24ms/step\n",
      "Epoch 160/500\n",
      "57/57 - 1s - loss: 0.4958 - accuracy: 0.8172 - val_loss: 0.4901 - val_accuracy: 0.8322 - 1s/epoch - 21ms/step\n",
      "Epoch 161/500\n",
      "57/57 - 2s - loss: 0.4956 - accuracy: 0.8137 - val_loss: 0.4908 - val_accuracy: 0.8252 - 2s/epoch - 29ms/step\n",
      "Epoch 162/500\n",
      "57/57 - 2s - loss: 0.4963 - accuracy: 0.8190 - val_loss: 0.4894 - val_accuracy: 0.8252 - 2s/epoch - 40ms/step\n",
      "Epoch 163/500\n",
      "57/57 - 2s - loss: 0.4949 - accuracy: 0.8084 - val_loss: 0.4894 - val_accuracy: 0.8252 - 2s/epoch - 38ms/step\n",
      "Epoch 164/500\n",
      "57/57 - 3s - loss: 0.4945 - accuracy: 0.8207 - val_loss: 0.4886 - val_accuracy: 0.8322 - 3s/epoch - 46ms/step\n",
      "Epoch 165/500\n",
      "57/57 - 3s - loss: 0.4917 - accuracy: 0.8155 - val_loss: 0.4884 - val_accuracy: 0.8322 - 3s/epoch - 46ms/step\n",
      "Epoch 166/500\n",
      "57/57 - 3s - loss: 0.4918 - accuracy: 0.8190 - val_loss: 0.4875 - val_accuracy: 0.8322 - 3s/epoch - 45ms/step\n",
      "Epoch 167/500\n",
      "57/57 - 2s - loss: 0.4893 - accuracy: 0.8190 - val_loss: 0.4876 - val_accuracy: 0.8322 - 2s/epoch - 43ms/step\n",
      "Epoch 168/500\n",
      "57/57 - 3s - loss: 0.4888 - accuracy: 0.8172 - val_loss: 0.4863 - val_accuracy: 0.8392 - 3s/epoch - 46ms/step\n",
      "Epoch 169/500\n",
      "57/57 - 3s - loss: 0.4924 - accuracy: 0.8172 - val_loss: 0.4867 - val_accuracy: 0.8322 - 3s/epoch - 54ms/step\n",
      "Epoch 170/500\n",
      "57/57 - 2s - loss: 0.4883 - accuracy: 0.8137 - val_loss: 0.4860 - val_accuracy: 0.8322 - 2s/epoch - 41ms/step\n",
      "Epoch 171/500\n",
      "57/57 - 3s - loss: 0.4892 - accuracy: 0.8225 - val_loss: 0.4861 - val_accuracy: 0.8252 - 3s/epoch - 45ms/step\n",
      "Epoch 172/500\n",
      "57/57 - 3s - loss: 0.4877 - accuracy: 0.8243 - val_loss: 0.4850 - val_accuracy: 0.8322 - 3s/epoch - 47ms/step\n",
      "Epoch 173/500\n",
      "57/57 - 2s - loss: 0.4884 - accuracy: 0.8172 - val_loss: 0.4843 - val_accuracy: 0.8392 - 2s/epoch - 38ms/step\n",
      "Epoch 174/500\n",
      "57/57 - 2s - loss: 0.4863 - accuracy: 0.8207 - val_loss: 0.4852 - val_accuracy: 0.8322 - 2s/epoch - 42ms/step\n",
      "Epoch 175/500\n",
      "57/57 - 3s - loss: 0.4853 - accuracy: 0.8172 - val_loss: 0.4848 - val_accuracy: 0.8252 - 3s/epoch - 48ms/step\n",
      "Epoch 176/500\n",
      "57/57 - 2s - loss: 0.4863 - accuracy: 0.8207 - val_loss: 0.4843 - val_accuracy: 0.8322 - 2s/epoch - 42ms/step\n",
      "Epoch 177/500\n",
      "57/57 - 2s - loss: 0.4862 - accuracy: 0.8243 - val_loss: 0.4840 - val_accuracy: 0.8252 - 2s/epoch - 34ms/step\n",
      "Epoch 178/500\n",
      "57/57 - 2s - loss: 0.4852 - accuracy: 0.8172 - val_loss: 0.4834 - val_accuracy: 0.8322 - 2s/epoch - 38ms/step\n",
      "Epoch 179/500\n",
      "57/57 - 2s - loss: 0.4842 - accuracy: 0.8225 - val_loss: 0.4821 - val_accuracy: 0.8392 - 2s/epoch - 41ms/step\n",
      "Epoch 180/500\n",
      "57/57 - 3s - loss: 0.4854 - accuracy: 0.8207 - val_loss: 0.4822 - val_accuracy: 0.8322 - 3s/epoch - 45ms/step\n",
      "Epoch 181/500\n",
      "57/57 - 3s - loss: 0.4846 - accuracy: 0.8155 - val_loss: 0.4836 - val_accuracy: 0.8252 - 3s/epoch - 54ms/step\n",
      "Epoch 182/500\n",
      "57/57 - 2s - loss: 0.4843 - accuracy: 0.8225 - val_loss: 0.4822 - val_accuracy: 0.8252 - 2s/epoch - 42ms/step\n",
      "Epoch 183/500\n",
      "57/57 - 2s - loss: 0.4852 - accuracy: 0.8190 - val_loss: 0.4814 - val_accuracy: 0.8322 - 2s/epoch - 42ms/step\n",
      "Epoch 184/500\n",
      "57/57 - 2s - loss: 0.4819 - accuracy: 0.8172 - val_loss: 0.4807 - val_accuracy: 0.8392 - 2s/epoch - 38ms/step\n",
      "Epoch 185/500\n",
      "57/57 - 2s - loss: 0.4814 - accuracy: 0.8190 - val_loss: 0.4816 - val_accuracy: 0.8252 - 2s/epoch - 39ms/step\n",
      "Epoch 186/500\n",
      "57/57 - 2s - loss: 0.4809 - accuracy: 0.8225 - val_loss: 0.4803 - val_accuracy: 0.8322 - 2s/epoch - 39ms/step\n",
      "Epoch 187/500\n",
      "57/57 - 3s - loss: 0.4817 - accuracy: 0.8190 - val_loss: 0.4797 - val_accuracy: 0.8392 - 3s/epoch - 59ms/step\n",
      "Epoch 188/500\n",
      "57/57 - 4s - loss: 0.4808 - accuracy: 0.8207 - val_loss: 0.4793 - val_accuracy: 0.8322 - 4s/epoch - 62ms/step\n",
      "Epoch 189/500\n",
      "57/57 - 3s - loss: 0.4824 - accuracy: 0.8137 - val_loss: 0.4796 - val_accuracy: 0.8322 - 3s/epoch - 48ms/step\n",
      "Epoch 190/500\n",
      "57/57 - 2s - loss: 0.4811 - accuracy: 0.8243 - val_loss: 0.4791 - val_accuracy: 0.8392 - 2s/epoch - 41ms/step\n",
      "Epoch 191/500\n",
      "57/57 - 3s - loss: 0.4790 - accuracy: 0.8207 - val_loss: 0.4792 - val_accuracy: 0.8322 - 3s/epoch - 45ms/step\n",
      "Epoch 192/500\n",
      "57/57 - 4s - loss: 0.4814 - accuracy: 0.8155 - val_loss: 0.4789 - val_accuracy: 0.8322 - 4s/epoch - 77ms/step\n",
      "Epoch 193/500\n",
      "57/57 - 3s - loss: 0.4797 - accuracy: 0.8172 - val_loss: 0.4777 - val_accuracy: 0.8392 - 3s/epoch - 47ms/step\n",
      "Epoch 194/500\n",
      "57/57 - 3s - loss: 0.4779 - accuracy: 0.8155 - val_loss: 0.4782 - val_accuracy: 0.8322 - 3s/epoch - 56ms/step\n",
      "Epoch 195/500\n",
      "57/57 - 3s - loss: 0.4762 - accuracy: 0.8172 - val_loss: 0.4780 - val_accuracy: 0.8322 - 3s/epoch - 54ms/step\n",
      "Epoch 196/500\n",
      "57/57 - 3s - loss: 0.4786 - accuracy: 0.8225 - val_loss: 0.4777 - val_accuracy: 0.8322 - 3s/epoch - 51ms/step\n",
      "Epoch 197/500\n",
      "57/57 - 3s - loss: 0.4793 - accuracy: 0.8120 - val_loss: 0.4764 - val_accuracy: 0.8322 - 3s/epoch - 47ms/step\n",
      "Epoch 198/500\n",
      "57/57 - 2s - loss: 0.4772 - accuracy: 0.8172 - val_loss: 0.4779 - val_accuracy: 0.8322 - 2s/epoch - 38ms/step\n",
      "Epoch 199/500\n",
      "57/57 - 3s - loss: 0.4775 - accuracy: 0.8137 - val_loss: 0.4767 - val_accuracy: 0.8322 - 3s/epoch - 46ms/step\n",
      "Epoch 200/500\n",
      "57/57 - 3s - loss: 0.4780 - accuracy: 0.8207 - val_loss: 0.4761 - val_accuracy: 0.8322 - 3s/epoch - 54ms/step\n",
      "Epoch 201/500\n",
      "57/57 - 2s - loss: 0.4765 - accuracy: 0.8207 - val_loss: 0.4768 - val_accuracy: 0.8322 - 2s/epoch - 42ms/step\n",
      "Epoch 202/500\n",
      "57/57 - 3s - loss: 0.4765 - accuracy: 0.8243 - val_loss: 0.4752 - val_accuracy: 0.8322 - 3s/epoch - 58ms/step\n",
      "Epoch 203/500\n",
      "57/57 - 3s - loss: 0.4768 - accuracy: 0.8225 - val_loss: 0.4757 - val_accuracy: 0.8322 - 3s/epoch - 53ms/step\n",
      "Epoch 204/500\n",
      "57/57 - 3s - loss: 0.4753 - accuracy: 0.8120 - val_loss: 0.4770 - val_accuracy: 0.8252 - 3s/epoch - 50ms/step\n",
      "Epoch 205/500\n",
      "57/57 - 2s - loss: 0.4745 - accuracy: 0.8190 - val_loss: 0.4754 - val_accuracy: 0.8322 - 2s/epoch - 34ms/step\n",
      "Epoch 206/500\n",
      "57/57 - 2s - loss: 0.4745 - accuracy: 0.8225 - val_loss: 0.4748 - val_accuracy: 0.8322 - 2s/epoch - 37ms/step\n",
      "Epoch 207/500\n",
      "57/57 - 2s - loss: 0.4748 - accuracy: 0.8190 - val_loss: 0.4735 - val_accuracy: 0.8392 - 2s/epoch - 38ms/step\n",
      "Epoch 208/500\n",
      "57/57 - 2s - loss: 0.4760 - accuracy: 0.8137 - val_loss: 0.4738 - val_accuracy: 0.8322 - 2s/epoch - 40ms/step\n",
      "Epoch 209/500\n",
      "57/57 - 2s - loss: 0.4719 - accuracy: 0.8225 - val_loss: 0.4743 - val_accuracy: 0.8322 - 2s/epoch - 35ms/step\n",
      "Epoch 210/500\n",
      "57/57 - 2s - loss: 0.4720 - accuracy: 0.8155 - val_loss: 0.4732 - val_accuracy: 0.8322 - 2s/epoch - 35ms/step\n",
      "Epoch 211/500\n",
      "57/57 - 2s - loss: 0.4707 - accuracy: 0.8172 - val_loss: 0.4737 - val_accuracy: 0.8322 - 2s/epoch - 38ms/step\n",
      "Epoch 212/500\n",
      "57/57 - 2s - loss: 0.4743 - accuracy: 0.8243 - val_loss: 0.4740 - val_accuracy: 0.8322 - 2s/epoch - 35ms/step\n",
      "Epoch 213/500\n",
      "57/57 - 2s - loss: 0.4720 - accuracy: 0.8190 - val_loss: 0.4741 - val_accuracy: 0.8322 - 2s/epoch - 35ms/step\n",
      "Epoch 214/500\n",
      "57/57 - 2s - loss: 0.4710 - accuracy: 0.8207 - val_loss: 0.4724 - val_accuracy: 0.8322 - 2s/epoch - 34ms/step\n",
      "Epoch 215/500\n",
      "57/57 - 2s - loss: 0.4706 - accuracy: 0.8190 - val_loss: 0.4733 - val_accuracy: 0.8322 - 2s/epoch - 31ms/step\n",
      "Epoch 216/500\n",
      "57/57 - 2s - loss: 0.4726 - accuracy: 0.8243 - val_loss: 0.4717 - val_accuracy: 0.8322 - 2s/epoch - 34ms/step\n",
      "Epoch 217/500\n",
      "57/57 - 2s - loss: 0.4716 - accuracy: 0.8207 - val_loss: 0.4718 - val_accuracy: 0.8322 - 2s/epoch - 33ms/step\n",
      "Epoch 218/500\n",
      "57/57 - 2s - loss: 0.4713 - accuracy: 0.8172 - val_loss: 0.4719 - val_accuracy: 0.8322 - 2s/epoch - 34ms/step\n",
      "Epoch 219/500\n",
      "57/57 - 2s - loss: 0.4680 - accuracy: 0.8155 - val_loss: 0.4722 - val_accuracy: 0.8322 - 2s/epoch - 33ms/step\n",
      "Epoch 220/500\n",
      "57/57 - 2s - loss: 0.4704 - accuracy: 0.8120 - val_loss: 0.4707 - val_accuracy: 0.8392 - 2s/epoch - 35ms/step\n",
      "Epoch 221/500\n",
      "57/57 - 2s - loss: 0.4737 - accuracy: 0.8155 - val_loss: 0.4704 - val_accuracy: 0.8322 - 2s/epoch - 33ms/step\n",
      "Epoch 222/500\n",
      "57/57 - 2s - loss: 0.4687 - accuracy: 0.8207 - val_loss: 0.4701 - val_accuracy: 0.8392 - 2s/epoch - 34ms/step\n",
      "Epoch 223/500\n",
      "57/57 - 2s - loss: 0.4654 - accuracy: 0.8172 - val_loss: 0.4702 - val_accuracy: 0.8322 - 2s/epoch - 42ms/step\n",
      "Epoch 224/500\n",
      "57/57 - 2s - loss: 0.4684 - accuracy: 0.8243 - val_loss: 0.4695 - val_accuracy: 0.8322 - 2s/epoch - 35ms/step\n",
      "Epoch 225/500\n",
      "57/57 - 2s - loss: 0.4706 - accuracy: 0.8207 - val_loss: 0.4691 - val_accuracy: 0.8322 - 2s/epoch - 36ms/step\n",
      "Epoch 226/500\n",
      "57/57 - 2s - loss: 0.4694 - accuracy: 0.8207 - val_loss: 0.4691 - val_accuracy: 0.8322 - 2s/epoch - 33ms/step\n",
      "Epoch 227/500\n",
      "57/57 - 2s - loss: 0.4698 - accuracy: 0.8172 - val_loss: 0.4696 - val_accuracy: 0.8322 - 2s/epoch - 34ms/step\n",
      "Epoch 228/500\n",
      "57/57 - 2s - loss: 0.4687 - accuracy: 0.8155 - val_loss: 0.4689 - val_accuracy: 0.8322 - 2s/epoch - 34ms/step\n",
      "Epoch 229/500\n",
      "57/57 - 2s - loss: 0.4659 - accuracy: 0.8190 - val_loss: 0.4684 - val_accuracy: 0.8392 - 2s/epoch - 30ms/step\n",
      "Epoch 230/500\n",
      "57/57 - 2s - loss: 0.4677 - accuracy: 0.8225 - val_loss: 0.4682 - val_accuracy: 0.8322 - 2s/epoch - 32ms/step\n",
      "Epoch 231/500\n",
      "57/57 - 2s - loss: 0.4664 - accuracy: 0.8190 - val_loss: 0.4681 - val_accuracy: 0.8322 - 2s/epoch - 32ms/step\n",
      "Epoch 232/500\n",
      "57/57 - 2s - loss: 0.4660 - accuracy: 0.8243 - val_loss: 0.4684 - val_accuracy: 0.8322 - 2s/epoch - 28ms/step\n",
      "Epoch 233/500\n",
      "57/57 - 2s - loss: 0.4667 - accuracy: 0.8190 - val_loss: 0.4681 - val_accuracy: 0.8322 - 2s/epoch - 32ms/step\n",
      "Epoch 234/500\n",
      "57/57 - 2s - loss: 0.4666 - accuracy: 0.8243 - val_loss: 0.4682 - val_accuracy: 0.8322 - 2s/epoch - 29ms/step\n",
      "Epoch 235/500\n",
      "57/57 - 2s - loss: 0.4619 - accuracy: 0.8260 - val_loss: 0.4677 - val_accuracy: 0.8322 - 2s/epoch - 31ms/step\n",
      "Epoch 236/500\n",
      "57/57 - 2s - loss: 0.4686 - accuracy: 0.8155 - val_loss: 0.4669 - val_accuracy: 0.8392 - 2s/epoch - 30ms/step\n",
      "Epoch 237/500\n",
      "57/57 - 2s - loss: 0.4655 - accuracy: 0.8243 - val_loss: 0.4675 - val_accuracy: 0.8322 - 2s/epoch - 28ms/step\n",
      "Epoch 238/500\n",
      "57/57 - 2s - loss: 0.4645 - accuracy: 0.8207 - val_loss: 0.4667 - val_accuracy: 0.8322 - 2s/epoch - 27ms/step\n",
      "Epoch 239/500\n",
      "57/57 - 2s - loss: 0.4620 - accuracy: 0.8190 - val_loss: 0.4661 - val_accuracy: 0.8322 - 2s/epoch - 28ms/step\n",
      "Epoch 240/500\n",
      "57/57 - 2s - loss: 0.4647 - accuracy: 0.8190 - val_loss: 0.4660 - val_accuracy: 0.8322 - 2s/epoch - 28ms/step\n",
      "Epoch 241/500\n",
      "57/57 - 1s - loss: 0.4676 - accuracy: 0.8084 - val_loss: 0.4661 - val_accuracy: 0.8322 - 1s/epoch - 25ms/step\n",
      "Epoch 242/500\n",
      "57/57 - 1s - loss: 0.4640 - accuracy: 0.8207 - val_loss: 0.4658 - val_accuracy: 0.8322 - 1s/epoch - 25ms/step\n",
      "Epoch 243/500\n",
      "57/57 - 1s - loss: 0.4643 - accuracy: 0.8172 - val_loss: 0.4660 - val_accuracy: 0.8322 - 1s/epoch - 25ms/step\n",
      "Epoch 244/500\n",
      "57/57 - 1s - loss: 0.4633 - accuracy: 0.8207 - val_loss: 0.4666 - val_accuracy: 0.8322 - 1s/epoch - 25ms/step\n",
      "Epoch 245/500\n",
      "57/57 - 1s - loss: 0.4607 - accuracy: 0.8190 - val_loss: 0.4661 - val_accuracy: 0.8322 - 1s/epoch - 24ms/step\n",
      "Epoch 246/500\n",
      "57/57 - 1s - loss: 0.4623 - accuracy: 0.8207 - val_loss: 0.4647 - val_accuracy: 0.8322 - 1s/epoch - 22ms/step\n",
      "Epoch 247/500\n",
      "57/57 - 1s - loss: 0.4616 - accuracy: 0.8225 - val_loss: 0.4661 - val_accuracy: 0.8322 - 1s/epoch - 26ms/step\n",
      "Epoch 248/500\n",
      "57/57 - 2s - loss: 0.4636 - accuracy: 0.8207 - val_loss: 0.4657 - val_accuracy: 0.8322 - 2s/epoch - 31ms/step\n",
      "Epoch 249/500\n",
      "57/57 - 2s - loss: 0.4604 - accuracy: 0.8243 - val_loss: 0.4638 - val_accuracy: 0.8392 - 2s/epoch - 27ms/step\n",
      "Epoch 250/500\n",
      "57/57 - 2s - loss: 0.4634 - accuracy: 0.8225 - val_loss: 0.4652 - val_accuracy: 0.8322 - 2s/epoch - 34ms/step\n",
      "Epoch 251/500\n",
      "57/57 - 2s - loss: 0.4608 - accuracy: 0.8207 - val_loss: 0.4639 - val_accuracy: 0.8322 - 2s/epoch - 32ms/step\n",
      "Epoch 252/500\n",
      "57/57 - 2s - loss: 0.4626 - accuracy: 0.8225 - val_loss: 0.4646 - val_accuracy: 0.8322 - 2s/epoch - 27ms/step\n",
      "Epoch 253/500\n",
      "57/57 - 2s - loss: 0.4588 - accuracy: 0.8260 - val_loss: 0.4645 - val_accuracy: 0.8322 - 2s/epoch - 28ms/step\n",
      "Epoch 254/500\n",
      "57/57 - 2s - loss: 0.4632 - accuracy: 0.8225 - val_loss: 0.4636 - val_accuracy: 0.8322 - 2s/epoch - 33ms/step\n",
      "Epoch 255/500\n",
      "57/57 - 2s - loss: 0.4613 - accuracy: 0.8190 - val_loss: 0.4627 - val_accuracy: 0.8392 - 2s/epoch - 32ms/step\n",
      "Epoch 256/500\n",
      "57/57 - 2s - loss: 0.4615 - accuracy: 0.8207 - val_loss: 0.4626 - val_accuracy: 0.8322 - 2s/epoch - 27ms/step\n",
      "Epoch 257/500\n",
      "57/57 - 2s - loss: 0.4589 - accuracy: 0.8120 - val_loss: 0.4634 - val_accuracy: 0.8322 - 2s/epoch - 28ms/step\n",
      "Epoch 258/500\n",
      "57/57 - 2s - loss: 0.4618 - accuracy: 0.8172 - val_loss: 0.4632 - val_accuracy: 0.8322 - 2s/epoch - 28ms/step\n",
      "Epoch 259/500\n",
      "57/57 - 2s - loss: 0.4610 - accuracy: 0.8120 - val_loss: 0.4629 - val_accuracy: 0.8322 - 2s/epoch - 30ms/step\n",
      "Epoch 260/500\n",
      "57/57 - 2s - loss: 0.4589 - accuracy: 0.8172 - val_loss: 0.4618 - val_accuracy: 0.8392 - 2s/epoch - 28ms/step\n",
      "Epoch 261/500\n",
      "57/57 - 1s - loss: 0.4611 - accuracy: 0.8225 - val_loss: 0.4616 - val_accuracy: 0.8322 - 1s/epoch - 26ms/step\n",
      "Epoch 262/500\n",
      "57/57 - 1s - loss: 0.4620 - accuracy: 0.8172 - val_loss: 0.4625 - val_accuracy: 0.8322 - 1s/epoch - 25ms/step\n",
      "Epoch 263/500\n",
      "57/57 - 2s - loss: 0.4595 - accuracy: 0.8207 - val_loss: 0.4620 - val_accuracy: 0.8322 - 2s/epoch - 29ms/step\n",
      "Epoch 264/500\n",
      "57/57 - 2s - loss: 0.4545 - accuracy: 0.8260 - val_loss: 0.4618 - val_accuracy: 0.8322 - 2s/epoch - 27ms/step\n",
      "Epoch 265/500\n",
      "57/57 - 2s - loss: 0.4538 - accuracy: 0.8225 - val_loss: 0.4615 - val_accuracy: 0.8322 - 2s/epoch - 28ms/step\n",
      "Epoch 266/500\n",
      "57/57 - 2s - loss: 0.4584 - accuracy: 0.8207 - val_loss: 0.4619 - val_accuracy: 0.8322 - 2s/epoch - 29ms/step\n",
      "Epoch 267/500\n",
      "57/57 - 2s - loss: 0.4568 - accuracy: 0.8330 - val_loss: 0.4616 - val_accuracy: 0.8322 - 2s/epoch - 30ms/step\n",
      "Epoch 268/500\n",
      "57/57 - 2s - loss: 0.4601 - accuracy: 0.8225 - val_loss: 0.4606 - val_accuracy: 0.8322 - 2s/epoch - 33ms/step\n",
      "Epoch 269/500\n",
      "57/57 - 2s - loss: 0.4592 - accuracy: 0.8225 - val_loss: 0.4599 - val_accuracy: 0.8392 - 2s/epoch - 42ms/step\n",
      "Epoch 270/500\n",
      "57/57 - 2s - loss: 0.4553 - accuracy: 0.8295 - val_loss: 0.4605 - val_accuracy: 0.8322 - 2s/epoch - 33ms/step\n",
      "Epoch 271/500\n",
      "57/57 - 1s - loss: 0.4556 - accuracy: 0.8295 - val_loss: 0.4604 - val_accuracy: 0.8392 - 1s/epoch - 26ms/step\n",
      "Epoch 272/500\n",
      "57/57 - 2s - loss: 0.4554 - accuracy: 0.8260 - val_loss: 0.4601 - val_accuracy: 0.8322 - 2s/epoch - 30ms/step\n",
      "Epoch 273/500\n",
      "57/57 - 2s - loss: 0.4581 - accuracy: 0.8225 - val_loss: 0.4605 - val_accuracy: 0.8322 - 2s/epoch - 34ms/step\n",
      "Epoch 274/500\n",
      "57/57 - 2s - loss: 0.4552 - accuracy: 0.8190 - val_loss: 0.4609 - val_accuracy: 0.8322 - 2s/epoch - 29ms/step\n",
      "Epoch 275/500\n",
      "57/57 - 1s - loss: 0.4553 - accuracy: 0.8190 - val_loss: 0.4601 - val_accuracy: 0.8322 - 1s/epoch - 24ms/step\n",
      "Epoch 276/500\n",
      "57/57 - 1s - loss: 0.4552 - accuracy: 0.8278 - val_loss: 0.4599 - val_accuracy: 0.8322 - 1s/epoch - 21ms/step\n",
      "Epoch 277/500\n",
      "57/57 - 1s - loss: 0.4574 - accuracy: 0.8260 - val_loss: 0.4600 - val_accuracy: 0.8322 - 1s/epoch - 23ms/step\n",
      "Epoch 278/500\n",
      "57/57 - 1s - loss: 0.4550 - accuracy: 0.8172 - val_loss: 0.4596 - val_accuracy: 0.8322 - 1s/epoch - 20ms/step\n",
      "Epoch 279/500\n",
      "57/57 - 1s - loss: 0.4543 - accuracy: 0.8172 - val_loss: 0.4595 - val_accuracy: 0.8322 - 1s/epoch - 22ms/step\n",
      "Epoch 280/500\n",
      "57/57 - 1s - loss: 0.4556 - accuracy: 0.8190 - val_loss: 0.4588 - val_accuracy: 0.8322 - 1s/epoch - 20ms/step\n",
      "Epoch 281/500\n",
      "57/57 - 1s - loss: 0.4543 - accuracy: 0.8225 - val_loss: 0.4592 - val_accuracy: 0.8322 - 1s/epoch - 21ms/step\n",
      "Epoch 282/500\n",
      "57/57 - 1s - loss: 0.4545 - accuracy: 0.8295 - val_loss: 0.4582 - val_accuracy: 0.8322 - 1s/epoch - 19ms/step\n",
      "Epoch 283/500\n",
      "57/57 - 1s - loss: 0.4547 - accuracy: 0.8190 - val_loss: 0.4589 - val_accuracy: 0.8322 - 1s/epoch - 22ms/step\n",
      "Epoch 284/500\n",
      "57/57 - 1s - loss: 0.4544 - accuracy: 0.8225 - val_loss: 0.4597 - val_accuracy: 0.8322 - 1s/epoch - 21ms/step\n",
      "Epoch 285/500\n",
      "57/57 - 2s - loss: 0.4560 - accuracy: 0.8225 - val_loss: 0.4583 - val_accuracy: 0.8322 - 2s/epoch - 31ms/step\n",
      "Epoch 286/500\n",
      "57/57 - 2s - loss: 0.4521 - accuracy: 0.8155 - val_loss: 0.4579 - val_accuracy: 0.8322 - 2s/epoch - 42ms/step\n",
      "Epoch 287/500\n",
      "57/57 - 3s - loss: 0.4550 - accuracy: 0.8225 - val_loss: 0.4577 - val_accuracy: 0.8322 - 3s/epoch - 47ms/step\n",
      "Epoch 288/500\n",
      "57/57 - 2s - loss: 0.4541 - accuracy: 0.8243 - val_loss: 0.4577 - val_accuracy: 0.8322 - 2s/epoch - 42ms/step\n",
      "Epoch 289/500\n",
      "57/57 - 2s - loss: 0.4525 - accuracy: 0.8243 - val_loss: 0.4572 - val_accuracy: 0.8322 - 2s/epoch - 44ms/step\n",
      "Epoch 290/500\n",
      "57/57 - 2s - loss: 0.4534 - accuracy: 0.8172 - val_loss: 0.4580 - val_accuracy: 0.8322 - 2s/epoch - 37ms/step\n",
      "Epoch 291/500\n",
      "57/57 - 3s - loss: 0.4529 - accuracy: 0.8243 - val_loss: 0.4575 - val_accuracy: 0.8322 - 3s/epoch - 46ms/step\n",
      "Epoch 292/500\n",
      "57/57 - 2s - loss: 0.4529 - accuracy: 0.8225 - val_loss: 0.4575 - val_accuracy: 0.8322 - 2s/epoch - 34ms/step\n",
      "Epoch 293/500\n",
      "57/57 - 2s - loss: 0.4554 - accuracy: 0.8260 - val_loss: 0.4568 - val_accuracy: 0.8322 - 2s/epoch - 37ms/step\n",
      "Epoch 294/500\n",
      "57/57 - 2s - loss: 0.4516 - accuracy: 0.8190 - val_loss: 0.4573 - val_accuracy: 0.8322 - 2s/epoch - 30ms/step\n",
      "Epoch 295/500\n",
      "57/57 - 2s - loss: 0.4525 - accuracy: 0.8243 - val_loss: 0.4564 - val_accuracy: 0.8322 - 2s/epoch - 40ms/step\n",
      "Epoch 296/500\n",
      "57/57 - 2s - loss: 0.4504 - accuracy: 0.8243 - val_loss: 0.4566 - val_accuracy: 0.8322 - 2s/epoch - 34ms/step\n",
      "Epoch 297/500\n",
      "57/57 - 2s - loss: 0.4521 - accuracy: 0.8207 - val_loss: 0.4566 - val_accuracy: 0.8322 - 2s/epoch - 34ms/step\n",
      "Epoch 298/500\n",
      "57/57 - 2s - loss: 0.4525 - accuracy: 0.8172 - val_loss: 0.4573 - val_accuracy: 0.8322 - 2s/epoch - 29ms/step\n",
      "Epoch 299/500\n",
      "57/57 - 2s - loss: 0.4508 - accuracy: 0.8207 - val_loss: 0.4564 - val_accuracy: 0.8322 - 2s/epoch - 32ms/step\n",
      "Epoch 300/500\n",
      "57/57 - 2s - loss: 0.4507 - accuracy: 0.8243 - val_loss: 0.4564 - val_accuracy: 0.8322 - 2s/epoch - 42ms/step\n",
      "Epoch 301/500\n",
      "57/57 - 2s - loss: 0.4536 - accuracy: 0.8225 - val_loss: 0.4557 - val_accuracy: 0.8322 - 2s/epoch - 39ms/step\n",
      "Epoch 302/500\n",
      "57/57 - 2s - loss: 0.4520 - accuracy: 0.8207 - val_loss: 0.4551 - val_accuracy: 0.8392 - 2s/epoch - 42ms/step\n",
      "Epoch 303/500\n",
      "57/57 - 3s - loss: 0.4510 - accuracy: 0.8190 - val_loss: 0.4550 - val_accuracy: 0.8392 - 3s/epoch - 47ms/step\n",
      "Epoch 304/500\n",
      "57/57 - 2s - loss: 0.4528 - accuracy: 0.8190 - val_loss: 0.4558 - val_accuracy: 0.8322 - 2s/epoch - 31ms/step\n",
      "Epoch 305/500\n",
      "57/57 - 2s - loss: 0.4510 - accuracy: 0.8207 - val_loss: 0.4555 - val_accuracy: 0.8322 - 2s/epoch - 27ms/step\n",
      "Epoch 306/500\n",
      "57/57 - 2s - loss: 0.4512 - accuracy: 0.8190 - val_loss: 0.4555 - val_accuracy: 0.8322 - 2s/epoch - 33ms/step\n",
      "Epoch 307/500\n",
      "57/57 - 1s - loss: 0.4502 - accuracy: 0.8225 - val_loss: 0.4557 - val_accuracy: 0.8322 - 1s/epoch - 25ms/step\n",
      "Epoch 308/500\n",
      "57/57 - 2s - loss: 0.4527 - accuracy: 0.8243 - val_loss: 0.4553 - val_accuracy: 0.8322 - 2s/epoch - 41ms/step\n",
      "Epoch 309/500\n",
      "57/57 - 2s - loss: 0.4478 - accuracy: 0.8295 - val_loss: 0.4554 - val_accuracy: 0.8322 - 2s/epoch - 42ms/step\n",
      "Epoch 310/500\n",
      "57/57 - 2s - loss: 0.4522 - accuracy: 0.8207 - val_loss: 0.4556 - val_accuracy: 0.8322 - 2s/epoch - 35ms/step\n",
      "Epoch 311/500\n",
      "57/57 - 2s - loss: 0.4515 - accuracy: 0.8260 - val_loss: 0.4554 - val_accuracy: 0.8322 - 2s/epoch - 32ms/step\n",
      "Epoch 312/500\n",
      "57/57 - 2s - loss: 0.4518 - accuracy: 0.8225 - val_loss: 0.4551 - val_accuracy: 0.8322 - 2s/epoch - 29ms/step\n",
      "Epoch 313/500\n",
      "57/57 - 2s - loss: 0.4499 - accuracy: 0.8207 - val_loss: 0.4553 - val_accuracy: 0.8322 - 2s/epoch - 33ms/step\n"
     ]
    }
   ],
   "source": [
    "# modelo 1\n",
    "# aplicar regularizadores L1 y L2\n",
    "\n",
    "model1 = Sequential()\n",
    "model1.add(Dense(32, input_shape=(X_train.shape[1],), kernel_initializer='normal', activation='LeakyReLU'))\n",
    "model1.add(Dense(128, kernel_initializer='normal', kernel_regularizer=regularizers.L1L2(l1=1e-4, l2=1e-3), activation='LeakyReLU'))\n",
    "model1.add(Dropout(0.1))\n",
    "model1.add(Dense(128, kernel_initializer='normal', kernel_regularizer=regularizers.L1L2(l1=1e-4, l2=1e-3), activation='LeakyReLU'))\n",
    "model1.add(Dropout(0.1))\n",
    "model1.add(Dense(1, kernel_initializer='normal', activation='sigmoid'))\n",
    "\n",
    "optimizer = tf.keras.optimizers.Adamax(learning_rate=0.0001)\n",
    "model1.compile(loss='binary_crossentropy', optimizer=optimizer, metrics=['accuracy']) \n",
    "\n",
    "early_stopping_monitor =  EarlyStopping(patience=10)\n",
    "history1 = model1.fit(X_train, y_train, batch_size=10, epochs=500, verbose=2, validation_split=0.2, callbacks = [early_stopping_monitor])"
   ]
  },
  {
   "cell_type": "code",
   "execution_count": 175,
   "metadata": {},
   "outputs": [],
   "source": [
    "train_loss = history1.history['loss']\n",
    "val_loss = history1.history['val_loss']"
   ]
  },
  {
   "cell_type": "code",
   "execution_count": 176,
   "metadata": {},
   "outputs": [
    {
     "data": {
      "text/plain": [
       "Text(0.5, 1.0, 'Pérdida')"
      ]
     },
     "execution_count": 176,
     "metadata": {},
     "output_type": "execute_result"
    },
    {
     "data": {
      "image/png": "[encoded data removed]",
      "text/plain": [
       "<Figure size 640x480 with 1 Axes>"
      ]
     },
     "metadata": {},
     "output_type": "display_data"
    }
   ],
   "source": [
    "epochs = list(range(1, len(train_loss) + 1))\n",
    "\n",
    "#Plotear la función de pérdida de entrenamiento y validación\n",
    "\n",
    "plt.plot(epochs, train_loss, label = 'Training Loss')\n",
    "plt.plot(epochs, val_loss, label = 'Validation Loss')\n",
    "plt.xlabel('Epochs')\n",
    "plt.ylabel('Loss')\n",
    "plt.legend()\n",
    "plt.title('Pérdida')"
   ]
  },
  {
   "cell_type": "code",
   "execution_count": 177,
   "metadata": {},
   "outputs": [
    {
     "name": "stdout",
     "output_type": "stream",
     "text": [
      "6/6 [==============================] - 0s 5ms/step\n",
      "              precision    recall  f1-score   support\n",
      "\n",
      "         0.0       0.83      0.89      0.86       113\n",
      "         1.0       0.79      0.70      0.74        66\n",
      "\n",
      "    accuracy                           0.82       179\n",
      "   macro avg       0.81      0.80      0.80       179\n",
      "weighted avg       0.82      0.82      0.82       179\n",
      "\n",
      "[[101  12]\n",
      " [ 20  46]]\n"
     ]
    }
   ],
   "source": [
    "threshold = 0.5\n",
    "y_pred = model1.predict(X_test)\n",
    "\n",
    "y_pred_bin = (y_pred >= threshold).astype(int)\n",
    "\n",
    "print(classification_report(y_test, y_pred_bin))\n",
    "print(confusion_matrix(y_test, y_pred_bin))"
   ]
  },
  {
   "cell_type": "code",
   "execution_count": null,
   "metadata": {},
   "outputs": [],
   "source": [
    "# Hacer predicciones en el conjunto de prueba con el modelo ensamblado 1\n",
    "threshold = 0.5\n",
    "y_pred = best_model.predict(test_esc)\n",
    "\n",
    "y_pred_bin = (y_pred >= threshold).astype(int)"
   ]
  },
  {
   "cell_type": "code",
   "execution_count": null,
   "metadata": {},
   "outputs": [],
   "source": [
    "y_pred_bin = pd.DataFrame(y_pred_bin)\n",
    "columnas = ['Survived']\n",
    "y_pred_bin.columns = columnas"
   ]
  },
  {
   "cell_type": "code",
   "execution_count": null,
   "metadata": {},
   "outputs": [],
   "source": [
    "y_pred_bin.info()"
   ]
  },
  {
   "cell_type": "code",
   "execution_count": null,
   "metadata": {},
   "outputs": [],
   "source": [
    "y_pred_bin.value_counts()"
   ]
  },
  {
   "cell_type": "code",
   "execution_count": null,
   "metadata": {},
   "outputs": [],
   "source": [
    "test_data = pd.read_csv('./test.csv')\n",
    "id = pd.DataFrame(test_data['PassengerId'])"
   ]
  },
  {
   "cell_type": "code",
   "execution_count": null,
   "metadata": {},
   "outputs": [],
   "source": [
    "predic"
   ]
  },
  {
   "cell_type": "code",
   "execution_count": null,
   "metadata": {},
   "outputs": [],
   "source": [
    "predic.to_csv('submission_CL_21.csv', index=False)"
   ]
  },
  {
   "cell_type": "code",
   "execution_count": null,
   "metadata": {},
   "outputs": [],
   "source": []
  },
  {
   "cell_type": "code",
   "execution_count": null,
   "metadata": {},
   "outputs": [],
   "source": []
  },
  {
   "attachments": {},
   "cell_type": "markdown",
   "metadata": {},
   "source": [
    "### Probaré realizar un Pipeline que reduce que optimiza el modelo mediante la reducción de variables con K-Means"
   ]
  },
  {
   "attachments": {},
   "cell_type": "markdown",
   "metadata": {},
   "source": [
    "Probar:  \n",
    "Eliminar Deck, luego aplicar KNN  \n",
    "Regresión Logística  \n",
    "Considerar solo variables categóricas  \n",
    "\n",
    "12.06.2023 El ensamblado_1 obtuvo una puntuación dfe 0.7775 en Kaggle, mejor hasta el momento"
   ]
  },
  {
   "attachments": {},
   "cell_type": "markdown",
   "metadata": {},
   "source": [
    "19-06-2023  \n",
    "Tengo la impresión de que los modelos están sobreajustados por la pasada de características del data set de prueba.  \n",
    "Próximo paso trabajar las muestras 100% por separado"
   ]
  },
  {
   "attachments": {},
   "cell_type": "markdown",
   "metadata": {},
   "source": []
  }
 ],
 "metadata": {
  "kernelspec": {
   "display_name": "Python 3",
   "language": "python",
   "name": "python3"
  },
  "language_info": {
   "codemirror_mode": {
    "name": "ipython",
    "version": 3
   },
   "file_extension": ".py",
   "mimetype": "text/x-python",
   "name": "python",
   "nbconvert_exporter": "python",
   "pygments_lexer": "ipython3",
   "version": "3.10.8"
  },
  "orig_nbformat": 4
 },
 "nbformat": 4,
 "nbformat_minor": 2
}
